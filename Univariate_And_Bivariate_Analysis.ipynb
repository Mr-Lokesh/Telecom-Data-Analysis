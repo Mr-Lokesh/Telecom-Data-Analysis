{
 "cells": [
  {
   "cell_type": "code",
   "execution_count": 2,
   "metadata": {},
   "outputs": [],
   "source": [
    "import numpy as np\n",
    "import pandas as pd\n",
    "import matplotlib.pyplot as plt\n",
    "import seaborn as sns"
   ]
  },
  {
   "cell_type": "code",
   "execution_count": 3,
   "metadata": {},
   "outputs": [
    {
     "data": {
      "text/html": [
       "<div>\n",
       "<style scoped>\n",
       "    .dataframe tbody tr th:only-of-type {\n",
       "        vertical-align: middle;\n",
       "    }\n",
       "\n",
       "    .dataframe tbody tr th {\n",
       "        vertical-align: top;\n",
       "    }\n",
       "\n",
       "    .dataframe thead th {\n",
       "        text-align: right;\n",
       "    }\n",
       "</style>\n",
       "<table border=\"1\" class=\"dataframe\">\n",
       "  <thead>\n",
       "    <tr style=\"text-align: right;\">\n",
       "      <th></th>\n",
       "      <th>Unnamed: 0</th>\n",
       "      <th>Operator</th>\n",
       "      <th>In Out Travelling</th>\n",
       "      <th>Network Type</th>\n",
       "      <th>Rating</th>\n",
       "      <th>Call Drop Category</th>\n",
       "      <th>Latitude</th>\n",
       "      <th>Longitude</th>\n",
       "      <th>State Name</th>\n",
       "      <th>Average Data Speed Download</th>\n",
       "      <th>Average Signal Strength Download</th>\n",
       "      <th>Average Data Speed Upload</th>\n",
       "      <th>Average Signal Strength Upload</th>\n",
       "      <th>Population</th>\n",
       "      <th>Literacy Rate</th>\n",
       "      <th>Rainfall</th>\n",
       "      <th>Area of the state</th>\n",
       "    </tr>\n",
       "  </thead>\n",
       "  <tbody>\n",
       "    <tr>\n",
       "      <th>0</th>\n",
       "      <td>0</td>\n",
       "      <td>Airtel</td>\n",
       "      <td>Indoor</td>\n",
       "      <td>4G</td>\n",
       "      <td>3</td>\n",
       "      <td>Satisfactory</td>\n",
       "      <td>12.998502</td>\n",
       "      <td>77.672437</td>\n",
       "      <td>Karnataka</td>\n",
       "      <td>8807.910</td>\n",
       "      <td>-94.86</td>\n",
       "      <td>2591.08</td>\n",
       "      <td>-94.840</td>\n",
       "      <td>61130704.0</td>\n",
       "      <td>75.36</td>\n",
       "      <td>1248.0</td>\n",
       "      <td>191791.0</td>\n",
       "    </tr>\n",
       "    <tr>\n",
       "      <th>1</th>\n",
       "      <td>1</td>\n",
       "      <td>Vodafone</td>\n",
       "      <td>Indoor</td>\n",
       "      <td>4G</td>\n",
       "      <td>1</td>\n",
       "      <td>Call Dropped</td>\n",
       "      <td>23.554190</td>\n",
       "      <td>72.620110</td>\n",
       "      <td>Gujarat</td>\n",
       "      <td>6862.552</td>\n",
       "      <td>-91.96</td>\n",
       "      <td>4671.48</td>\n",
       "      <td>-91.920</td>\n",
       "      <td>60439692.0</td>\n",
       "      <td>78.03</td>\n",
       "      <td>842.5</td>\n",
       "      <td>196024.0</td>\n",
       "    </tr>\n",
       "    <tr>\n",
       "      <th>2</th>\n",
       "      <td>2</td>\n",
       "      <td>Airtel</td>\n",
       "      <td>Indoor</td>\n",
       "      <td>3G</td>\n",
       "      <td>1</td>\n",
       "      <td>Call Dropped</td>\n",
       "      <td>11.327329</td>\n",
       "      <td>76.749743</td>\n",
       "      <td>Tamil Nadu</td>\n",
       "      <td>1178.410</td>\n",
       "      <td>-85.03</td>\n",
       "      <td>968.58</td>\n",
       "      <td>-85.470</td>\n",
       "      <td>72147030.0</td>\n",
       "      <td>80.33</td>\n",
       "      <td>998.0</td>\n",
       "      <td>130060.0</td>\n",
       "    </tr>\n",
       "    <tr>\n",
       "      <th>3</th>\n",
       "      <td>3</td>\n",
       "      <td>Airtel</td>\n",
       "      <td>Indoor</td>\n",
       "      <td>4G</td>\n",
       "      <td>3</td>\n",
       "      <td>Satisfactory</td>\n",
       "      <td>22.279660</td>\n",
       "      <td>73.149369</td>\n",
       "      <td>Gujarat</td>\n",
       "      <td>5694.480</td>\n",
       "      <td>-89.39</td>\n",
       "      <td>2515.34</td>\n",
       "      <td>-89.515</td>\n",
       "      <td>60439692.0</td>\n",
       "      <td>78.03</td>\n",
       "      <td>842.5</td>\n",
       "      <td>196024.0</td>\n",
       "    </tr>\n",
       "    <tr>\n",
       "      <th>4</th>\n",
       "      <td>4</td>\n",
       "      <td>Airtel</td>\n",
       "      <td>Travelling</td>\n",
       "      <td>4G</td>\n",
       "      <td>3</td>\n",
       "      <td>Satisfactory</td>\n",
       "      <td>18.546344</td>\n",
       "      <td>73.819090</td>\n",
       "      <td>Maharashtra</td>\n",
       "      <td>10804.560</td>\n",
       "      <td>-94.05</td>\n",
       "      <td>4968.27</td>\n",
       "      <td>-94.110</td>\n",
       "      <td>112374333.0</td>\n",
       "      <td>82.34</td>\n",
       "      <td>1455.5</td>\n",
       "      <td>307713.0</td>\n",
       "    </tr>\n",
       "  </tbody>\n",
       "</table>\n",
       "</div>"
      ],
      "text/plain": [
       "   Unnamed: 0  Operator In Out Travelling Network Type  Rating  \\\n",
       "0           0    Airtel            Indoor           4G       3   \n",
       "1           1  Vodafone            Indoor           4G       1   \n",
       "2           2    Airtel            Indoor           3G       1   \n",
       "3           3    Airtel            Indoor           4G       3   \n",
       "4           4    Airtel        Travelling           4G       3   \n",
       "\n",
       "  Call Drop Category   Latitude  Longitude   State Name  \\\n",
       "0       Satisfactory  12.998502  77.672437    Karnataka   \n",
       "1       Call Dropped  23.554190  72.620110      Gujarat   \n",
       "2       Call Dropped  11.327329  76.749743   Tamil Nadu   \n",
       "3       Satisfactory  22.279660  73.149369      Gujarat   \n",
       "4       Satisfactory  18.546344  73.819090  Maharashtra   \n",
       "\n",
       "   Average Data Speed Download  Average Signal Strength Download  \\\n",
       "0                     8807.910                            -94.86   \n",
       "1                     6862.552                            -91.96   \n",
       "2                     1178.410                            -85.03   \n",
       "3                     5694.480                            -89.39   \n",
       "4                    10804.560                            -94.05   \n",
       "\n",
       "   Average Data Speed Upload  Average Signal Strength Upload   Population  \\\n",
       "0                    2591.08                         -94.840   61130704.0   \n",
       "1                    4671.48                         -91.920   60439692.0   \n",
       "2                     968.58                         -85.470   72147030.0   \n",
       "3                    2515.34                         -89.515   60439692.0   \n",
       "4                    4968.27                         -94.110  112374333.0   \n",
       "\n",
       "   Literacy Rate  Rainfall  Area of the state  \n",
       "0          75.36    1248.0           191791.0  \n",
       "1          78.03     842.5           196024.0  \n",
       "2          80.33     998.0           130060.0  \n",
       "3          78.03     842.5           196024.0  \n",
       "4          82.34    1455.5           307713.0  "
      ]
     },
     "execution_count": 3,
     "metadata": {},
     "output_type": "execute_result"
    }
   ],
   "source": [
    "data = pd.read_csv('Project6_data.csv')\n",
    "data.head()"
   ]
  },
  {
   "cell_type": "code",
   "execution_count": 4,
   "metadata": {},
   "outputs": [
    {
     "data": {
      "text/plain": [
       "Index(['Unnamed: 0', 'Operator', 'In Out Travelling', 'Network Type', 'Rating',\n",
       "       'Call Drop Category', 'Latitude', 'Longitude', 'State Name',\n",
       "       'Average Data Speed Download', 'Average Signal Strength Download',\n",
       "       'Average Data Speed Upload', 'Average Signal Strength Upload',\n",
       "       'Population', 'Literacy Rate', 'Rainfall', 'Area of the state'],\n",
       "      dtype='object')"
      ]
     },
     "execution_count": 4,
     "metadata": {},
     "output_type": "execute_result"
    }
   ],
   "source": [
    "data.columns"
   ]
  },
  {
   "cell_type": "code",
   "execution_count": 5,
   "metadata": {},
   "outputs": [
    {
     "data": {
      "text/html": [
       "<div>\n",
       "<style scoped>\n",
       "    .dataframe tbody tr th:only-of-type {\n",
       "        vertical-align: middle;\n",
       "    }\n",
       "\n",
       "    .dataframe tbody tr th {\n",
       "        vertical-align: top;\n",
       "    }\n",
       "\n",
       "    .dataframe thead th {\n",
       "        text-align: right;\n",
       "    }\n",
       "</style>\n",
       "<table border=\"1\" class=\"dataframe\">\n",
       "  <thead>\n",
       "    <tr style=\"text-align: right;\">\n",
       "      <th></th>\n",
       "      <th>Operator</th>\n",
       "      <th>In Out Travelling</th>\n",
       "      <th>Network Type</th>\n",
       "      <th>Rating</th>\n",
       "      <th>Call Drop Category</th>\n",
       "      <th>Latitude</th>\n",
       "      <th>Longitude</th>\n",
       "      <th>State Name</th>\n",
       "      <th>Average Data Speed Download</th>\n",
       "      <th>Average Signal Strength Download</th>\n",
       "      <th>Average Data Speed Upload</th>\n",
       "      <th>Average Signal Strength Upload</th>\n",
       "      <th>Population</th>\n",
       "      <th>Literacy Rate</th>\n",
       "      <th>Rainfall</th>\n",
       "      <th>Area of the state</th>\n",
       "    </tr>\n",
       "  </thead>\n",
       "  <tbody>\n",
       "    <tr>\n",
       "      <th>0</th>\n",
       "      <td>Airtel</td>\n",
       "      <td>Indoor</td>\n",
       "      <td>4G</td>\n",
       "      <td>3</td>\n",
       "      <td>Satisfactory</td>\n",
       "      <td>12.998502</td>\n",
       "      <td>77.672437</td>\n",
       "      <td>Karnataka</td>\n",
       "      <td>8807.910</td>\n",
       "      <td>-94.86</td>\n",
       "      <td>2591.08</td>\n",
       "      <td>-94.840</td>\n",
       "      <td>61130704.0</td>\n",
       "      <td>75.36</td>\n",
       "      <td>1248.0</td>\n",
       "      <td>191791.0</td>\n",
       "    </tr>\n",
       "    <tr>\n",
       "      <th>1</th>\n",
       "      <td>Vodafone</td>\n",
       "      <td>Indoor</td>\n",
       "      <td>4G</td>\n",
       "      <td>1</td>\n",
       "      <td>Call Dropped</td>\n",
       "      <td>23.554190</td>\n",
       "      <td>72.620110</td>\n",
       "      <td>Gujarat</td>\n",
       "      <td>6862.552</td>\n",
       "      <td>-91.96</td>\n",
       "      <td>4671.48</td>\n",
       "      <td>-91.920</td>\n",
       "      <td>60439692.0</td>\n",
       "      <td>78.03</td>\n",
       "      <td>842.5</td>\n",
       "      <td>196024.0</td>\n",
       "    </tr>\n",
       "    <tr>\n",
       "      <th>2</th>\n",
       "      <td>Airtel</td>\n",
       "      <td>Indoor</td>\n",
       "      <td>3G</td>\n",
       "      <td>1</td>\n",
       "      <td>Call Dropped</td>\n",
       "      <td>11.327329</td>\n",
       "      <td>76.749743</td>\n",
       "      <td>Tamil Nadu</td>\n",
       "      <td>1178.410</td>\n",
       "      <td>-85.03</td>\n",
       "      <td>968.58</td>\n",
       "      <td>-85.470</td>\n",
       "      <td>72147030.0</td>\n",
       "      <td>80.33</td>\n",
       "      <td>998.0</td>\n",
       "      <td>130060.0</td>\n",
       "    </tr>\n",
       "    <tr>\n",
       "      <th>3</th>\n",
       "      <td>Airtel</td>\n",
       "      <td>Indoor</td>\n",
       "      <td>4G</td>\n",
       "      <td>3</td>\n",
       "      <td>Satisfactory</td>\n",
       "      <td>22.279660</td>\n",
       "      <td>73.149369</td>\n",
       "      <td>Gujarat</td>\n",
       "      <td>5694.480</td>\n",
       "      <td>-89.39</td>\n",
       "      <td>2515.34</td>\n",
       "      <td>-89.515</td>\n",
       "      <td>60439692.0</td>\n",
       "      <td>78.03</td>\n",
       "      <td>842.5</td>\n",
       "      <td>196024.0</td>\n",
       "    </tr>\n",
       "    <tr>\n",
       "      <th>4</th>\n",
       "      <td>Airtel</td>\n",
       "      <td>Travelling</td>\n",
       "      <td>4G</td>\n",
       "      <td>3</td>\n",
       "      <td>Satisfactory</td>\n",
       "      <td>18.546344</td>\n",
       "      <td>73.819090</td>\n",
       "      <td>Maharashtra</td>\n",
       "      <td>10804.560</td>\n",
       "      <td>-94.05</td>\n",
       "      <td>4968.27</td>\n",
       "      <td>-94.110</td>\n",
       "      <td>112374333.0</td>\n",
       "      <td>82.34</td>\n",
       "      <td>1455.5</td>\n",
       "      <td>307713.0</td>\n",
       "    </tr>\n",
       "  </tbody>\n",
       "</table>\n",
       "</div>"
      ],
      "text/plain": [
       "   Operator In Out Travelling Network Type  Rating Call Drop Category  \\\n",
       "0    Airtel            Indoor           4G       3       Satisfactory   \n",
       "1  Vodafone            Indoor           4G       1       Call Dropped   \n",
       "2    Airtel            Indoor           3G       1       Call Dropped   \n",
       "3    Airtel            Indoor           4G       3       Satisfactory   \n",
       "4    Airtel        Travelling           4G       3       Satisfactory   \n",
       "\n",
       "    Latitude  Longitude   State Name  Average Data Speed Download  \\\n",
       "0  12.998502  77.672437    Karnataka                     8807.910   \n",
       "1  23.554190  72.620110      Gujarat                     6862.552   \n",
       "2  11.327329  76.749743   Tamil Nadu                     1178.410   \n",
       "3  22.279660  73.149369      Gujarat                     5694.480   \n",
       "4  18.546344  73.819090  Maharashtra                    10804.560   \n",
       "\n",
       "   Average Signal Strength Download  Average Data Speed Upload  \\\n",
       "0                            -94.86                    2591.08   \n",
       "1                            -91.96                    4671.48   \n",
       "2                            -85.03                     968.58   \n",
       "3                            -89.39                    2515.34   \n",
       "4                            -94.05                    4968.27   \n",
       "\n",
       "   Average Signal Strength Upload   Population  Literacy Rate  Rainfall  \\\n",
       "0                         -94.840   61130704.0          75.36    1248.0   \n",
       "1                         -91.920   60439692.0          78.03     842.5   \n",
       "2                         -85.470   72147030.0          80.33     998.0   \n",
       "3                         -89.515   60439692.0          78.03     842.5   \n",
       "4                         -94.110  112374333.0          82.34    1455.5   \n",
       "\n",
       "   Area of the state  \n",
       "0           191791.0  \n",
       "1           196024.0  \n",
       "2           130060.0  \n",
       "3           196024.0  \n",
       "4           307713.0  "
      ]
     },
     "execution_count": 5,
     "metadata": {},
     "output_type": "execute_result"
    }
   ],
   "source": [
    "data.drop('Unnamed: 0',axis = 1, inplace = True)\n",
    "data.head()"
   ]
  },
  {
   "cell_type": "code",
   "execution_count": 6,
   "metadata": {},
   "outputs": [
    {
     "data": {
      "text/plain": [
       "(30785, 16)"
      ]
     },
     "execution_count": 6,
     "metadata": {},
     "output_type": "execute_result"
    }
   ],
   "source": [
    "data.shape"
   ]
  },
  {
   "cell_type": "code",
   "execution_count": 7,
   "metadata": {},
   "outputs": [
    {
     "name": "stdout",
     "output_type": "stream",
     "text": [
      "<class 'pandas.core.frame.DataFrame'>\n",
      "RangeIndex: 30785 entries, 0 to 30784\n",
      "Data columns (total 16 columns):\n",
      " #   Column                            Non-Null Count  Dtype  \n",
      "---  ------                            --------------  -----  \n",
      " 0   Operator                          30785 non-null  object \n",
      " 1   In Out Travelling                 30785 non-null  object \n",
      " 2   Network Type                      30785 non-null  object \n",
      " 3   Rating                            30785 non-null  int64  \n",
      " 4   Call Drop Category                30785 non-null  object \n",
      " 5   Latitude                          30785 non-null  float64\n",
      " 6   Longitude                         30785 non-null  float64\n",
      " 7   State Name                        30785 non-null  object \n",
      " 8   Average Data Speed Download       30785 non-null  float64\n",
      " 9   Average Signal Strength Download  30785 non-null  float64\n",
      " 10  Average Data Speed Upload         30785 non-null  float64\n",
      " 11  Average Signal Strength Upload    30785 non-null  float64\n",
      " 12  Population                        30785 non-null  float64\n",
      " 13  Literacy Rate                     30785 non-null  float64\n",
      " 14  Rainfall                          30785 non-null  float64\n",
      " 15  Area of the state                 30785 non-null  float64\n",
      "dtypes: float64(10), int64(1), object(5)\n",
      "memory usage: 3.2+ MB\n"
     ]
    }
   ],
   "source": [
    "data.info()"
   ]
  },
  {
   "cell_type": "markdown",
   "metadata": {},
   "source": [
    "### All Object data type variables and rating are the categorical features and rest are numeric or continuous  features "
   ]
  },
  {
   "cell_type": "code",
   "execution_count": 7,
   "metadata": {},
   "outputs": [
    {
     "data": {
      "text/html": [
       "<div>\n",
       "<style scoped>\n",
       "    .dataframe tbody tr th:only-of-type {\n",
       "        vertical-align: middle;\n",
       "    }\n",
       "\n",
       "    .dataframe tbody tr th {\n",
       "        vertical-align: top;\n",
       "    }\n",
       "\n",
       "    .dataframe thead th {\n",
       "        text-align: right;\n",
       "    }\n",
       "</style>\n",
       "<table border=\"1\" class=\"dataframe\">\n",
       "  <thead>\n",
       "    <tr style=\"text-align: right;\">\n",
       "      <th></th>\n",
       "      <th>Rating</th>\n",
       "      <th>Latitude</th>\n",
       "      <th>Longitude</th>\n",
       "      <th>Average Data Speed Download</th>\n",
       "      <th>Average Signal Strength Download</th>\n",
       "      <th>Average Data Speed Upload</th>\n",
       "      <th>Average Signal Strength Upload</th>\n",
       "      <th>Population</th>\n",
       "      <th>Literacy Rate</th>\n",
       "      <th>Rainfall</th>\n",
       "      <th>Area of the state</th>\n",
       "    </tr>\n",
       "  </thead>\n",
       "  <tbody>\n",
       "    <tr>\n",
       "      <th>count</th>\n",
       "      <td>30785.000000</td>\n",
       "      <td>30785.000000</td>\n",
       "      <td>30785.000000</td>\n",
       "      <td>30785.000000</td>\n",
       "      <td>30785.000000</td>\n",
       "      <td>30785.000000</td>\n",
       "      <td>30785.000000</td>\n",
       "      <td>3.078500e+04</td>\n",
       "      <td>30785.000000</td>\n",
       "      <td>30785.000000</td>\n",
       "      <td>30785.000000</td>\n",
       "    </tr>\n",
       "    <tr>\n",
       "      <th>mean</th>\n",
       "      <td>3.527075</td>\n",
       "      <td>20.986716</td>\n",
       "      <td>77.624482</td>\n",
       "      <td>13383.178796</td>\n",
       "      <td>-91.940324</td>\n",
       "      <td>3937.800252</td>\n",
       "      <td>-87.654863</td>\n",
       "      <td>9.340490e+07</td>\n",
       "      <td>74.513815</td>\n",
       "      <td>1222.318883</td>\n",
       "      <td>221781.967549</td>\n",
       "    </tr>\n",
       "    <tr>\n",
       "      <th>std</th>\n",
       "      <td>1.480751</td>\n",
       "      <td>4.904788</td>\n",
       "      <td>4.897669</td>\n",
       "      <td>9652.418551</td>\n",
       "      <td>189.709705</td>\n",
       "      <td>2022.009990</td>\n",
       "      <td>7.696626</td>\n",
       "      <td>4.112688e+07</td>\n",
       "      <td>12.449141</td>\n",
       "      <td>463.221742</td>\n",
       "      <td>93044.821822</td>\n",
       "    </tr>\n",
       "    <tr>\n",
       "      <th>min</th>\n",
       "      <td>1.000000</td>\n",
       "      <td>8.255166</td>\n",
       "      <td>69.017391</td>\n",
       "      <td>0.000000</td>\n",
       "      <td>-8407.000000</td>\n",
       "      <td>220.940000</td>\n",
       "      <td>-103.200000</td>\n",
       "      <td>2.535146e+07</td>\n",
       "      <td>10.980000</td>\n",
       "      <td>143.000000</td>\n",
       "      <td>38863.000000</td>\n",
       "    </tr>\n",
       "    <tr>\n",
       "      <th>25%</th>\n",
       "      <td>2.000000</td>\n",
       "      <td>18.547627</td>\n",
       "      <td>73.739626</td>\n",
       "      <td>5191.980000</td>\n",
       "      <td>-92.580000</td>\n",
       "      <td>2680.020000</td>\n",
       "      <td>-93.000000</td>\n",
       "      <td>6.113070e+07</td>\n",
       "      <td>70.600000</td>\n",
       "      <td>998.000000</td>\n",
       "      <td>130060.000000</td>\n",
       "    </tr>\n",
       "    <tr>\n",
       "      <th>50%</th>\n",
       "      <td>4.000000</td>\n",
       "      <td>20.303444</td>\n",
       "      <td>76.945477</td>\n",
       "      <td>10804.560000</td>\n",
       "      <td>-86.800000</td>\n",
       "      <td>4130.460000</td>\n",
       "      <td>-86.920000</td>\n",
       "      <td>9.127612e+07</td>\n",
       "      <td>76.680000</td>\n",
       "      <td>1248.000000</td>\n",
       "      <td>243286.000000</td>\n",
       "    </tr>\n",
       "    <tr>\n",
       "      <th>75%</th>\n",
       "      <td>5.000000</td>\n",
       "      <td>25.263877</td>\n",
       "      <td>80.197102</td>\n",
       "      <td>20707.870000</td>\n",
       "      <td>-84.740000</td>\n",
       "      <td>5107.230000</td>\n",
       "      <td>-84.949000</td>\n",
       "      <td>1.123743e+08</td>\n",
       "      <td>82.340000</td>\n",
       "      <td>1455.500000</td>\n",
       "      <td>307713.000000</td>\n",
       "    </tr>\n",
       "    <tr>\n",
       "      <th>max</th>\n",
       "      <td>5.000000</td>\n",
       "      <td>32.427797</td>\n",
       "      <td>95.619158</td>\n",
       "      <td>32444.069600</td>\n",
       "      <td>-63.000000</td>\n",
       "      <td>12220.910000</td>\n",
       "      <td>76.930000</td>\n",
       "      <td>1.998123e+08</td>\n",
       "      <td>94.000000</td>\n",
       "      <td>3055.000000</td>\n",
       "      <td>342239.000000</td>\n",
       "    </tr>\n",
       "  </tbody>\n",
       "</table>\n",
       "</div>"
      ],
      "text/plain": [
       "             Rating      Latitude     Longitude  Average Data Speed Download  \\\n",
       "count  30785.000000  30785.000000  30785.000000                 30785.000000   \n",
       "mean       3.527075     20.986716     77.624482                 13383.178796   \n",
       "std        1.480751      4.904788      4.897669                  9652.418551   \n",
       "min        1.000000      8.255166     69.017391                     0.000000   \n",
       "25%        2.000000     18.547627     73.739626                  5191.980000   \n",
       "50%        4.000000     20.303444     76.945477                 10804.560000   \n",
       "75%        5.000000     25.263877     80.197102                 20707.870000   \n",
       "max        5.000000     32.427797     95.619158                 32444.069600   \n",
       "\n",
       "       Average Signal Strength Download  Average Data Speed Upload  \\\n",
       "count                      30785.000000               30785.000000   \n",
       "mean                         -91.940324                3937.800252   \n",
       "std                          189.709705                2022.009990   \n",
       "min                        -8407.000000                 220.940000   \n",
       "25%                          -92.580000                2680.020000   \n",
       "50%                          -86.800000                4130.460000   \n",
       "75%                          -84.740000                5107.230000   \n",
       "max                          -63.000000               12220.910000   \n",
       "\n",
       "       Average Signal Strength Upload    Population  Literacy Rate  \\\n",
       "count                    30785.000000  3.078500e+04   30785.000000   \n",
       "mean                       -87.654863  9.340490e+07      74.513815   \n",
       "std                          7.696626  4.112688e+07      12.449141   \n",
       "min                       -103.200000  2.535146e+07      10.980000   \n",
       "25%                        -93.000000  6.113070e+07      70.600000   \n",
       "50%                        -86.920000  9.127612e+07      76.680000   \n",
       "75%                        -84.949000  1.123743e+08      82.340000   \n",
       "max                         76.930000  1.998123e+08      94.000000   \n",
       "\n",
       "           Rainfall  Area of the state  \n",
       "count  30785.000000       30785.000000  \n",
       "mean    1222.318883      221781.967549  \n",
       "std      463.221742       93044.821822  \n",
       "min      143.000000       38863.000000  \n",
       "25%      998.000000      130060.000000  \n",
       "50%     1248.000000      243286.000000  \n",
       "75%     1455.500000      307713.000000  \n",
       "max     3055.000000      342239.000000  "
      ]
     },
     "execution_count": 7,
     "metadata": {},
     "output_type": "execute_result"
    }
   ],
   "source": [
    "data.describe()"
   ]
  },
  {
   "cell_type": "code",
   "execution_count": 8,
   "metadata": {},
   "outputs": [
    {
     "data": {
      "text/plain": [
       "RJio        15218\n",
       "Airtel       6982\n",
       "Vodafone     5896\n",
       "Idea         2050\n",
       "BSNL          639\n",
       "Name: Operator, dtype: int64"
      ]
     },
     "execution_count": 8,
     "metadata": {},
     "output_type": "execute_result"
    }
   ],
   "source": [
    "data['Operator'].value_counts()"
   ]
  },
  {
   "cell_type": "code",
   "execution_count": 9,
   "metadata": {},
   "outputs": [
    {
     "data": {
      "image/png": "[encoded data removed]",
      "text/plain": [
       "<Figure size 432x288 with 1 Axes>"
      ]
     },
     "metadata": {
      "needs_background": "light"
     },
     "output_type": "display_data"
    }
   ],
   "source": [
    "plt.hist(data['Operator'])\n",
    "plt.title('Operator')\n",
    "plt.show()"
   ]
  },
  {
   "cell_type": "code",
   "execution_count": 10,
   "metadata": {},
   "outputs": [
    {
     "data": {
      "text/plain": [
       "Satisfactory          21327\n",
       "Poor Voice Quality     6632\n",
       "Call Dropped           2826\n",
       "Name: Call Drop Category, dtype: int64"
      ]
     },
     "execution_count": 10,
     "metadata": {},
     "output_type": "execute_result"
    }
   ],
   "source": [
    "data['Call Drop Category'].value_counts()"
   ]
  },
  {
   "cell_type": "code",
   "execution_count": 11,
   "metadata": {},
   "outputs": [
    {
     "data": {
      "text/plain": [
       "<AxesSubplot:xlabel='Call Drop Category', ylabel='count'>"
      ]
     },
     "execution_count": 11,
     "metadata": {},
     "output_type": "execute_result"
    },
    {
     "data": {
      "image/png": "[encoded data removed]",
      "text/plain": [
       "<Figure size 432x288 with 1 Axes>"
      ]
     },
     "metadata": {
      "needs_background": "light"
     },
     "output_type": "display_data"
    }
   ],
   "source": [
    "sns.countplot(x = 'Call Drop Category', data = data)"
   ]
  },
  {
   "cell_type": "code",
   "execution_count": 12,
   "metadata": {},
   "outputs": [
    {
     "data": {
      "text/plain": [
       "5    11101\n",
       "4     7396\n",
       "1     5439\n",
       "3     4355\n",
       "2     2494\n",
       "Name: Rating, dtype: int64"
      ]
     },
     "execution_count": 12,
     "metadata": {},
     "output_type": "execute_result"
    }
   ],
   "source": [
    "data.Rating.value_counts()"
   ]
  },
  {
   "cell_type": "code",
   "execution_count": 13,
   "metadata": {},
   "outputs": [
    {
     "data": {
      "text/plain": [
       "<AxesSubplot:xlabel='Rating', ylabel='count'>"
      ]
     },
     "execution_count": 13,
     "metadata": {},
     "output_type": "execute_result"
    },
    {
     "data": {
      "image/png": "[encoded data removed]",
      "text/plain": [
       "<Figure size 432x288 with 1 Axes>"
      ]
     },
     "metadata": {
      "needs_background": "light"
     },
     "output_type": "display_data"
    }
   ],
   "source": [
    "sns.countplot(x = 'Rating', data = data)"
   ]
  },
  {
   "cell_type": "code",
   "execution_count": 14,
   "metadata": {
    "scrolled": true
   },
   "outputs": [
    {
     "data": {
      "text/plain": [
       "Indoor        20280\n",
       "Outdoor        5977\n",
       "Travelling     4528\n",
       "Name: In Out Travelling, dtype: int64"
      ]
     },
     "execution_count": 14,
     "metadata": {},
     "output_type": "execute_result"
    }
   ],
   "source": [
    "data['In Out Travelling'].value_counts()"
   ]
  },
  {
   "cell_type": "code",
   "execution_count": 15,
   "metadata": {},
   "outputs": [
    {
     "data": {
      "text/plain": [
       "<AxesSubplot:xlabel='In Out Travelling', ylabel='count'>"
      ]
     },
     "execution_count": 15,
     "metadata": {},
     "output_type": "execute_result"
    },
    {
     "data": {
      "image/png": "[encoded data removed]",
      "text/plain": [
       "<Figure size 432x288 with 1 Axes>"
      ]
     },
     "metadata": {
      "needs_background": "light"
     },
     "output_type": "display_data"
    }
   ],
   "source": [
    "sns.countplot(x = 'In Out Travelling', data = data)"
   ]
  },
  {
   "cell_type": "code",
   "execution_count": 52,
   "metadata": {},
   "outputs": [
    {
     "data": {
      "text/plain": [
       "4G    24082\n",
       "3G     6703\n",
       "Name: Network Type, dtype: int64"
      ]
     },
     "execution_count": 52,
     "metadata": {},
     "output_type": "execute_result"
    }
   ],
   "source": [
    "data['Network Type'].value_counts()"
   ]
  },
  {
   "cell_type": "code",
   "execution_count": 92,
   "metadata": {},
   "outputs": [
    {
     "data": {
      "text/plain": [
       "<AxesSubplot:xlabel='Network Type', ylabel='count'>"
      ]
     },
     "execution_count": 92,
     "metadata": {},
     "output_type": "execute_result"
    },
    {
     "data": {
      "image/png": "[encoded data removed]",
      "text/plain": [
       "<Figure size 432x288 with 1 Axes>"
      ]
     },
     "metadata": {
      "needs_background": "light"
     },
     "output_type": "display_data"
    }
   ],
   "source": [
    "sns.countplot(x = 'Network Type', data = data)"
   ]
  },
  {
   "cell_type": "code",
   "execution_count": 53,
   "metadata": {},
   "outputs": [
    {
     "data": {
      "text/plain": [
       "Maharashtra       10422\n",
       "Gujarat            2671\n",
       "Uttar Pradesh      2531\n",
       "West Bengal        2384\n",
       "Tamil Nadu         2198\n",
       "Rajasthan          2164\n",
       "Karnataka          1967\n",
       "Odisha             1646\n",
       "Bihar              1404\n",
       "Haryana            1304\n",
       "Madhya Pradesh      872\n",
       "Andhra Pradesh      809\n",
       "Punjab              256\n",
       "Kerala               97\n",
       "Assam                60\n",
       "Name: State Name, dtype: int64"
      ]
     },
     "execution_count": 53,
     "metadata": {},
     "output_type": "execute_result"
    }
   ],
   "source": [
    "data['State Name'].value_counts()"
   ]
  },
  {
   "cell_type": "code",
   "execution_count": 54,
   "metadata": {},
   "outputs": [
    {
     "data": {
      "image/png": "[encoded data removed]",
      "text/plain": [
       "<Figure size 432x288 with 1 Axes>"
      ]
     },
     "metadata": {
      "needs_background": "light"
     },
     "output_type": "display_data"
    }
   ],
   "source": [
    "plt.hist(data['Average Data Speed Download'])\n",
    "plt.show()"
   ]
  },
  {
   "cell_type": "code",
   "execution_count": 57,
   "metadata": {},
   "outputs": [
    {
     "data": {
      "image/png": "[encoded data removed]",
      "text/plain": [
       "<Figure size 432x288 with 1 Axes>"
      ]
     },
     "metadata": {
      "needs_background": "light"
     },
     "output_type": "display_data"
    }
   ],
   "source": [
    "plt.hist(data['Average Signal Strength Download'])\n",
    "plt.show()"
   ]
  },
  {
   "cell_type": "code",
   "execution_count": 60,
   "metadata": {},
   "outputs": [
    {
     "data": {
      "image/png": "[encoded data removed]",
      "text/plain": [
       "<Figure size 432x288 with 1 Axes>"
      ]
     },
     "metadata": {
      "needs_background": "light"
     },
     "output_type": "display_data"
    }
   ],
   "source": [
    "plt.hist(data['Average Data Speed Upload'])\n",
    "plt.show()"
   ]
  },
  {
   "cell_type": "code",
   "execution_count": 73,
   "metadata": {
    "scrolled": true
   },
   "outputs": [
    {
     "data": {
      "image/png": "[encoded data removed]",
      "text/plain": [
       "<Figure size 432x288 with 1 Axes>"
      ]
     },
     "metadata": {
      "needs_background": "light"
     },
     "output_type": "display_data"
    }
   ],
   "source": [
    "plt.hist(data['Average Signal Strength Upload'])\n",
    "plt.show()"
   ]
  },
  {
   "cell_type": "code",
   "execution_count": 66,
   "metadata": {},
   "outputs": [
    {
     "name": "stderr",
     "output_type": "stream",
     "text": [
      "c:\\python38\\lib\\site-packages\\seaborn\\distributions.py:2551: FutureWarning: `distplot` is a deprecated function and will be removed in a future version. Please adapt your code to use either `displot` (a figure-level function with similar flexibility) or `histplot` (an axes-level function for histograms).\n",
      "  warnings.warn(msg, FutureWarning)\n",
      "No handles with labels found to put in legend.\n",
      "c:\\python38\\lib\\site-packages\\seaborn\\distributions.py:2551: FutureWarning: `distplot` is a deprecated function and will be removed in a future version. Please adapt your code to use either `displot` (a figure-level function with similar flexibility) or `histplot` (an axes-level function for histograms).\n",
      "  warnings.warn(msg, FutureWarning)\n",
      "No handles with labels found to put in legend.\n",
      "c:\\python38\\lib\\site-packages\\seaborn\\distributions.py:2551: FutureWarning: `distplot` is a deprecated function and will be removed in a future version. Please adapt your code to use either `displot` (a figure-level function with similar flexibility) or `histplot` (an axes-level function for histograms).\n",
      "  warnings.warn(msg, FutureWarning)\n",
      "No handles with labels found to put in legend.\n",
      "c:\\python38\\lib\\site-packages\\seaborn\\distributions.py:2551: FutureWarning: `distplot` is a deprecated function and will be removed in a future version. Please adapt your code to use either `displot` (a figure-level function with similar flexibility) or `histplot` (an axes-level function for histograms).\n",
      "  warnings.warn(msg, FutureWarning)\n",
      "No handles with labels found to put in legend.\n"
     ]
    },
    {
     "data": {
      "image/png": "[encoded data removed]",
      "text/plain": [
       "<Figure size 460.8x460.8 with 4 Axes>"
      ]
     },
     "metadata": {
      "needs_background": "light"
     },
     "output_type": "display_data"
    }
   ],
   "source": [
    "## Distributions for the signal variables\n",
    "\n",
    "cols = ['Average Data Speed Download', 'Average Signal Strength Download',\n",
    "       'Average Data Speed Upload', 'Average Signal Strength Upload']\n",
    "\n",
    "n_rows = 2\n",
    "n_cols = 2\n",
    "\n",
    "# Subplot grid and figure sizes for each graph\n",
    "fig, axs = plt.subplots(n_rows, n_cols, figsize = (n_rows*3.2, n_cols*3.2))\n",
    "\n",
    "for r in range(0, n_rows):\n",
    "    for c in range(0, n_cols):\n",
    "        \n",
    "        i = r*n_cols + c\n",
    "        ax = axs[r][c]  # position of subplots\n",
    "        sns.distplot(data[cols[i]], ax = ax)\n",
    "        ax.set_title(cols[i])\n",
    "        ax.legend(title = 'Distribution',loc = 'upper right')\n",
    "        \n",
    "plt.tight_layout()"
   ]
  },
  {
   "cell_type": "code",
   "execution_count": 64,
   "metadata": {
    "scrolled": true
   },
   "outputs": [
    {
     "data": {
      "text/plain": [
       "Index(['Operator', 'In Out Travelling', 'Network Type', 'Rating',\n",
       "       'Call Drop Category', 'Latitude', 'Longitude', 'State Name',\n",
       "       'Average Data Speed Download', 'Average Signal Strength Download',\n",
       "       'Average Data Speed Upload', 'Average Signal Strength Upload',\n",
       "       'Population', 'Literacy Rate', 'Rainfall', 'Area of the state'],\n",
       "      dtype='object')"
      ]
     },
     "execution_count": 64,
     "metadata": {},
     "output_type": "execute_result"
    }
   ],
   "source": [
    "data.columns"
   ]
  },
  {
   "cell_type": "code",
   "execution_count": 77,
   "metadata": {},
   "outputs": [
    {
     "data": {
      "image/png": "[encoded data removed]",
      "text/plain": [
       "<Figure size 460.8x460.8 with 4 Axes>"
      ]
     },
     "metadata": {
      "needs_background": "light"
     },
     "output_type": "display_data"
    }
   ],
   "source": [
    "## Histograms for the State Variables\n",
    "\n",
    "cols = ['Population', 'Literacy Rate', 'Rainfall', 'Area of the state']\n",
    "\n",
    "n_rows = 2\n",
    "n_cols = 2\n",
    "\n",
    "# Subplot grid and figure sizes for each graph\n",
    "fig, axs = plt.subplots(n_rows, n_cols, figsize = (n_rows*3.2, n_cols*3.2))\n",
    "\n",
    "for r in range(0, n_rows):\n",
    "    for c in range(0, n_cols):\n",
    "        \n",
    "        i = r*n_cols + c\n",
    "        ax = axs[r][c]  # position of subplots\n",
    "        sns.histplot(data[cols[i]], ax = ax)\n",
    "        ax.set_title(cols[i])\n",
    "        #ax.legend(title = 'Distribution',loc = 'upper right')\n",
    "        \n",
    "plt.tight_layout()"
   ]
  },
  {
   "cell_type": "code",
   "execution_count": 76,
   "metadata": {},
   "outputs": [
    {
     "name": "stderr",
     "output_type": "stream",
     "text": [
      "c:\\python38\\lib\\site-packages\\seaborn\\distributions.py:2551: FutureWarning: `distplot` is a deprecated function and will be removed in a future version. Please adapt your code to use either `displot` (a figure-level function with similar flexibility) or `histplot` (an axes-level function for histograms).\n",
      "  warnings.warn(msg, FutureWarning)\n",
      "No handles with labels found to put in legend.\n",
      "c:\\python38\\lib\\site-packages\\seaborn\\distributions.py:2551: FutureWarning: `distplot` is a deprecated function and will be removed in a future version. Please adapt your code to use either `displot` (a figure-level function with similar flexibility) or `histplot` (an axes-level function for histograms).\n",
      "  warnings.warn(msg, FutureWarning)\n",
      "No handles with labels found to put in legend.\n",
      "c:\\python38\\lib\\site-packages\\seaborn\\distributions.py:2551: FutureWarning: `distplot` is a deprecated function and will be removed in a future version. Please adapt your code to use either `displot` (a figure-level function with similar flexibility) or `histplot` (an axes-level function for histograms).\n",
      "  warnings.warn(msg, FutureWarning)\n",
      "No handles with labels found to put in legend.\n",
      "c:\\python38\\lib\\site-packages\\seaborn\\distributions.py:2551: FutureWarning: `distplot` is a deprecated function and will be removed in a future version. Please adapt your code to use either `displot` (a figure-level function with similar flexibility) or `histplot` (an axes-level function for histograms).\n",
      "  warnings.warn(msg, FutureWarning)\n",
      "No handles with labels found to put in legend.\n"
     ]
    },
    {
     "data": {
      "image/png": "[encoded data removed]",
      "text/plain": [
       "<Figure size 460.8x460.8 with 4 Axes>"
      ]
     },
     "metadata": {
      "needs_background": "light"
     },
     "output_type": "display_data"
    }
   ],
   "source": [
    "## Distribution for the state variables\n",
    "\n",
    "cols = ['Population', 'Literacy Rate', 'Rainfall', 'Area of the state']\n",
    "\n",
    "n_rows = 2\n",
    "n_cols = 2\n",
    "\n",
    "# Subplot grid and figure sizes for each graph\n",
    "fig, axs = plt.subplots(n_rows, n_cols, figsize = (n_rows*3.2, n_cols*3.2))\n",
    "\n",
    "for r in range(0, n_rows):\n",
    "    for c in range(0, n_cols):\n",
    "        \n",
    "        i = r*n_cols + c\n",
    "        ax = axs[r][c]  # position of subplots\n",
    "        sns.distplot(data[cols[i]], ax = ax)\n",
    "        ax.set_title(cols[i])\n",
    "        ax.legend(title = 'Distribution',loc = 'upper right')\n",
    "        \n",
    "plt.tight_layout()"
   ]
  },
  {
   "cell_type": "code",
   "execution_count": null,
   "metadata": {},
   "outputs": [],
   "source": []
  },
  {
   "cell_type": "code",
   "execution_count": null,
   "metadata": {},
   "outputs": [],
   "source": []
  },
  {
   "cell_type": "code",
   "execution_count": null,
   "metadata": {},
   "outputs": [],
   "source": []
  },
  {
   "cell_type": "code",
   "execution_count": null,
   "metadata": {},
   "outputs": [],
   "source": []
  },
  {
   "cell_type": "markdown",
   "metadata": {},
   "source": [
    "## Bivariate Analysis "
   ]
  },
  {
   "cell_type": "markdown",
   "metadata": {},
   "source": [
    "### Operator and Call Drop Category features are dependent on each other. "
   ]
  },
  {
   "cell_type": "code",
   "execution_count": 36,
   "metadata": {},
   "outputs": [
    {
     "name": "stdout",
     "output_type": "stream",
     "text": [
      "Call Drop Category  Call Dropped  Poor Voice Quality  Satisfactory\n",
      "Operator                                                          \n",
      "Airtel                      1265                1739          3978\n",
      "BSNL                          37                 169           433\n",
      "Idea                         162                 753          1135\n",
      "RJio                         900                3036         11282\n",
      "Vodafone                     462                 935          4499\n"
     ]
    }
   ],
   "source": [
    "df = pd.crosstab(data['Operator'], data['Call Drop Category'])\n",
    "print(df)"
   ]
  },
  {
   "cell_type": "code",
   "execution_count": 37,
   "metadata": {},
   "outputs": [
    {
     "name": "stdout",
     "output_type": "stream",
     "text": [
      "Observed Values:  \n",
      " [[ 1265  1739  3978]\n",
      " [   37   169   433]\n",
      " [  162   753  1135]\n",
      " [  900  3036 11282]\n",
      " [  462   935  4499]]\n"
     ]
    }
   ],
   "source": [
    "## Observed Values\n",
    "Observed_values = df.values\n",
    "print(\"Observed Values:  \\n\", Observed_values)"
   ]
  },
  {
   "cell_type": "code",
   "execution_count": 38,
   "metadata": {},
   "outputs": [],
   "source": [
    "import scipy.stats as stats"
   ]
  },
  {
   "cell_type": "code",
   "execution_count": 39,
   "metadata": {},
   "outputs": [
    {
     "name": "stdout",
     "output_type": "stream",
     "text": [
      "(1481.306911551152, 0.0, 8, array([[  640.93331168,  1504.12941368,  4836.93727465],\n",
      "       [   58.65889232,   137.6595095 ,   442.68159818],\n",
      "       [  188.18580478,   441.63066428,  1420.18353094],\n",
      "       [ 1396.98125711,  3278.40753614, 10542.61120676],\n",
      "       [  541.24073412,  1270.1728764 ,  4084.58638948]]))\n"
     ]
    }
   ],
   "source": [
    "val = stats.chi2_contingency(df)\n",
    "print(val)"
   ]
  },
  {
   "cell_type": "code",
   "execution_count": 40,
   "metadata": {},
   "outputs": [
    {
     "name": "stdout",
     "output_type": "stream",
     "text": [
      "Expected Values:  \n",
      " [[  640.93331168  1504.12941368  4836.93727465]\n",
      " [   58.65889232   137.6595095    442.68159818]\n",
      " [  188.18580478   441.63066428  1420.18353094]\n",
      " [ 1396.98125711  3278.40753614 10542.61120676]\n",
      " [  541.24073412  1270.1728764   4084.58638948]]\n"
     ]
    }
   ],
   "source": [
    "Expected_values = val[3]\n",
    "print(\"Expected Values:  \\n\",Expected_values)"
   ]
  },
  {
   "cell_type": "code",
   "execution_count": 41,
   "metadata": {},
   "outputs": [
    {
     "name": "stdout",
     "output_type": "stream",
     "text": [
      "5 3\n",
      "DOF:   8\n"
     ]
    }
   ],
   "source": [
    "rows = len(df.iloc[:,0])\n",
    "cols = len(df.columns)\n",
    "print(rows, cols)\n",
    "DOF = (rows-1) * (cols-1)\n",
    "print(\"DOF:  \", DOF )\n",
    "\n",
    "alpha = 0.05"
   ]
  },
  {
   "cell_type": "code",
   "execution_count": 42,
   "metadata": {},
   "outputs": [
    {
     "name": "stdout",
     "output_type": "stream",
     "text": [
      "[807.68907379 369.70872949 303.90910827]\n",
      "chi_square statistic:    1177.397803281959\n"
     ]
    }
   ],
   "source": [
    "from scipy.stats import chi2\n",
    "chi_square = sum([(o-e)**2/e for o,e in zip(Observed_values, Expected_values)])\n",
    "print(chi_square)\n",
    "chi_sq_statistic = chi_square[0] + chi_square[1]\n",
    "print(\"chi_square statistic:   \", chi_sq_statistic)"
   ]
  },
  {
   "cell_type": "code",
   "execution_count": 43,
   "metadata": {},
   "outputs": [
    {
     "name": "stdout",
     "output_type": "stream",
     "text": [
      "Critical Value:    15.50731305586545\n"
     ]
    }
   ],
   "source": [
    "critical_value = chi2.ppf(q = 1-alpha, df = DOF)\n",
    "print(\"Critical Value:   \", critical_value)"
   ]
  },
  {
   "cell_type": "code",
   "execution_count": 44,
   "metadata": {},
   "outputs": [
    {
     "name": "stdout",
     "output_type": "stream",
     "text": [
      "P Value:    0.0\n",
      "Significance Level:    0.05\n",
      "Degree of Freedom:    8\n"
     ]
    }
   ],
   "source": [
    "## P-Value\n",
    "\n",
    "p_value = 1 - chi2.cdf(x = chi_sq_statistic, df = DOF)\n",
    "print(\"P Value:   \", p_value)\n",
    "print(\"Significance Level:   \", alpha)\n",
    "print(\"Degree of Freedom:   \", DOF)\n"
   ]
  },
  {
   "cell_type": "code",
   "execution_count": 45,
   "metadata": {},
   "outputs": [
    {
     "name": "stdout",
     "output_type": "stream",
     "text": [
      "There is a relation between the two variables.\n",
      "There is a relation between the two variables.\n"
     ]
    }
   ],
   "source": [
    "if chi_sq_statistic >= critical_value:\n",
    "    print(\"There is a relation between the two variables.\")\n",
    "else:\n",
    "    print(\"There is no relation between the two variables.\")\n",
    "    \n",
    "if p_value <= alpha:\n",
    "    print(\"There is a relation between the two variables.\")\n",
    "else:\n",
    "    print(\"There is no relation between the two variables.\")"
   ]
  },
  {
   "cell_type": "markdown",
   "metadata": {},
   "source": [
    "### Operator and Network Type features are dependent on each other."
   ]
  },
  {
   "cell_type": "code",
   "execution_count": 46,
   "metadata": {},
   "outputs": [
    {
     "name": "stdout",
     "output_type": "stream",
     "text": [
      "Network Type    3G     4G\n",
      "Operator                 \n",
      "Airtel        2501   4481\n",
      "BSNL           590     49\n",
      "Idea           963   1087\n",
      "RJio             0  15218\n",
      "Vodafone      2649   3247\n",
      "Observed Values:  \n",
      " [[ 2501  4481]\n",
      " [  590    49]\n",
      " [  963  1087]\n",
      " [    0 15218]\n",
      " [ 2649  3247]]\n",
      "(9532.764308407257, 0.0, 4, array([[ 1520.23212604,  5461.76787396],\n",
      "       [  139.13324671,   499.86675329],\n",
      "       [  446.35861621,  1603.64138379],\n",
      "       [ 3313.50508364, 11904.49491636],\n",
      "       [ 1283.7709274 ,  4612.2290726 ]]))\n",
      "Expected Values:  \n",
      " [[ 1520.23212604  5461.76787396]\n",
      " [  139.13324671   499.86675329]\n",
      " [  446.35861621  1603.64138379]\n",
      " [ 3313.50508364 11904.49491636]\n",
      " [ 1283.7709274   4612.2290726 ]]\n",
      "5 2\n",
      "DOF:   4\n",
      "[7457.1391936 2075.6251148]\n",
      "\n",
      "chi_square statistic:    9532.764308407255\n",
      "Critical Value:    9.487729036781154\n",
      "P Value:    0.0\n",
      "Significance Level:    0.05\n",
      "Degree of Freedom:    4\n",
      "\n",
      "There is a relation between the two variables.\n",
      "There is a relation between the two variables.\n"
     ]
    }
   ],
   "source": [
    "df1 = pd.crosstab(data['Operator'], data['Network Type'])\n",
    "print(df1)\n",
    "\n",
    "## Observed Values\n",
    "Observed_values = df1.values\n",
    "print(\"Observed Values:  \\n\", Observed_values)\n",
    "\n",
    "import scipy.stats as stats\n",
    "val = stats.chi2_contingency(df1)\n",
    "print(val)\n",
    "\n",
    "Expected_values = val[3]\n",
    "print(\"Expected Values:  \\n\",Expected_values)\n",
    "\n",
    "rows = len(df1.iloc[:,0])\n",
    "cols = len(df1.columns)\n",
    "print(rows, cols)\n",
    "DOF = (rows-1) * (cols-1)\n",
    "print(\"DOF:  \", DOF )\n",
    "\n",
    "alpha = 0.05\n",
    "\n",
    "from scipy.stats import chi2\n",
    "chi_square = sum([(o-e)**2/e for o,e in zip(Observed_values, Expected_values)])\n",
    "print(chi_square)\n",
    "chi_sq_statistic = chi_square[0] + chi_square[1]\n",
    "print(\"\\nchi_square statistic:   \", chi_sq_statistic)\n",
    "\n",
    "critical_value = chi2.ppf(q = 1-alpha, df = DOF)\n",
    "print(\"Critical Value:   \", critical_value)\n",
    "\n",
    "## P-Value\n",
    "\n",
    "p_value = 1 - chi2.cdf(x = chi_sq_statistic, df = DOF)\n",
    "print(\"P Value:   \", p_value)\n",
    "print(\"Significance Level:   \", alpha)\n",
    "print(\"Degree of Freedom:   \", DOF)\n",
    "\n",
    "if chi_sq_statistic >= critical_value:\n",
    "    print(\"\\nThere is a relation between the two variables.\")\n",
    "else:\n",
    "    print(\"\\nThere is no relation between the two variables.\")\n",
    "    \n",
    "if p_value <= alpha:\n",
    "    print(\"There is a relation between the two variables.\")\n",
    "else:\n",
    "    print(\"There is no relation between the two variables.\")\n"
   ]
  },
  {
   "cell_type": "markdown",
   "metadata": {},
   "source": [
    "### Call Drop Category and In out travelling features are dependent on each other. "
   ]
  },
  {
   "cell_type": "code",
   "execution_count": 47,
   "metadata": {},
   "outputs": [
    {
     "name": "stdout",
     "output_type": "stream",
     "text": [
      "In Out Travelling   Indoor  Outdoor  Travelling\n",
      "Call Drop Category                             \n",
      "Call Dropped          2154      333         339\n",
      "Poor Voice Quality    4191     1328        1113\n",
      "Satisfactory         13935     4316        3076\n",
      "Observed Values:  \n",
      " [[ 2154   333   339]\n",
      " [ 4191  1328  1113]\n",
      " [13935  4316  3076]]\n",
      "(182.26108923068603, 2.437311171808449e-38, 4, array([[ 1861.66249797,   548.67636836,   415.66113367],\n",
      "       [ 4368.91213253,  1287.62267338,   975.46519409],\n",
      "       [14049.4253695 ,  4140.70095826,  3136.87367224]]))\n",
      "Expected Values:  \n",
      " [[ 1861.66249797   548.67636836   415.66113367]\n",
      " [ 4368.91213253  1287.62267338   975.46519409]\n",
      " [14049.4253695   4140.70095826  3136.87367224]]\n",
      "3 3\n",
      "DOF:   4\n",
      "[54.08278493 93.46665635 34.71164794]\n",
      "\n",
      "chi_square statistic:    147.549441286611\n",
      "Critical Value:    9.487729036781154\n",
      "P Value:    0.0\n",
      "Significance Level:    0.05\n",
      "Degree of Freedom:    4\n",
      "\n",
      "There is a relation between the two variables.\n",
      "There is a relation between the two variables.\n"
     ]
    }
   ],
   "source": [
    "df2 = pd.crosstab(data['Call Drop Category'], data['In Out Travelling'])\n",
    "print(df2)\n",
    "\n",
    "## Observed Values\n",
    "Observed_values = df2.values\n",
    "print(\"Observed Values:  \\n\", Observed_values)\n",
    "\n",
    "import scipy.stats as stats\n",
    "val = stats.chi2_contingency(df2)\n",
    "print(val)\n",
    "\n",
    "Expected_values = val[3]\n",
    "print(\"Expected Values:  \\n\",Expected_values)\n",
    "\n",
    "rows = len(df2.iloc[:,0])\n",
    "cols = len(df2.columns)\n",
    "print(rows, cols)\n",
    "DOF = (rows-1) * (cols-1)\n",
    "print(\"DOF:  \", DOF )\n",
    "\n",
    "alpha = 0.05\n",
    "\n",
    "from scipy.stats import chi2\n",
    "chi_square = sum([(o-e)**2/e for o,e in zip(Observed_values, Expected_values)])\n",
    "print(chi_square)\n",
    "chi_sq_statistic = chi_square[0] + chi_square[1]\n",
    "print(\"\\nchi_square statistic:   \", chi_sq_statistic)\n",
    "\n",
    "critical_value = chi2.ppf(q = 1-alpha, df = DOF)\n",
    "print(\"Critical Value:   \", critical_value)\n",
    "\n",
    "## P-Value\n",
    "\n",
    "p_value = 1 - chi2.cdf(x = chi_sq_statistic, df = DOF)\n",
    "print(\"P Value:   \", p_value)\n",
    "print(\"Significance Level:   \", alpha)\n",
    "print(\"Degree of Freedom:   \", DOF)\n",
    "\n",
    "if chi_sq_statistic >= critical_value:\n",
    "    print(\"\\nThere is a relation between the two variables.\")\n",
    "else:\n",
    "    print(\"\\nThere is no relation between the two variables.\")\n",
    "    \n",
    "if p_value <= alpha:\n",
    "    print(\"There is a relation between the two variables.\")\n",
    "else:\n",
    "    print(\"There is no relation between the two variables.\")\n"
   ]
  },
  {
   "cell_type": "markdown",
   "metadata": {},
   "source": [
    "### Network Type and State Name features are dependent on each other. "
   ]
  },
  {
   "cell_type": "code",
   "execution_count": 48,
   "metadata": {},
   "outputs": [
    {
     "name": "stdout",
     "output_type": "stream",
     "text": [
      "State Name    Andhra Pradesh  Assam  Bihar  Gujarat  Haryana  Karnataka  \\\n",
      "Network Type                                                              \n",
      "3G                        43      7     33      899      297        296   \n",
      "4G                       766     53   1371     1772     1007       1671   \n",
      "\n",
      "State Name    Kerala  Madhya Pradesh  Maharashtra  Odisha  Punjab  Rajasthan  \\\n",
      "Network Type                                                                   \n",
      "3G                97             237         2238      84      19        747   \n",
      "4G                 0             635         8184    1562     237       1417   \n",
      "\n",
      "State Name    Tamil Nadu  Uttar Pradesh  West Bengal  \n",
      "Network Type                                          \n",
      "3G                   611            615          480  \n",
      "4G                  1587           1916         1904  \n",
      "Observed Values:  \n",
      " [[  43    7   33  899  297  296   97  237 2238   84   19  747  611  615\n",
      "   480]\n",
      " [ 766   53 1371 1772 1007 1671    0  635 8184 1562  237 1417 1587 1916\n",
      "  1904]]\n",
      "(1647.697278177348, 0.0, 14, array([[ 176.14835147,   13.06415462,  305.70121813,  581.57261653,\n",
      "         283.92762709,  428.28653565,   21.1203833 ,  189.86571382,\n",
      "        2269.24365763,  358.39330843,   55.74039305,  471.18050999,\n",
      "         478.58353094,  551.08958909,  519.08241026],\n",
      "       [ 632.85164853,   46.93584538, 1098.29878187, 2089.42738347,\n",
      "        1020.07237291, 1538.71346435,   75.8796167 ,  682.13428618,\n",
      "        8152.75634237, 1287.60669157,  200.25960695, 1692.81949001,\n",
      "        1719.41646906, 1979.91041091, 1864.91758974]]))\n",
      "Expected Values:  \n",
      " [[ 176.14835147   13.06415462  305.70121813  581.57261653  283.92762709\n",
      "   428.28653565   21.1203833   189.86571382 2269.24365763  358.39330843\n",
      "    55.74039305  471.18050999  478.58353094  551.08958909  519.08241026]\n",
      " [ 632.85164853   46.93584538 1098.29878187 2089.42738347 1020.07237291\n",
      "  1538.71346435   75.8796167   682.13428618 8152.75634237 1287.60669157\n",
      "   200.25960695 1692.81949001 1719.41646906 1979.91041091 1864.91758974]]\n",
      "2 15\n",
      "DOF:   14\n",
      "[128.65883373   3.59837007 310.9736509  221.47842931   0.76939225\n",
      "  52.23281967 348.49380874  14.95801375   0.54990696 268.55531117\n",
      "  30.95737837 206.39976107  46.83525212   9.47474693   3.76160312]\n",
      "\n",
      "chi_square statistic:    132.2572038038559\n",
      "Critical Value:    23.684791304840576\n",
      "P Value:    0.0\n",
      "Significance Level:    0.05\n",
      "Degree of Freedom:    14\n",
      "\n",
      "There is a relation between the two variables.\n",
      "There is a relation between the two variables.\n"
     ]
    }
   ],
   "source": [
    "df3 = pd.crosstab(data['Network Type'], data['State Name'])\n",
    "print(df3)\n",
    "\n",
    "## Observed Values\n",
    "Observed_values = df3.values\n",
    "print(\"Observed Values:  \\n\", Observed_values)\n",
    "\n",
    "import scipy.stats as stats\n",
    "val = stats.chi2_contingency(df3)\n",
    "print(val)\n",
    "\n",
    "Expected_values = val[3]\n",
    "print(\"Expected Values:  \\n\",Expected_values)\n",
    "\n",
    "rows = len(df3.iloc[:,0])\n",
    "cols = len(df3.columns)\n",
    "print(rows, cols)\n",
    "DOF = (rows-1) * (cols-1)\n",
    "print(\"DOF:  \", DOF )\n",
    "\n",
    "alpha = 0.05\n",
    "\n",
    "from scipy.stats import chi2\n",
    "chi_square = sum([(o-e)**2/e for o,e in zip(Observed_values, Expected_values)])\n",
    "print(chi_square)\n",
    "chi_sq_statistic = chi_square[0] + chi_square[1]\n",
    "print(\"\\nchi_square statistic:   \", chi_sq_statistic)\n",
    "\n",
    "critical_value = chi2.ppf(q = 1-alpha, df = DOF)\n",
    "print(\"Critical Value:   \", critical_value)\n",
    "\n",
    "## P-Value\n",
    "\n",
    "p_value = 1 - chi2.cdf(x = chi_sq_statistic, df = DOF)\n",
    "print(\"P Value:   \", p_value)\n",
    "print(\"Significance Level:   \", alpha)\n",
    "print(\"Degree of Freedom:   \", DOF)\n",
    "\n",
    "if chi_sq_statistic >= critical_value:\n",
    "    print(\"\\nThere is a relation between the two variables.\")\n",
    "else:\n",
    "    print(\"\\nThere is no relation between the two variables.\")\n",
    "    \n",
    "if p_value <= alpha:\n",
    "    print(\"There is a relation between the two variables.\")\n",
    "else:\n",
    "    print(\"There is no relation between the two variables.\")\n"
   ]
  },
  {
   "cell_type": "code",
   "execution_count": 56,
   "metadata": {
    "scrolled": true
   },
   "outputs": [
    {
     "data": {
      "text/html": [
       "<div>\n",
       "<style scoped>\n",
       "    .dataframe tbody tr th:only-of-type {\n",
       "        vertical-align: middle;\n",
       "    }\n",
       "\n",
       "    .dataframe tbody tr th {\n",
       "        vertical-align: top;\n",
       "    }\n",
       "\n",
       "    .dataframe thead th {\n",
       "        text-align: right;\n",
       "    }\n",
       "</style>\n",
       "<table border=\"1\" class=\"dataframe\">\n",
       "  <thead>\n",
       "    <tr style=\"text-align: right;\">\n",
       "      <th></th>\n",
       "      <th></th>\n",
       "      <th>Call Drop Category</th>\n",
       "    </tr>\n",
       "    <tr>\n",
       "      <th>Operator</th>\n",
       "      <th>Call Drop Category</th>\n",
       "      <th></th>\n",
       "    </tr>\n",
       "  </thead>\n",
       "  <tbody>\n",
       "    <tr>\n",
       "      <th rowspan=\"3\" valign=\"top\">Airtel</th>\n",
       "      <th>Call Dropped</th>\n",
       "      <td>1265</td>\n",
       "    </tr>\n",
       "    <tr>\n",
       "      <th>Poor Voice Quality</th>\n",
       "      <td>1739</td>\n",
       "    </tr>\n",
       "    <tr>\n",
       "      <th>Satisfactory</th>\n",
       "      <td>3978</td>\n",
       "    </tr>\n",
       "    <tr>\n",
       "      <th rowspan=\"3\" valign=\"top\">BSNL</th>\n",
       "      <th>Call Dropped</th>\n",
       "      <td>37</td>\n",
       "    </tr>\n",
       "    <tr>\n",
       "      <th>Poor Voice Quality</th>\n",
       "      <td>169</td>\n",
       "    </tr>\n",
       "    <tr>\n",
       "      <th>Satisfactory</th>\n",
       "      <td>433</td>\n",
       "    </tr>\n",
       "    <tr>\n",
       "      <th rowspan=\"3\" valign=\"top\">Idea</th>\n",
       "      <th>Call Dropped</th>\n",
       "      <td>162</td>\n",
       "    </tr>\n",
       "    <tr>\n",
       "      <th>Poor Voice Quality</th>\n",
       "      <td>753</td>\n",
       "    </tr>\n",
       "    <tr>\n",
       "      <th>Satisfactory</th>\n",
       "      <td>1135</td>\n",
       "    </tr>\n",
       "    <tr>\n",
       "      <th rowspan=\"3\" valign=\"top\">RJio</th>\n",
       "      <th>Call Dropped</th>\n",
       "      <td>900</td>\n",
       "    </tr>\n",
       "    <tr>\n",
       "      <th>Poor Voice Quality</th>\n",
       "      <td>3036</td>\n",
       "    </tr>\n",
       "    <tr>\n",
       "      <th>Satisfactory</th>\n",
       "      <td>11282</td>\n",
       "    </tr>\n",
       "    <tr>\n",
       "      <th rowspan=\"3\" valign=\"top\">Vodafone</th>\n",
       "      <th>Call Dropped</th>\n",
       "      <td>462</td>\n",
       "    </tr>\n",
       "    <tr>\n",
       "      <th>Poor Voice Quality</th>\n",
       "      <td>935</td>\n",
       "    </tr>\n",
       "    <tr>\n",
       "      <th>Satisfactory</th>\n",
       "      <td>4499</td>\n",
       "    </tr>\n",
       "  </tbody>\n",
       "</table>\n",
       "</div>"
      ],
      "text/plain": [
       "                             Call Drop Category\n",
       "Operator Call Drop Category                    \n",
       "Airtel   Call Dropped                      1265\n",
       "         Poor Voice Quality                1739\n",
       "         Satisfactory                      3978\n",
       "BSNL     Call Dropped                        37\n",
       "         Poor Voice Quality                 169\n",
       "         Satisfactory                       433\n",
       "Idea     Call Dropped                       162\n",
       "         Poor Voice Quality                 753\n",
       "         Satisfactory                      1135\n",
       "RJio     Call Dropped                       900\n",
       "         Poor Voice Quality                3036\n",
       "         Satisfactory                     11282\n",
       "Vodafone Call Dropped                       462\n",
       "         Poor Voice Quality                 935\n",
       "         Satisfactory                      4499"
      ]
     },
     "execution_count": 56,
     "metadata": {},
     "output_type": "execute_result"
    }
   ],
   "source": [
    "data.groupby(['Operator', 'Call Drop Category'])[['Call Drop Category']].count()"
   ]
  },
  {
   "cell_type": "code",
   "execution_count": 54,
   "metadata": {},
   "outputs": [
    {
     "data": {
      "text/html": [
       "<div>\n",
       "<style scoped>\n",
       "    .dataframe tbody tr th:only-of-type {\n",
       "        vertical-align: middle;\n",
       "    }\n",
       "\n",
       "    .dataframe tbody tr th {\n",
       "        vertical-align: top;\n",
       "    }\n",
       "\n",
       "    .dataframe thead th {\n",
       "        text-align: right;\n",
       "    }\n",
       "</style>\n",
       "<table border=\"1\" class=\"dataframe\">\n",
       "  <thead>\n",
       "    <tr style=\"text-align: right;\">\n",
       "      <th></th>\n",
       "      <th></th>\n",
       "      <th>Call Drop Category</th>\n",
       "    </tr>\n",
       "    <tr>\n",
       "      <th>In Out Travelling</th>\n",
       "      <th>Call Drop Category</th>\n",
       "      <th></th>\n",
       "    </tr>\n",
       "  </thead>\n",
       "  <tbody>\n",
       "    <tr>\n",
       "      <th rowspan=\"3\" valign=\"top\">Indoor</th>\n",
       "      <th>Call Dropped</th>\n",
       "      <td>2154</td>\n",
       "    </tr>\n",
       "    <tr>\n",
       "      <th>Poor Voice Quality</th>\n",
       "      <td>4191</td>\n",
       "    </tr>\n",
       "    <tr>\n",
       "      <th>Satisfactory</th>\n",
       "      <td>13935</td>\n",
       "    </tr>\n",
       "    <tr>\n",
       "      <th rowspan=\"3\" valign=\"top\">Outdoor</th>\n",
       "      <th>Call Dropped</th>\n",
       "      <td>333</td>\n",
       "    </tr>\n",
       "    <tr>\n",
       "      <th>Poor Voice Quality</th>\n",
       "      <td>1328</td>\n",
       "    </tr>\n",
       "    <tr>\n",
       "      <th>Satisfactory</th>\n",
       "      <td>4316</td>\n",
       "    </tr>\n",
       "    <tr>\n",
       "      <th rowspan=\"3\" valign=\"top\">Travelling</th>\n",
       "      <th>Call Dropped</th>\n",
       "      <td>339</td>\n",
       "    </tr>\n",
       "    <tr>\n",
       "      <th>Poor Voice Quality</th>\n",
       "      <td>1113</td>\n",
       "    </tr>\n",
       "    <tr>\n",
       "      <th>Satisfactory</th>\n",
       "      <td>3076</td>\n",
       "    </tr>\n",
       "  </tbody>\n",
       "</table>\n",
       "</div>"
      ],
      "text/plain": [
       "                                      Call Drop Category\n",
       "In Out Travelling Call Drop Category                    \n",
       "Indoor            Call Dropped                      2154\n",
       "                  Poor Voice Quality                4191\n",
       "                  Satisfactory                     13935\n",
       "Outdoor           Call Dropped                       333\n",
       "                  Poor Voice Quality                1328\n",
       "                  Satisfactory                      4316\n",
       "Travelling        Call Dropped                       339\n",
       "                  Poor Voice Quality                1113\n",
       "                  Satisfactory                      3076"
      ]
     },
     "execution_count": 54,
     "metadata": {},
     "output_type": "execute_result"
    }
   ],
   "source": [
    "\n",
    "data.groupby(['In Out Travelling', 'Call Drop Category'])[['Call Drop Category']].count()"
   ]
  },
  {
   "cell_type": "code",
   "execution_count": 30,
   "metadata": {},
   "outputs": [
    {
     "data": {
      "text/html": [
       "<div>\n",
       "<style scoped>\n",
       "    .dataframe tbody tr th:only-of-type {\n",
       "        vertical-align: middle;\n",
       "    }\n",
       "\n",
       "    .dataframe tbody tr th {\n",
       "        vertical-align: top;\n",
       "    }\n",
       "\n",
       "    .dataframe thead th {\n",
       "        text-align: right;\n",
       "    }\n",
       "</style>\n",
       "<table border=\"1\" class=\"dataframe\">\n",
       "  <thead>\n",
       "    <tr style=\"text-align: right;\">\n",
       "      <th></th>\n",
       "      <th></th>\n",
       "      <th></th>\n",
       "      <th>Call Drop Category</th>\n",
       "    </tr>\n",
       "    <tr>\n",
       "      <th>Operator</th>\n",
       "      <th>In Out Travelling</th>\n",
       "      <th>Call Drop Category</th>\n",
       "      <th></th>\n",
       "    </tr>\n",
       "  </thead>\n",
       "  <tbody>\n",
       "    <tr>\n",
       "      <th rowspan=\"9\" valign=\"top\">Airtel</th>\n",
       "      <th rowspan=\"3\" valign=\"top\">Indoor</th>\n",
       "      <th>Call Dropped</th>\n",
       "      <td>1030</td>\n",
       "    </tr>\n",
       "    <tr>\n",
       "      <th>Poor Voice Quality</th>\n",
       "      <td>1090</td>\n",
       "    </tr>\n",
       "    <tr>\n",
       "      <th>Satisfactory</th>\n",
       "      <td>2660</td>\n",
       "    </tr>\n",
       "    <tr>\n",
       "      <th rowspan=\"3\" valign=\"top\">Outdoor</th>\n",
       "      <th>Call Dropped</th>\n",
       "      <td>74</td>\n",
       "    </tr>\n",
       "    <tr>\n",
       "      <th>Poor Voice Quality</th>\n",
       "      <td>278</td>\n",
       "    </tr>\n",
       "    <tr>\n",
       "      <th>Satisfactory</th>\n",
       "      <td>601</td>\n",
       "    </tr>\n",
       "    <tr>\n",
       "      <th rowspan=\"3\" valign=\"top\">Travelling</th>\n",
       "      <th>Call Dropped</th>\n",
       "      <td>161</td>\n",
       "    </tr>\n",
       "    <tr>\n",
       "      <th>Poor Voice Quality</th>\n",
       "      <td>371</td>\n",
       "    </tr>\n",
       "    <tr>\n",
       "      <th>Satisfactory</th>\n",
       "      <td>717</td>\n",
       "    </tr>\n",
       "    <tr>\n",
       "      <th rowspan=\"9\" valign=\"top\">BSNL</th>\n",
       "      <th rowspan=\"3\" valign=\"top\">Indoor</th>\n",
       "      <th>Call Dropped</th>\n",
       "      <td>26</td>\n",
       "    </tr>\n",
       "    <tr>\n",
       "      <th>Poor Voice Quality</th>\n",
       "      <td>143</td>\n",
       "    </tr>\n",
       "    <tr>\n",
       "      <th>Satisfactory</th>\n",
       "      <td>279</td>\n",
       "    </tr>\n",
       "    <tr>\n",
       "      <th rowspan=\"3\" valign=\"top\">Outdoor</th>\n",
       "      <th>Call Dropped</th>\n",
       "      <td>1</td>\n",
       "    </tr>\n",
       "    <tr>\n",
       "      <th>Poor Voice Quality</th>\n",
       "      <td>19</td>\n",
       "    </tr>\n",
       "    <tr>\n",
       "      <th>Satisfactory</th>\n",
       "      <td>64</td>\n",
       "    </tr>\n",
       "    <tr>\n",
       "      <th rowspan=\"3\" valign=\"top\">Travelling</th>\n",
       "      <th>Call Dropped</th>\n",
       "      <td>10</td>\n",
       "    </tr>\n",
       "    <tr>\n",
       "      <th>Poor Voice Quality</th>\n",
       "      <td>7</td>\n",
       "    </tr>\n",
       "    <tr>\n",
       "      <th>Satisfactory</th>\n",
       "      <td>90</td>\n",
       "    </tr>\n",
       "    <tr>\n",
       "      <th rowspan=\"9\" valign=\"top\">Idea</th>\n",
       "      <th rowspan=\"3\" valign=\"top\">Indoor</th>\n",
       "      <th>Call Dropped</th>\n",
       "      <td>89</td>\n",
       "    </tr>\n",
       "    <tr>\n",
       "      <th>Poor Voice Quality</th>\n",
       "      <td>376</td>\n",
       "    </tr>\n",
       "    <tr>\n",
       "      <th>Satisfactory</th>\n",
       "      <td>757</td>\n",
       "    </tr>\n",
       "    <tr>\n",
       "      <th rowspan=\"3\" valign=\"top\">Outdoor</th>\n",
       "      <th>Call Dropped</th>\n",
       "      <td>41</td>\n",
       "    </tr>\n",
       "    <tr>\n",
       "      <th>Poor Voice Quality</th>\n",
       "      <td>152</td>\n",
       "    </tr>\n",
       "    <tr>\n",
       "      <th>Satisfactory</th>\n",
       "      <td>262</td>\n",
       "    </tr>\n",
       "    <tr>\n",
       "      <th rowspan=\"3\" valign=\"top\">Travelling</th>\n",
       "      <th>Call Dropped</th>\n",
       "      <td>32</td>\n",
       "    </tr>\n",
       "    <tr>\n",
       "      <th>Poor Voice Quality</th>\n",
       "      <td>225</td>\n",
       "    </tr>\n",
       "    <tr>\n",
       "      <th>Satisfactory</th>\n",
       "      <td>116</td>\n",
       "    </tr>\n",
       "    <tr>\n",
       "      <th rowspan=\"9\" valign=\"top\">RJio</th>\n",
       "      <th rowspan=\"3\" valign=\"top\">Indoor</th>\n",
       "      <th>Call Dropped</th>\n",
       "      <td>636</td>\n",
       "    </tr>\n",
       "    <tr>\n",
       "      <th>Poor Voice Quality</th>\n",
       "      <td>1991</td>\n",
       "    </tr>\n",
       "    <tr>\n",
       "      <th>Satisfactory</th>\n",
       "      <td>7200</td>\n",
       "    </tr>\n",
       "    <tr>\n",
       "      <th rowspan=\"3\" valign=\"top\">Outdoor</th>\n",
       "      <th>Call Dropped</th>\n",
       "      <td>179</td>\n",
       "    </tr>\n",
       "    <tr>\n",
       "      <th>Poor Voice Quality</th>\n",
       "      <td>759</td>\n",
       "    </tr>\n",
       "    <tr>\n",
       "      <th>Satisfactory</th>\n",
       "      <td>2774</td>\n",
       "    </tr>\n",
       "    <tr>\n",
       "      <th rowspan=\"3\" valign=\"top\">Travelling</th>\n",
       "      <th>Call Dropped</th>\n",
       "      <td>85</td>\n",
       "    </tr>\n",
       "    <tr>\n",
       "      <th>Poor Voice Quality</th>\n",
       "      <td>286</td>\n",
       "    </tr>\n",
       "    <tr>\n",
       "      <th>Satisfactory</th>\n",
       "      <td>1308</td>\n",
       "    </tr>\n",
       "    <tr>\n",
       "      <th rowspan=\"9\" valign=\"top\">Vodafone</th>\n",
       "      <th rowspan=\"3\" valign=\"top\">Indoor</th>\n",
       "      <th>Call Dropped</th>\n",
       "      <td>373</td>\n",
       "    </tr>\n",
       "    <tr>\n",
       "      <th>Poor Voice Quality</th>\n",
       "      <td>591</td>\n",
       "    </tr>\n",
       "    <tr>\n",
       "      <th>Satisfactory</th>\n",
       "      <td>3039</td>\n",
       "    </tr>\n",
       "    <tr>\n",
       "      <th rowspan=\"3\" valign=\"top\">Outdoor</th>\n",
       "      <th>Call Dropped</th>\n",
       "      <td>38</td>\n",
       "    </tr>\n",
       "    <tr>\n",
       "      <th>Poor Voice Quality</th>\n",
       "      <td>120</td>\n",
       "    </tr>\n",
       "    <tr>\n",
       "      <th>Satisfactory</th>\n",
       "      <td>615</td>\n",
       "    </tr>\n",
       "    <tr>\n",
       "      <th rowspan=\"3\" valign=\"top\">Travelling</th>\n",
       "      <th>Call Dropped</th>\n",
       "      <td>51</td>\n",
       "    </tr>\n",
       "    <tr>\n",
       "      <th>Poor Voice Quality</th>\n",
       "      <td>224</td>\n",
       "    </tr>\n",
       "    <tr>\n",
       "      <th>Satisfactory</th>\n",
       "      <td>845</td>\n",
       "    </tr>\n",
       "  </tbody>\n",
       "</table>\n",
       "</div>"
      ],
      "text/plain": [
       "                                               Call Drop Category\n",
       "Operator In Out Travelling Call Drop Category                    \n",
       "Airtel   Indoor            Call Dropped                      1030\n",
       "                           Poor Voice Quality                1090\n",
       "                           Satisfactory                      2660\n",
       "         Outdoor           Call Dropped                        74\n",
       "                           Poor Voice Quality                 278\n",
       "                           Satisfactory                       601\n",
       "         Travelling        Call Dropped                       161\n",
       "                           Poor Voice Quality                 371\n",
       "                           Satisfactory                       717\n",
       "BSNL     Indoor            Call Dropped                        26\n",
       "                           Poor Voice Quality                 143\n",
       "                           Satisfactory                       279\n",
       "         Outdoor           Call Dropped                         1\n",
       "                           Poor Voice Quality                  19\n",
       "                           Satisfactory                        64\n",
       "         Travelling        Call Dropped                        10\n",
       "                           Poor Voice Quality                   7\n",
       "                           Satisfactory                        90\n",
       "Idea     Indoor            Call Dropped                        89\n",
       "                           Poor Voice Quality                 376\n",
       "                           Satisfactory                       757\n",
       "         Outdoor           Call Dropped                        41\n",
       "                           Poor Voice Quality                 152\n",
       "                           Satisfactory                       262\n",
       "         Travelling        Call Dropped                        32\n",
       "                           Poor Voice Quality                 225\n",
       "                           Satisfactory                       116\n",
       "RJio     Indoor            Call Dropped                       636\n",
       "                           Poor Voice Quality                1991\n",
       "                           Satisfactory                      7200\n",
       "         Outdoor           Call Dropped                       179\n",
       "                           Poor Voice Quality                 759\n",
       "                           Satisfactory                      2774\n",
       "         Travelling        Call Dropped                        85\n",
       "                           Poor Voice Quality                 286\n",
       "                           Satisfactory                      1308\n",
       "Vodafone Indoor            Call Dropped                       373\n",
       "                           Poor Voice Quality                 591\n",
       "                           Satisfactory                      3039\n",
       "         Outdoor           Call Dropped                        38\n",
       "                           Poor Voice Quality                 120\n",
       "                           Satisfactory                       615\n",
       "         Travelling        Call Dropped                        51\n",
       "                           Poor Voice Quality                 224\n",
       "                           Satisfactory                       845"
      ]
     },
     "execution_count": 30,
     "metadata": {},
     "output_type": "execute_result"
    }
   ],
   "source": [
    "data.groupby(['Operator', 'In Out Travelling', 'Call Drop Category'])[['Call Drop Category']].count()"
   ]
  },
  {
   "cell_type": "code",
   "execution_count": 48,
   "metadata": {},
   "outputs": [
    {
     "data": {
      "text/html": [
       "<div>\n",
       "<style scoped>\n",
       "    .dataframe tbody tr th:only-of-type {\n",
       "        vertical-align: middle;\n",
       "    }\n",
       "\n",
       "    .dataframe tbody tr th {\n",
       "        vertical-align: top;\n",
       "    }\n",
       "\n",
       "    .dataframe thead th {\n",
       "        text-align: right;\n",
       "    }\n",
       "</style>\n",
       "<table border=\"1\" class=\"dataframe\">\n",
       "  <thead>\n",
       "    <tr style=\"text-align: right;\">\n",
       "      <th></th>\n",
       "      <th></th>\n",
       "      <th>Call Drop Category</th>\n",
       "    </tr>\n",
       "    <tr>\n",
       "      <th>State Name</th>\n",
       "      <th>Call Drop Category</th>\n",
       "      <th></th>\n",
       "    </tr>\n",
       "  </thead>\n",
       "  <tbody>\n",
       "    <tr>\n",
       "      <th rowspan=\"3\" valign=\"top\">Andhra Pradesh</th>\n",
       "      <th>Call Dropped</th>\n",
       "      <td>29</td>\n",
       "    </tr>\n",
       "    <tr>\n",
       "      <th>Poor Voice Quality</th>\n",
       "      <td>100</td>\n",
       "    </tr>\n",
       "    <tr>\n",
       "      <th>Satisfactory</th>\n",
       "      <td>680</td>\n",
       "    </tr>\n",
       "    <tr>\n",
       "      <th rowspan=\"3\" valign=\"top\">Assam</th>\n",
       "      <th>Call Dropped</th>\n",
       "      <td>4</td>\n",
       "    </tr>\n",
       "    <tr>\n",
       "      <th>Poor Voice Quality</th>\n",
       "      <td>11</td>\n",
       "    </tr>\n",
       "    <tr>\n",
       "      <th>Satisfactory</th>\n",
       "      <td>45</td>\n",
       "    </tr>\n",
       "    <tr>\n",
       "      <th rowspan=\"3\" valign=\"top\">Bihar</th>\n",
       "      <th>Call Dropped</th>\n",
       "      <td>233</td>\n",
       "    </tr>\n",
       "    <tr>\n",
       "      <th>Poor Voice Quality</th>\n",
       "      <td>444</td>\n",
       "    </tr>\n",
       "    <tr>\n",
       "      <th>Satisfactory</th>\n",
       "      <td>727</td>\n",
       "    </tr>\n",
       "    <tr>\n",
       "      <th rowspan=\"3\" valign=\"top\">Gujarat</th>\n",
       "      <th>Call Dropped</th>\n",
       "      <td>402</td>\n",
       "    </tr>\n",
       "    <tr>\n",
       "      <th>Poor Voice Quality</th>\n",
       "      <td>787</td>\n",
       "    </tr>\n",
       "    <tr>\n",
       "      <th>Satisfactory</th>\n",
       "      <td>1482</td>\n",
       "    </tr>\n",
       "    <tr>\n",
       "      <th rowspan=\"3\" valign=\"top\">Haryana</th>\n",
       "      <th>Call Dropped</th>\n",
       "      <td>62</td>\n",
       "    </tr>\n",
       "    <tr>\n",
       "      <th>Poor Voice Quality</th>\n",
       "      <td>558</td>\n",
       "    </tr>\n",
       "    <tr>\n",
       "      <th>Satisfactory</th>\n",
       "      <td>684</td>\n",
       "    </tr>\n",
       "    <tr>\n",
       "      <th rowspan=\"3\" valign=\"top\">Karnataka</th>\n",
       "      <th>Call Dropped</th>\n",
       "      <td>313</td>\n",
       "    </tr>\n",
       "    <tr>\n",
       "      <th>Poor Voice Quality</th>\n",
       "      <td>374</td>\n",
       "    </tr>\n",
       "    <tr>\n",
       "      <th>Satisfactory</th>\n",
       "      <td>1280</td>\n",
       "    </tr>\n",
       "    <tr>\n",
       "      <th rowspan=\"3\" valign=\"top\">Kerala</th>\n",
       "      <th>Call Dropped</th>\n",
       "      <td>2</td>\n",
       "    </tr>\n",
       "    <tr>\n",
       "      <th>Poor Voice Quality</th>\n",
       "      <td>72</td>\n",
       "    </tr>\n",
       "    <tr>\n",
       "      <th>Satisfactory</th>\n",
       "      <td>23</td>\n",
       "    </tr>\n",
       "    <tr>\n",
       "      <th rowspan=\"3\" valign=\"top\">Madhya Pradesh</th>\n",
       "      <th>Call Dropped</th>\n",
       "      <td>63</td>\n",
       "    </tr>\n",
       "    <tr>\n",
       "      <th>Poor Voice Quality</th>\n",
       "      <td>186</td>\n",
       "    </tr>\n",
       "    <tr>\n",
       "      <th>Satisfactory</th>\n",
       "      <td>623</td>\n",
       "    </tr>\n",
       "    <tr>\n",
       "      <th rowspan=\"3\" valign=\"top\">Maharashtra</th>\n",
       "      <th>Call Dropped</th>\n",
       "      <td>761</td>\n",
       "    </tr>\n",
       "    <tr>\n",
       "      <th>Poor Voice Quality</th>\n",
       "      <td>1992</td>\n",
       "    </tr>\n",
       "    <tr>\n",
       "      <th>Satisfactory</th>\n",
       "      <td>7669</td>\n",
       "    </tr>\n",
       "    <tr>\n",
       "      <th rowspan=\"3\" valign=\"top\">Odisha</th>\n",
       "      <th>Call Dropped</th>\n",
       "      <td>39</td>\n",
       "    </tr>\n",
       "    <tr>\n",
       "      <th>Poor Voice Quality</th>\n",
       "      <td>35</td>\n",
       "    </tr>\n",
       "    <tr>\n",
       "      <th>Satisfactory</th>\n",
       "      <td>1572</td>\n",
       "    </tr>\n",
       "    <tr>\n",
       "      <th rowspan=\"3\" valign=\"top\">Punjab</th>\n",
       "      <th>Call Dropped</th>\n",
       "      <td>16</td>\n",
       "    </tr>\n",
       "    <tr>\n",
       "      <th>Poor Voice Quality</th>\n",
       "      <td>31</td>\n",
       "    </tr>\n",
       "    <tr>\n",
       "      <th>Satisfactory</th>\n",
       "      <td>209</td>\n",
       "    </tr>\n",
       "    <tr>\n",
       "      <th rowspan=\"3\" valign=\"top\">Rajasthan</th>\n",
       "      <th>Call Dropped</th>\n",
       "      <td>91</td>\n",
       "    </tr>\n",
       "    <tr>\n",
       "      <th>Poor Voice Quality</th>\n",
       "      <td>312</td>\n",
       "    </tr>\n",
       "    <tr>\n",
       "      <th>Satisfactory</th>\n",
       "      <td>1761</td>\n",
       "    </tr>\n",
       "    <tr>\n",
       "      <th rowspan=\"3\" valign=\"top\">Tamil Nadu</th>\n",
       "      <th>Call Dropped</th>\n",
       "      <td>520</td>\n",
       "    </tr>\n",
       "    <tr>\n",
       "      <th>Poor Voice Quality</th>\n",
       "      <td>302</td>\n",
       "    </tr>\n",
       "    <tr>\n",
       "      <th>Satisfactory</th>\n",
       "      <td>1376</td>\n",
       "    </tr>\n",
       "    <tr>\n",
       "      <th rowspan=\"3\" valign=\"top\">Uttar Pradesh</th>\n",
       "      <th>Call Dropped</th>\n",
       "      <td>149</td>\n",
       "    </tr>\n",
       "    <tr>\n",
       "      <th>Poor Voice Quality</th>\n",
       "      <td>1025</td>\n",
       "    </tr>\n",
       "    <tr>\n",
       "      <th>Satisfactory</th>\n",
       "      <td>1357</td>\n",
       "    </tr>\n",
       "    <tr>\n",
       "      <th rowspan=\"3\" valign=\"top\">West Bengal</th>\n",
       "      <th>Call Dropped</th>\n",
       "      <td>142</td>\n",
       "    </tr>\n",
       "    <tr>\n",
       "      <th>Poor Voice Quality</th>\n",
       "      <td>403</td>\n",
       "    </tr>\n",
       "    <tr>\n",
       "      <th>Satisfactory</th>\n",
       "      <td>1839</td>\n",
       "    </tr>\n",
       "  </tbody>\n",
       "</table>\n",
       "</div>"
      ],
      "text/plain": [
       "                                   Call Drop Category\n",
       "State Name     Call Drop Category                    \n",
       "Andhra Pradesh Call Dropped                        29\n",
       "               Poor Voice Quality                 100\n",
       "               Satisfactory                       680\n",
       "Assam          Call Dropped                         4\n",
       "               Poor Voice Quality                  11\n",
       "               Satisfactory                        45\n",
       "Bihar          Call Dropped                       233\n",
       "               Poor Voice Quality                 444\n",
       "               Satisfactory                       727\n",
       "Gujarat        Call Dropped                       402\n",
       "               Poor Voice Quality                 787\n",
       "               Satisfactory                      1482\n",
       "Haryana        Call Dropped                        62\n",
       "               Poor Voice Quality                 558\n",
       "               Satisfactory                       684\n",
       "Karnataka      Call Dropped                       313\n",
       "               Poor Voice Quality                 374\n",
       "               Satisfactory                      1280\n",
       "Kerala         Call Dropped                         2\n",
       "               Poor Voice Quality                  72\n",
       "               Satisfactory                        23\n",
       "Madhya Pradesh Call Dropped                        63\n",
       "               Poor Voice Quality                 186\n",
       "               Satisfactory                       623\n",
       "Maharashtra    Call Dropped                       761\n",
       "               Poor Voice Quality                1992\n",
       "               Satisfactory                      7669\n",
       "Odisha         Call Dropped                        39\n",
       "               Poor Voice Quality                  35\n",
       "               Satisfactory                      1572\n",
       "Punjab         Call Dropped                        16\n",
       "               Poor Voice Quality                  31\n",
       "               Satisfactory                       209\n",
       "Rajasthan      Call Dropped                        91\n",
       "               Poor Voice Quality                 312\n",
       "               Satisfactory                      1761\n",
       "Tamil Nadu     Call Dropped                       520\n",
       "               Poor Voice Quality                 302\n",
       "               Satisfactory                      1376\n",
       "Uttar Pradesh  Call Dropped                       149\n",
       "               Poor Voice Quality                1025\n",
       "               Satisfactory                      1357\n",
       "West Bengal    Call Dropped                       142\n",
       "               Poor Voice Quality                 403\n",
       "               Satisfactory                      1839"
      ]
     },
     "execution_count": 48,
     "metadata": {},
     "output_type": "execute_result"
    }
   ],
   "source": [
    "data.groupby(['State Name', 'Call Drop Category'])[['Call Drop Category']].count()"
   ]
  },
  {
   "cell_type": "code",
   "execution_count": 32,
   "metadata": {},
   "outputs": [
    {
     "data": {
      "text/html": [
       "<div>\n",
       "<style scoped>\n",
       "    .dataframe tbody tr th:only-of-type {\n",
       "        vertical-align: middle;\n",
       "    }\n",
       "\n",
       "    .dataframe tbody tr th {\n",
       "        vertical-align: top;\n",
       "    }\n",
       "\n",
       "    .dataframe thead th {\n",
       "        text-align: right;\n",
       "    }\n",
       "</style>\n",
       "<table border=\"1\" class=\"dataframe\">\n",
       "  <thead>\n",
       "    <tr style=\"text-align: right;\">\n",
       "      <th></th>\n",
       "      <th>Operator</th>\n",
       "      <th>Literacy Rate</th>\n",
       "      <th>Rainfall</th>\n",
       "    </tr>\n",
       "    <tr>\n",
       "      <th>State Name</th>\n",
       "      <th></th>\n",
       "      <th></th>\n",
       "      <th></th>\n",
       "    </tr>\n",
       "  </thead>\n",
       "  <tbody>\n",
       "    <tr>\n",
       "      <th>Andhra Pradesh</th>\n",
       "      <td>RJio</td>\n",
       "      <td>10.98</td>\n",
       "      <td>1245.0</td>\n",
       "    </tr>\n",
       "    <tr>\n",
       "      <th>Assam</th>\n",
       "      <td>RJio</td>\n",
       "      <td>17.07</td>\n",
       "      <td>2818.0</td>\n",
       "    </tr>\n",
       "    <tr>\n",
       "      <th>Bihar</th>\n",
       "      <td>RJio</td>\n",
       "      <td>61.80</td>\n",
       "      <td>1076.0</td>\n",
       "    </tr>\n",
       "    <tr>\n",
       "      <th>Gujarat</th>\n",
       "      <td>Vodafone</td>\n",
       "      <td>78.03</td>\n",
       "      <td>842.5</td>\n",
       "    </tr>\n",
       "    <tr>\n",
       "      <th>Haryana</th>\n",
       "      <td>Vodafone</td>\n",
       "      <td>75.55</td>\n",
       "      <td>617.0</td>\n",
       "    </tr>\n",
       "    <tr>\n",
       "      <th>Karnataka</th>\n",
       "      <td>Vodafone</td>\n",
       "      <td>75.36</td>\n",
       "      <td>1248.0</td>\n",
       "    </tr>\n",
       "    <tr>\n",
       "      <th>Kerala</th>\n",
       "      <td>BSNL</td>\n",
       "      <td>94.00</td>\n",
       "      <td>3055.0</td>\n",
       "    </tr>\n",
       "    <tr>\n",
       "      <th>Madhya Pradesh</th>\n",
       "      <td>RJio</td>\n",
       "      <td>70.60</td>\n",
       "      <td>1017.0</td>\n",
       "    </tr>\n",
       "    <tr>\n",
       "      <th>Maharashtra</th>\n",
       "      <td>Vodafone</td>\n",
       "      <td>82.34</td>\n",
       "      <td>1455.5</td>\n",
       "    </tr>\n",
       "    <tr>\n",
       "      <th>Odisha</th>\n",
       "      <td>Vodafone</td>\n",
       "      <td>73.45</td>\n",
       "      <td>1489.0</td>\n",
       "    </tr>\n",
       "    <tr>\n",
       "      <th>Punjab</th>\n",
       "      <td>Vodafone</td>\n",
       "      <td>76.68</td>\n",
       "      <td>649.0</td>\n",
       "    </tr>\n",
       "    <tr>\n",
       "      <th>Rajasthan</th>\n",
       "      <td>Vodafone</td>\n",
       "      <td>66.10</td>\n",
       "      <td>143.0</td>\n",
       "    </tr>\n",
       "    <tr>\n",
       "      <th>Tamil Nadu</th>\n",
       "      <td>Vodafone</td>\n",
       "      <td>80.33</td>\n",
       "      <td>998.0</td>\n",
       "    </tr>\n",
       "    <tr>\n",
       "      <th>Uttar Pradesh</th>\n",
       "      <td>Vodafone</td>\n",
       "      <td>67.68</td>\n",
       "      <td>1177.3</td>\n",
       "    </tr>\n",
       "    <tr>\n",
       "      <th>West Bengal</th>\n",
       "      <td>Vodafone</td>\n",
       "      <td>76.26</td>\n",
       "      <td>2089.0</td>\n",
       "    </tr>\n",
       "  </tbody>\n",
       "</table>\n",
       "</div>"
      ],
      "text/plain": [
       "                Operator  Literacy Rate  Rainfall\n",
       "State Name                                       \n",
       "Andhra Pradesh      RJio          10.98    1245.0\n",
       "Assam               RJio          17.07    2818.0\n",
       "Bihar               RJio          61.80    1076.0\n",
       "Gujarat         Vodafone          78.03     842.5\n",
       "Haryana         Vodafone          75.55     617.0\n",
       "Karnataka       Vodafone          75.36    1248.0\n",
       "Kerala              BSNL          94.00    3055.0\n",
       "Madhya Pradesh      RJio          70.60    1017.0\n",
       "Maharashtra     Vodafone          82.34    1455.5\n",
       "Odisha          Vodafone          73.45    1489.0\n",
       "Punjab          Vodafone          76.68     649.0\n",
       "Rajasthan       Vodafone          66.10     143.0\n",
       "Tamil Nadu      Vodafone          80.33     998.0\n",
       "Uttar Pradesh   Vodafone          67.68    1177.3\n",
       "West Bengal     Vodafone          76.26    2089.0"
      ]
     },
     "execution_count": 32,
     "metadata": {},
     "output_type": "execute_result"
    }
   ],
   "source": [
    "demo = data.groupby(['State Name'])[['Operator']].max()\n",
    "demo1 = data.groupby(['State Name'])[['Literacy Rate']].mean()\n",
    "demo2 = data.groupby(['State Name'])[['Rainfall']].mean()\n",
    "df0 = pd.concat([demo, demo1,demo2], axis = 1)\n",
    "df0"
   ]
  },
  {
   "cell_type": "code",
   "execution_count": 57,
   "metadata": {},
   "outputs": [],
   "source": [
    "data4 = data.groupby(['State Name'])[['Literacy Rate', 'Rainfall', 'Population', 'Area of the state']].mean()\n"
   ]
  },
  {
   "cell_type": "code",
   "execution_count": 58,
   "metadata": {},
   "outputs": [
    {
     "data": {
      "text/html": [
       "<div>\n",
       "<style scoped>\n",
       "    .dataframe tbody tr th:only-of-type {\n",
       "        vertical-align: middle;\n",
       "    }\n",
       "\n",
       "    .dataframe tbody tr th {\n",
       "        vertical-align: top;\n",
       "    }\n",
       "\n",
       "    .dataframe thead th {\n",
       "        text-align: right;\n",
       "    }\n",
       "</style>\n",
       "<table border=\"1\" class=\"dataframe\">\n",
       "  <thead>\n",
       "    <tr style=\"text-align: right;\">\n",
       "      <th></th>\n",
       "      <th>Literacy Rate</th>\n",
       "      <th>Rainfall</th>\n",
       "      <th>Population</th>\n",
       "      <th>Area of the state</th>\n",
       "      <th>Population Density</th>\n",
       "    </tr>\n",
       "    <tr>\n",
       "      <th>State Name</th>\n",
       "      <th></th>\n",
       "      <th></th>\n",
       "      <th></th>\n",
       "      <th></th>\n",
       "      <th></th>\n",
       "    </tr>\n",
       "  </thead>\n",
       "  <tbody>\n",
       "    <tr>\n",
       "      <th>Andhra Pradesh</th>\n",
       "      <td>10.98</td>\n",
       "      <td>1245.0</td>\n",
       "      <td>84580777.0</td>\n",
       "      <td>160205.0</td>\n",
       "      <td>527.953416</td>\n",
       "    </tr>\n",
       "    <tr>\n",
       "      <th>Assam</th>\n",
       "      <td>17.07</td>\n",
       "      <td>2818.0</td>\n",
       "      <td>31205576.0</td>\n",
       "      <td>78438.0</td>\n",
       "      <td>397.837477</td>\n",
       "    </tr>\n",
       "    <tr>\n",
       "      <th>Bihar</th>\n",
       "      <td>61.80</td>\n",
       "      <td>1076.0</td>\n",
       "      <td>104099452.0</td>\n",
       "      <td>94163.0</td>\n",
       "      <td>1105.523953</td>\n",
       "    </tr>\n",
       "    <tr>\n",
       "      <th>Gujarat</th>\n",
       "      <td>78.03</td>\n",
       "      <td>842.5</td>\n",
       "      <td>60439692.0</td>\n",
       "      <td>196024.0</td>\n",
       "      <td>308.328021</td>\n",
       "    </tr>\n",
       "    <tr>\n",
       "      <th>Haryana</th>\n",
       "      <td>75.55</td>\n",
       "      <td>617.0</td>\n",
       "      <td>25351462.0</td>\n",
       "      <td>44212.0</td>\n",
       "      <td>573.406813</td>\n",
       "    </tr>\n",
       "    <tr>\n",
       "      <th>Karnataka</th>\n",
       "      <td>75.36</td>\n",
       "      <td>1248.0</td>\n",
       "      <td>61130704.0</td>\n",
       "      <td>191791.0</td>\n",
       "      <td>318.736041</td>\n",
       "    </tr>\n",
       "    <tr>\n",
       "      <th>Kerala</th>\n",
       "      <td>94.00</td>\n",
       "      <td>3055.0</td>\n",
       "      <td>33387677.0</td>\n",
       "      <td>38863.0</td>\n",
       "      <td>859.112189</td>\n",
       "    </tr>\n",
       "    <tr>\n",
       "      <th>Madhya Pradesh</th>\n",
       "      <td>70.60</td>\n",
       "      <td>1017.0</td>\n",
       "      <td>72626809.0</td>\n",
       "      <td>308252.0</td>\n",
       "      <td>235.608557</td>\n",
       "    </tr>\n",
       "    <tr>\n",
       "      <th>Maharashtra</th>\n",
       "      <td>82.34</td>\n",
       "      <td>1455.5</td>\n",
       "      <td>112374333.0</td>\n",
       "      <td>307713.0</td>\n",
       "      <td>365.192023</td>\n",
       "    </tr>\n",
       "    <tr>\n",
       "      <th>Odisha</th>\n",
       "      <td>73.45</td>\n",
       "      <td>1489.0</td>\n",
       "      <td>45989707.0</td>\n",
       "      <td>155707.0</td>\n",
       "      <td>295.360562</td>\n",
       "    </tr>\n",
       "    <tr>\n",
       "      <th>Punjab</th>\n",
       "      <td>76.68</td>\n",
       "      <td>649.0</td>\n",
       "      <td>27704236.0</td>\n",
       "      <td>50362.0</td>\n",
       "      <td>550.101982</td>\n",
       "    </tr>\n",
       "    <tr>\n",
       "      <th>Rajasthan</th>\n",
       "      <td>66.10</td>\n",
       "      <td>143.0</td>\n",
       "      <td>65548437.0</td>\n",
       "      <td>342239.0</td>\n",
       "      <td>191.528251</td>\n",
       "    </tr>\n",
       "    <tr>\n",
       "      <th>Tamil Nadu</th>\n",
       "      <td>80.33</td>\n",
       "      <td>998.0</td>\n",
       "      <td>72147030.0</td>\n",
       "      <td>130060.0</td>\n",
       "      <td>554.721129</td>\n",
       "    </tr>\n",
       "    <tr>\n",
       "      <th>Uttar Pradesh</th>\n",
       "      <td>67.68</td>\n",
       "      <td>1177.3</td>\n",
       "      <td>199812341.0</td>\n",
       "      <td>243286.0</td>\n",
       "      <td>821.306368</td>\n",
       "    </tr>\n",
       "    <tr>\n",
       "      <th>West Bengal</th>\n",
       "      <td>76.26</td>\n",
       "      <td>2089.0</td>\n",
       "      <td>91276115.0</td>\n",
       "      <td>88752.0</td>\n",
       "      <td>1028.440091</td>\n",
       "    </tr>\n",
       "  </tbody>\n",
       "</table>\n",
       "</div>"
      ],
      "text/plain": [
       "                Literacy Rate  Rainfall   Population  Area of the state  \\\n",
       "State Name                                                                \n",
       "Andhra Pradesh          10.98    1245.0   84580777.0           160205.0   \n",
       "Assam                   17.07    2818.0   31205576.0            78438.0   \n",
       "Bihar                   61.80    1076.0  104099452.0            94163.0   \n",
       "Gujarat                 78.03     842.5   60439692.0           196024.0   \n",
       "Haryana                 75.55     617.0   25351462.0            44212.0   \n",
       "Karnataka               75.36    1248.0   61130704.0           191791.0   \n",
       "Kerala                  94.00    3055.0   33387677.0            38863.0   \n",
       "Madhya Pradesh          70.60    1017.0   72626809.0           308252.0   \n",
       "Maharashtra             82.34    1455.5  112374333.0           307713.0   \n",
       "Odisha                  73.45    1489.0   45989707.0           155707.0   \n",
       "Punjab                  76.68     649.0   27704236.0            50362.0   \n",
       "Rajasthan               66.10     143.0   65548437.0           342239.0   \n",
       "Tamil Nadu              80.33     998.0   72147030.0           130060.0   \n",
       "Uttar Pradesh           67.68    1177.3  199812341.0           243286.0   \n",
       "West Bengal             76.26    2089.0   91276115.0            88752.0   \n",
       "\n",
       "                Population Density  \n",
       "State Name                          \n",
       "Andhra Pradesh          527.953416  \n",
       "Assam                   397.837477  \n",
       "Bihar                  1105.523953  \n",
       "Gujarat                 308.328021  \n",
       "Haryana                 573.406813  \n",
       "Karnataka               318.736041  \n",
       "Kerala                  859.112189  \n",
       "Madhya Pradesh          235.608557  \n",
       "Maharashtra             365.192023  \n",
       "Odisha                  295.360562  \n",
       "Punjab                  550.101982  \n",
       "Rajasthan               191.528251  \n",
       "Tamil Nadu              554.721129  \n",
       "Uttar Pradesh           821.306368  \n",
       "West Bengal            1028.440091  "
      ]
     },
     "execution_count": 58,
     "metadata": {},
     "output_type": "execute_result"
    }
   ],
   "source": [
    "data4['Population Density'] = data4['Population'] / data4['Area of the state']\n",
    "data4"
   ]
  },
  {
   "cell_type": "code",
   "execution_count": 44,
   "metadata": {},
   "outputs": [
    {
     "data": {
      "text/plain": [
       "<seaborn.axisgrid.PairGrid at 0x1d8afca0>"
      ]
     },
     "execution_count": 44,
     "metadata": {},
     "output_type": "execute_result"
    },
    {
     "data": {
      "image/png": "[encoded data removed]",
      "text/plain": [
       "<Figure size 900x900 with 30 Axes>"
      ]
     },
     "metadata": {
      "needs_background": "light"
     },
     "output_type": "display_data"
    }
   ],
   "source": [
    "sns.pairplot(data4)"
   ]
  },
  {
   "cell_type": "code",
   "execution_count": 39,
   "metadata": {},
   "outputs": [
    {
     "data": {
      "text/plain": [
       "Index(['Operator', 'In Out Travelling', 'Network Type', 'Rating',\n",
       "       'Call Drop Category', 'Latitude', 'Longitude', 'State Name',\n",
       "       'Average Data Speed Download', 'Average Signal Strength Download',\n",
       "       'Average Data Speed Upload', 'Average Signal Strength Upload',\n",
       "       'Population', 'Literacy Rate', 'Rainfall', 'Area of the state'],\n",
       "      dtype='object')"
      ]
     },
     "execution_count": 39,
     "metadata": {},
     "output_type": "execute_result"
    }
   ],
   "source": [
    "data.columns"
   ]
  },
  {
   "cell_type": "code",
   "execution_count": 40,
   "metadata": {},
   "outputs": [
    {
     "name": "stdout",
     "output_type": "stream",
     "text": [
      "<class 'pandas.core.frame.DataFrame'>\n",
      "RangeIndex: 30785 entries, 0 to 30784\n",
      "Data columns (total 16 columns):\n",
      " #   Column                            Non-Null Count  Dtype  \n",
      "---  ------                            --------------  -----  \n",
      " 0   Operator                          30785 non-null  object \n",
      " 1   In Out Travelling                 30785 non-null  object \n",
      " 2   Network Type                      30785 non-null  object \n",
      " 3   Rating                            30785 non-null  int64  \n",
      " 4   Call Drop Category                30785 non-null  object \n",
      " 5   Latitude                          30785 non-null  float64\n",
      " 6   Longitude                         30785 non-null  float64\n",
      " 7   State Name                        30785 non-null  object \n",
      " 8   Average Data Speed Download       30785 non-null  float64\n",
      " 9   Average Signal Strength Download  30785 non-null  float64\n",
      " 10  Average Data Speed Upload         30785 non-null  float64\n",
      " 11  Average Signal Strength Upload    30785 non-null  float64\n",
      " 12  Population                        30785 non-null  float64\n",
      " 13  Literacy Rate                     30785 non-null  float64\n",
      " 14  Rainfall                          30785 non-null  float64\n",
      " 15  Area of the state                 30785 non-null  float64\n",
      "dtypes: float64(10), int64(1), object(5)\n",
      "memory usage: 3.2+ MB\n"
     ]
    }
   ],
   "source": [
    "data.info()"
   ]
  },
  {
   "cell_type": "code",
   "execution_count": 104,
   "metadata": {},
   "outputs": [
    {
     "data": {
      "text/plain": [
       "<seaborn.axisgrid.PairGrid at 0x44887ec8>"
      ]
     },
     "execution_count": 104,
     "metadata": {},
     "output_type": "execute_result"
    },
    {
     "data": {
      "image/png": "[encoded data removed]",
      "text/plain": [
       "<Figure size 1440x1440 with 72 Axes>"
      ]
     },
     "metadata": {
      "needs_background": "light"
     },
     "output_type": "display_data"
    }
   ],
   "source": [
    "data1 = data.drop(['Rating', 'Latitude', 'Longitude'], axis = 1)\n",
    "sns.pairplot(data1)"
   ]
  },
  {
   "cell_type": "code",
   "execution_count": 99,
   "metadata": {},
   "outputs": [
    {
     "data": {
      "text/html": [
       "<div>\n",
       "<style scoped>\n",
       "    .dataframe tbody tr th:only-of-type {\n",
       "        vertical-align: middle;\n",
       "    }\n",
       "\n",
       "    .dataframe tbody tr th {\n",
       "        vertical-align: top;\n",
       "    }\n",
       "\n",
       "    .dataframe thead th {\n",
       "        text-align: right;\n",
       "    }\n",
       "</style>\n",
       "<table border=\"1\" class=\"dataframe\">\n",
       "  <thead>\n",
       "    <tr style=\"text-align: right;\">\n",
       "      <th></th>\n",
       "      <th>Rating</th>\n",
       "      <th>Latitude</th>\n",
       "      <th>Longitude</th>\n",
       "      <th>Average Data Speed Download</th>\n",
       "      <th>Average Signal Strength Download</th>\n",
       "      <th>Average Data Speed Upload</th>\n",
       "      <th>Average Signal Strength Upload</th>\n",
       "      <th>Population</th>\n",
       "      <th>Literacy Rate</th>\n",
       "      <th>Rainfall</th>\n",
       "      <th>Area of the state</th>\n",
       "    </tr>\n",
       "  </thead>\n",
       "  <tbody>\n",
       "    <tr>\n",
       "      <th>Rating</th>\n",
       "      <td>1.000000</td>\n",
       "      <td>-0.002281</td>\n",
       "      <td>0.128139</td>\n",
       "      <td>0.107355</td>\n",
       "      <td>-0.009265</td>\n",
       "      <td>0.123407</td>\n",
       "      <td>0.037167</td>\n",
       "      <td>-0.075174</td>\n",
       "      <td>-0.024435</td>\n",
       "      <td>0.017366</td>\n",
       "      <td>0.012885</td>\n",
       "    </tr>\n",
       "    <tr>\n",
       "      <th>Latitude</th>\n",
       "      <td>-0.002281</td>\n",
       "      <td>1.000000</td>\n",
       "      <td>0.124229</td>\n",
       "      <td>0.006230</td>\n",
       "      <td>-0.026600</td>\n",
       "      <td>-0.032982</td>\n",
       "      <td>0.027047</td>\n",
       "      <td>0.180954</td>\n",
       "      <td>-0.204830</td>\n",
       "      <td>-0.346943</td>\n",
       "      <td>-0.062440</td>\n",
       "    </tr>\n",
       "    <tr>\n",
       "      <th>Longitude</th>\n",
       "      <td>0.128139</td>\n",
       "      <td>0.124229</td>\n",
       "      <td>1.000000</td>\n",
       "      <td>0.255810</td>\n",
       "      <td>0.013536</td>\n",
       "      <td>0.222827</td>\n",
       "      <td>0.086698</td>\n",
       "      <td>-0.081998</td>\n",
       "      <td>-0.337597</td>\n",
       "      <td>0.372490</td>\n",
       "      <td>-0.656431</td>\n",
       "    </tr>\n",
       "    <tr>\n",
       "      <th>Average Data Speed Download</th>\n",
       "      <td>0.107355</td>\n",
       "      <td>0.006230</td>\n",
       "      <td>0.255810</td>\n",
       "      <td>1.000000</td>\n",
       "      <td>0.035435</td>\n",
       "      <td>0.698465</td>\n",
       "      <td>0.283802</td>\n",
       "      <td>0.039678</td>\n",
       "      <td>-0.287473</td>\n",
       "      <td>0.105436</td>\n",
       "      <td>-0.065393</td>\n",
       "    </tr>\n",
       "    <tr>\n",
       "      <th>Average Signal Strength Download</th>\n",
       "      <td>-0.009265</td>\n",
       "      <td>-0.026600</td>\n",
       "      <td>0.013536</td>\n",
       "      <td>0.035435</td>\n",
       "      <td>1.000000</td>\n",
       "      <td>0.025573</td>\n",
       "      <td>0.014232</td>\n",
       "      <td>0.013990</td>\n",
       "      <td>0.011133</td>\n",
       "      <td>0.053324</td>\n",
       "      <td>-0.029486</td>\n",
       "    </tr>\n",
       "    <tr>\n",
       "      <th>Average Data Speed Upload</th>\n",
       "      <td>0.123407</td>\n",
       "      <td>-0.032982</td>\n",
       "      <td>0.222827</td>\n",
       "      <td>0.698465</td>\n",
       "      <td>0.025573</td>\n",
       "      <td>1.000000</td>\n",
       "      <td>-0.038725</td>\n",
       "      <td>-0.016013</td>\n",
       "      <td>-0.217753</td>\n",
       "      <td>0.049883</td>\n",
       "      <td>-0.080940</td>\n",
       "    </tr>\n",
       "    <tr>\n",
       "      <th>Average Signal Strength Upload</th>\n",
       "      <td>0.037167</td>\n",
       "      <td>0.027047</td>\n",
       "      <td>0.086698</td>\n",
       "      <td>0.283802</td>\n",
       "      <td>0.014232</td>\n",
       "      <td>-0.038725</td>\n",
       "      <td>1.000000</td>\n",
       "      <td>-0.044444</td>\n",
       "      <td>-0.103904</td>\n",
       "      <td>-0.028081</td>\n",
       "      <td>-0.002642</td>\n",
       "    </tr>\n",
       "    <tr>\n",
       "      <th>Population</th>\n",
       "      <td>-0.075174</td>\n",
       "      <td>0.180954</td>\n",
       "      <td>-0.081998</td>\n",
       "      <td>0.039678</td>\n",
       "      <td>0.013990</td>\n",
       "      <td>-0.016013</td>\n",
       "      <td>-0.044444</td>\n",
       "      <td>1.000000</td>\n",
       "      <td>-0.002591</td>\n",
       "      <td>0.280014</td>\n",
       "      <td>0.399032</td>\n",
       "    </tr>\n",
       "    <tr>\n",
       "      <th>Literacy Rate</th>\n",
       "      <td>-0.024435</td>\n",
       "      <td>-0.204830</td>\n",
       "      <td>-0.337597</td>\n",
       "      <td>-0.287473</td>\n",
       "      <td>0.011133</td>\n",
       "      <td>-0.217753</td>\n",
       "      <td>-0.103904</td>\n",
       "      <td>-0.002591</td>\n",
       "      <td>1.000000</td>\n",
       "      <td>0.198137</td>\n",
       "      <td>0.210401</td>\n",
       "    </tr>\n",
       "    <tr>\n",
       "      <th>Rainfall</th>\n",
       "      <td>0.017366</td>\n",
       "      <td>-0.346943</td>\n",
       "      <td>0.372490</td>\n",
       "      <td>0.105436</td>\n",
       "      <td>0.053324</td>\n",
       "      <td>0.049883</td>\n",
       "      <td>-0.028081</td>\n",
       "      <td>0.280014</td>\n",
       "      <td>0.198137</td>\n",
       "      <td>1.000000</td>\n",
       "      <td>-0.135894</td>\n",
       "    </tr>\n",
       "    <tr>\n",
       "      <th>Area of the state</th>\n",
       "      <td>0.012885</td>\n",
       "      <td>-0.062440</td>\n",
       "      <td>-0.656431</td>\n",
       "      <td>-0.065393</td>\n",
       "      <td>-0.029486</td>\n",
       "      <td>-0.080940</td>\n",
       "      <td>-0.002642</td>\n",
       "      <td>0.399032</td>\n",
       "      <td>0.210401</td>\n",
       "      <td>-0.135894</td>\n",
       "      <td>1.000000</td>\n",
       "    </tr>\n",
       "  </tbody>\n",
       "</table>\n",
       "</div>"
      ],
      "text/plain": [
       "                                    Rating  Latitude  Longitude  \\\n",
       "Rating                            1.000000 -0.002281   0.128139   \n",
       "Latitude                         -0.002281  1.000000   0.124229   \n",
       "Longitude                         0.128139  0.124229   1.000000   \n",
       "Average Data Speed Download       0.107355  0.006230   0.255810   \n",
       "Average Signal Strength Download -0.009265 -0.026600   0.013536   \n",
       "Average Data Speed Upload         0.123407 -0.032982   0.222827   \n",
       "Average Signal Strength Upload    0.037167  0.027047   0.086698   \n",
       "Population                       -0.075174  0.180954  -0.081998   \n",
       "Literacy Rate                    -0.024435 -0.204830  -0.337597   \n",
       "Rainfall                          0.017366 -0.346943   0.372490   \n",
       "Area of the state                 0.012885 -0.062440  -0.656431   \n",
       "\n",
       "                                  Average Data Speed Download  \\\n",
       "Rating                                               0.107355   \n",
       "Latitude                                             0.006230   \n",
       "Longitude                                            0.255810   \n",
       "Average Data Speed Download                          1.000000   \n",
       "Average Signal Strength Download                     0.035435   \n",
       "Average Data Speed Upload                            0.698465   \n",
       "Average Signal Strength Upload                       0.283802   \n",
       "Population                                           0.039678   \n",
       "Literacy Rate                                       -0.287473   \n",
       "Rainfall                                             0.105436   \n",
       "Area of the state                                   -0.065393   \n",
       "\n",
       "                                  Average Signal Strength Download  \\\n",
       "Rating                                                   -0.009265   \n",
       "Latitude                                                 -0.026600   \n",
       "Longitude                                                 0.013536   \n",
       "Average Data Speed Download                               0.035435   \n",
       "Average Signal Strength Download                          1.000000   \n",
       "Average Data Speed Upload                                 0.025573   \n",
       "Average Signal Strength Upload                            0.014232   \n",
       "Population                                                0.013990   \n",
       "Literacy Rate                                             0.011133   \n",
       "Rainfall                                                  0.053324   \n",
       "Area of the state                                        -0.029486   \n",
       "\n",
       "                                  Average Data Speed Upload  \\\n",
       "Rating                                             0.123407   \n",
       "Latitude                                          -0.032982   \n",
       "Longitude                                          0.222827   \n",
       "Average Data Speed Download                        0.698465   \n",
       "Average Signal Strength Download                   0.025573   \n",
       "Average Data Speed Upload                          1.000000   \n",
       "Average Signal Strength Upload                    -0.038725   \n",
       "Population                                        -0.016013   \n",
       "Literacy Rate                                     -0.217753   \n",
       "Rainfall                                           0.049883   \n",
       "Area of the state                                 -0.080940   \n",
       "\n",
       "                                  Average Signal Strength Upload  Population  \\\n",
       "Rating                                                  0.037167   -0.075174   \n",
       "Latitude                                                0.027047    0.180954   \n",
       "Longitude                                               0.086698   -0.081998   \n",
       "Average Data Speed Download                             0.283802    0.039678   \n",
       "Average Signal Strength Download                        0.014232    0.013990   \n",
       "Average Data Speed Upload                              -0.038725   -0.016013   \n",
       "Average Signal Strength Upload                          1.000000   -0.044444   \n",
       "Population                                             -0.044444    1.000000   \n",
       "Literacy Rate                                          -0.103904   -0.002591   \n",
       "Rainfall                                               -0.028081    0.280014   \n",
       "Area of the state                                      -0.002642    0.399032   \n",
       "\n",
       "                                  Literacy Rate  Rainfall  Area of the state  \n",
       "Rating                                -0.024435  0.017366           0.012885  \n",
       "Latitude                              -0.204830 -0.346943          -0.062440  \n",
       "Longitude                             -0.337597  0.372490          -0.656431  \n",
       "Average Data Speed Download           -0.287473  0.105436          -0.065393  \n",
       "Average Signal Strength Download       0.011133  0.053324          -0.029486  \n",
       "Average Data Speed Upload             -0.217753  0.049883          -0.080940  \n",
       "Average Signal Strength Upload        -0.103904 -0.028081          -0.002642  \n",
       "Population                            -0.002591  0.280014           0.399032  \n",
       "Literacy Rate                          1.000000  0.198137           0.210401  \n",
       "Rainfall                               0.198137  1.000000          -0.135894  \n",
       "Area of the state                      0.210401 -0.135894           1.000000  "
      ]
     },
     "execution_count": 99,
     "metadata": {},
     "output_type": "execute_result"
    }
   ],
   "source": [
    "# Pearson's Correlation Matrix\n",
    "data.corr()"
   ]
  },
  {
   "cell_type": "code",
   "execution_count": 103,
   "metadata": {},
   "outputs": [
    {
     "data": {
      "text/plain": [
       "<AxesSubplot:>"
      ]
     },
     "execution_count": 103,
     "metadata": {},
     "output_type": "execute_result"
    },
    {
     "data": {
      "image/png": "[encoded data removed]",
      "text/plain": [
       "<Figure size 864x864 with 2 Axes>"
      ]
     },
     "metadata": {
      "needs_background": "light"
     },
     "output_type": "display_data"
    }
   ],
   "source": [
    "plt.figure(figsize = (12,12))\n",
    "sns.heatmap(data.corr(), annot = True, cmap=\"coolwarm\")"
   ]
  },
  {
   "cell_type": "code",
   "execution_count": null,
   "metadata": {},
   "outputs": [],
   "source": []
  }
 ],
 "metadata": {
  "kernelspec": {
   "display_name": "Python 3",
   "language": "python",
   "name": "python3"
  },
  "language_info": {
   "codemirror_mode": {
    "name": "ipython",
    "version": 3
   },
   "file_extension": ".py",
   "mimetype": "text/x-python",
   "name": "python",
   "nbconvert_exporter": "python",
   "pygments_lexer": "ipython3",
   "version": "3.8.3"
  }
 },
 "nbformat": 4,
 "nbformat_minor": 4
}
