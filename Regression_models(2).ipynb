{
 "cells": [
  {
   "cell_type": "markdown",
   "metadata": {},
   "source": [
    "# Regression Models"
   ]
  },
  {
   "cell_type": "code",
   "execution_count": 1,
   "metadata": {},
   "outputs": [],
   "source": [
    "import numpy as np\n",
    "import pandas as pd\n",
    "import matplotlib.pyplot as plt\n",
    "import seaborn as sns"
   ]
  },
  {
   "cell_type": "code",
   "execution_count": 46,
   "metadata": {},
   "outputs": [
    {
     "data": {
      "text/html": [
       "<div>\n",
       "<style scoped>\n",
       "    .dataframe tbody tr th:only-of-type {\n",
       "        vertical-align: middle;\n",
       "    }\n",
       "\n",
       "    .dataframe tbody tr th {\n",
       "        vertical-align: top;\n",
       "    }\n",
       "\n",
       "    .dataframe thead th {\n",
       "        text-align: right;\n",
       "    }\n",
       "</style>\n",
       "<table border=\"1\" class=\"dataframe\">\n",
       "  <thead>\n",
       "    <tr style=\"text-align: right;\">\n",
       "      <th></th>\n",
       "      <th>Unnamed: 0</th>\n",
       "      <th>Operator</th>\n",
       "      <th>In Out Travelling</th>\n",
       "      <th>Network Type</th>\n",
       "      <th>Rating</th>\n",
       "      <th>Call Drop Category</th>\n",
       "      <th>Latitude</th>\n",
       "      <th>Longitude</th>\n",
       "      <th>State Name</th>\n",
       "      <th>Average Data Speed Download</th>\n",
       "      <th>Average Signal Strength Download</th>\n",
       "      <th>Average Data Speed Upload</th>\n",
       "      <th>Average Signal Strength Upload</th>\n",
       "      <th>Population</th>\n",
       "      <th>Literacy Rate</th>\n",
       "      <th>Rainfall</th>\n",
       "      <th>Area of the state</th>\n",
       "    </tr>\n",
       "  </thead>\n",
       "  <tbody>\n",
       "    <tr>\n",
       "      <th>0</th>\n",
       "      <td>0</td>\n",
       "      <td>Airtel</td>\n",
       "      <td>Indoor</td>\n",
       "      <td>4G</td>\n",
       "      <td>3</td>\n",
       "      <td>Satisfactory</td>\n",
       "      <td>12.998502</td>\n",
       "      <td>77.672437</td>\n",
       "      <td>Karnataka</td>\n",
       "      <td>8807.910</td>\n",
       "      <td>-94.86</td>\n",
       "      <td>2591.08</td>\n",
       "      <td>-94.840</td>\n",
       "      <td>61130704.0</td>\n",
       "      <td>75.36</td>\n",
       "      <td>1248.0</td>\n",
       "      <td>191791.0</td>\n",
       "    </tr>\n",
       "    <tr>\n",
       "      <th>1</th>\n",
       "      <td>1</td>\n",
       "      <td>Vodafone</td>\n",
       "      <td>Indoor</td>\n",
       "      <td>4G</td>\n",
       "      <td>1</td>\n",
       "      <td>Call Dropped</td>\n",
       "      <td>23.554190</td>\n",
       "      <td>72.620110</td>\n",
       "      <td>Gujarat</td>\n",
       "      <td>6862.552</td>\n",
       "      <td>-91.96</td>\n",
       "      <td>4671.48</td>\n",
       "      <td>-91.920</td>\n",
       "      <td>60439692.0</td>\n",
       "      <td>78.03</td>\n",
       "      <td>842.5</td>\n",
       "      <td>196024.0</td>\n",
       "    </tr>\n",
       "    <tr>\n",
       "      <th>2</th>\n",
       "      <td>2</td>\n",
       "      <td>Airtel</td>\n",
       "      <td>Indoor</td>\n",
       "      <td>3G</td>\n",
       "      <td>1</td>\n",
       "      <td>Call Dropped</td>\n",
       "      <td>11.327329</td>\n",
       "      <td>76.749743</td>\n",
       "      <td>Tamil Nadu</td>\n",
       "      <td>1178.410</td>\n",
       "      <td>-85.03</td>\n",
       "      <td>968.58</td>\n",
       "      <td>-85.470</td>\n",
       "      <td>72147030.0</td>\n",
       "      <td>80.33</td>\n",
       "      <td>998.0</td>\n",
       "      <td>130060.0</td>\n",
       "    </tr>\n",
       "    <tr>\n",
       "      <th>3</th>\n",
       "      <td>3</td>\n",
       "      <td>Airtel</td>\n",
       "      <td>Indoor</td>\n",
       "      <td>4G</td>\n",
       "      <td>3</td>\n",
       "      <td>Satisfactory</td>\n",
       "      <td>22.279660</td>\n",
       "      <td>73.149369</td>\n",
       "      <td>Gujarat</td>\n",
       "      <td>5694.480</td>\n",
       "      <td>-89.39</td>\n",
       "      <td>2515.34</td>\n",
       "      <td>-89.515</td>\n",
       "      <td>60439692.0</td>\n",
       "      <td>78.03</td>\n",
       "      <td>842.5</td>\n",
       "      <td>196024.0</td>\n",
       "    </tr>\n",
       "    <tr>\n",
       "      <th>4</th>\n",
       "      <td>4</td>\n",
       "      <td>Airtel</td>\n",
       "      <td>Travelling</td>\n",
       "      <td>4G</td>\n",
       "      <td>3</td>\n",
       "      <td>Satisfactory</td>\n",
       "      <td>18.546344</td>\n",
       "      <td>73.819090</td>\n",
       "      <td>Maharashtra</td>\n",
       "      <td>10804.560</td>\n",
       "      <td>-94.05</td>\n",
       "      <td>4968.27</td>\n",
       "      <td>-94.110</td>\n",
       "      <td>112374333.0</td>\n",
       "      <td>82.34</td>\n",
       "      <td>1455.5</td>\n",
       "      <td>307713.0</td>\n",
       "    </tr>\n",
       "  </tbody>\n",
       "</table>\n",
       "</div>"
      ],
      "text/plain": [
       "   Unnamed: 0  Operator In Out Travelling Network Type  Rating  \\\n",
       "0           0    Airtel            Indoor           4G       3   \n",
       "1           1  Vodafone            Indoor           4G       1   \n",
       "2           2    Airtel            Indoor           3G       1   \n",
       "3           3    Airtel            Indoor           4G       3   \n",
       "4           4    Airtel        Travelling           4G       3   \n",
       "\n",
       "  Call Drop Category   Latitude  Longitude   State Name  \\\n",
       "0       Satisfactory  12.998502  77.672437    Karnataka   \n",
       "1       Call Dropped  23.554190  72.620110      Gujarat   \n",
       "2       Call Dropped  11.327329  76.749743   Tamil Nadu   \n",
       "3       Satisfactory  22.279660  73.149369      Gujarat   \n",
       "4       Satisfactory  18.546344  73.819090  Maharashtra   \n",
       "\n",
       "   Average Data Speed Download  Average Signal Strength Download  \\\n",
       "0                     8807.910                            -94.86   \n",
       "1                     6862.552                            -91.96   \n",
       "2                     1178.410                            -85.03   \n",
       "3                     5694.480                            -89.39   \n",
       "4                    10804.560                            -94.05   \n",
       "\n",
       "   Average Data Speed Upload  Average Signal Strength Upload   Population  \\\n",
       "0                    2591.08                         -94.840   61130704.0   \n",
       "1                    4671.48                         -91.920   60439692.0   \n",
       "2                     968.58                         -85.470   72147030.0   \n",
       "3                    2515.34                         -89.515   60439692.0   \n",
       "4                    4968.27                         -94.110  112374333.0   \n",
       "\n",
       "   Literacy Rate  Rainfall  Area of the state  \n",
       "0          75.36    1248.0           191791.0  \n",
       "1          78.03     842.5           196024.0  \n",
       "2          80.33     998.0           130060.0  \n",
       "3          78.03     842.5           196024.0  \n",
       "4          82.34    1455.5           307713.0  "
      ]
     },
     "execution_count": 46,
     "metadata": {},
     "output_type": "execute_result"
    }
   ],
   "source": [
    "data = pd.read_csv('Project6_data.csv')\n",
    "data.head()"
   ]
  },
  {
   "cell_type": "code",
   "execution_count": 47,
   "metadata": {},
   "outputs": [
    {
     "data": {
      "text/html": [
       "<div>\n",
       "<style scoped>\n",
       "    .dataframe tbody tr th:only-of-type {\n",
       "        vertical-align: middle;\n",
       "    }\n",
       "\n",
       "    .dataframe tbody tr th {\n",
       "        vertical-align: top;\n",
       "    }\n",
       "\n",
       "    .dataframe thead th {\n",
       "        text-align: right;\n",
       "    }\n",
       "</style>\n",
       "<table border=\"1\" class=\"dataframe\">\n",
       "  <thead>\n",
       "    <tr style=\"text-align: right;\">\n",
       "      <th></th>\n",
       "      <th>Operator</th>\n",
       "      <th>In Out Travelling</th>\n",
       "      <th>Network Type</th>\n",
       "      <th>Rating</th>\n",
       "      <th>Call Drop Category</th>\n",
       "      <th>Latitude</th>\n",
       "      <th>Longitude</th>\n",
       "      <th>State Name</th>\n",
       "      <th>Average Data Speed Download</th>\n",
       "      <th>Average Signal Strength Download</th>\n",
       "      <th>Average Data Speed Upload</th>\n",
       "      <th>Average Signal Strength Upload</th>\n",
       "      <th>Population</th>\n",
       "      <th>Literacy Rate</th>\n",
       "      <th>Rainfall</th>\n",
       "      <th>Area of the state</th>\n",
       "    </tr>\n",
       "  </thead>\n",
       "  <tbody>\n",
       "    <tr>\n",
       "      <th>0</th>\n",
       "      <td>Airtel</td>\n",
       "      <td>Indoor</td>\n",
       "      <td>4G</td>\n",
       "      <td>3</td>\n",
       "      <td>Satisfactory</td>\n",
       "      <td>12.998502</td>\n",
       "      <td>77.672437</td>\n",
       "      <td>Karnataka</td>\n",
       "      <td>8807.910</td>\n",
       "      <td>-94.86</td>\n",
       "      <td>2591.08</td>\n",
       "      <td>-94.840</td>\n",
       "      <td>61130704.0</td>\n",
       "      <td>75.36</td>\n",
       "      <td>1248.0</td>\n",
       "      <td>191791.0</td>\n",
       "    </tr>\n",
       "    <tr>\n",
       "      <th>1</th>\n",
       "      <td>Vodafone</td>\n",
       "      <td>Indoor</td>\n",
       "      <td>4G</td>\n",
       "      <td>1</td>\n",
       "      <td>Call Dropped</td>\n",
       "      <td>23.554190</td>\n",
       "      <td>72.620110</td>\n",
       "      <td>Gujarat</td>\n",
       "      <td>6862.552</td>\n",
       "      <td>-91.96</td>\n",
       "      <td>4671.48</td>\n",
       "      <td>-91.920</td>\n",
       "      <td>60439692.0</td>\n",
       "      <td>78.03</td>\n",
       "      <td>842.5</td>\n",
       "      <td>196024.0</td>\n",
       "    </tr>\n",
       "    <tr>\n",
       "      <th>2</th>\n",
       "      <td>Airtel</td>\n",
       "      <td>Indoor</td>\n",
       "      <td>3G</td>\n",
       "      <td>1</td>\n",
       "      <td>Call Dropped</td>\n",
       "      <td>11.327329</td>\n",
       "      <td>76.749743</td>\n",
       "      <td>Tamil Nadu</td>\n",
       "      <td>1178.410</td>\n",
       "      <td>-85.03</td>\n",
       "      <td>968.58</td>\n",
       "      <td>-85.470</td>\n",
       "      <td>72147030.0</td>\n",
       "      <td>80.33</td>\n",
       "      <td>998.0</td>\n",
       "      <td>130060.0</td>\n",
       "    </tr>\n",
       "    <tr>\n",
       "      <th>3</th>\n",
       "      <td>Airtel</td>\n",
       "      <td>Indoor</td>\n",
       "      <td>4G</td>\n",
       "      <td>3</td>\n",
       "      <td>Satisfactory</td>\n",
       "      <td>22.279660</td>\n",
       "      <td>73.149369</td>\n",
       "      <td>Gujarat</td>\n",
       "      <td>5694.480</td>\n",
       "      <td>-89.39</td>\n",
       "      <td>2515.34</td>\n",
       "      <td>-89.515</td>\n",
       "      <td>60439692.0</td>\n",
       "      <td>78.03</td>\n",
       "      <td>842.5</td>\n",
       "      <td>196024.0</td>\n",
       "    </tr>\n",
       "    <tr>\n",
       "      <th>4</th>\n",
       "      <td>Airtel</td>\n",
       "      <td>Travelling</td>\n",
       "      <td>4G</td>\n",
       "      <td>3</td>\n",
       "      <td>Satisfactory</td>\n",
       "      <td>18.546344</td>\n",
       "      <td>73.819090</td>\n",
       "      <td>Maharashtra</td>\n",
       "      <td>10804.560</td>\n",
       "      <td>-94.05</td>\n",
       "      <td>4968.27</td>\n",
       "      <td>-94.110</td>\n",
       "      <td>112374333.0</td>\n",
       "      <td>82.34</td>\n",
       "      <td>1455.5</td>\n",
       "      <td>307713.0</td>\n",
       "    </tr>\n",
       "  </tbody>\n",
       "</table>\n",
       "</div>"
      ],
      "text/plain": [
       "   Operator In Out Travelling Network Type  Rating Call Drop Category  \\\n",
       "0    Airtel            Indoor           4G       3       Satisfactory   \n",
       "1  Vodafone            Indoor           4G       1       Call Dropped   \n",
       "2    Airtel            Indoor           3G       1       Call Dropped   \n",
       "3    Airtel            Indoor           4G       3       Satisfactory   \n",
       "4    Airtel        Travelling           4G       3       Satisfactory   \n",
       "\n",
       "    Latitude  Longitude   State Name  Average Data Speed Download  \\\n",
       "0  12.998502  77.672437    Karnataka                     8807.910   \n",
       "1  23.554190  72.620110      Gujarat                     6862.552   \n",
       "2  11.327329  76.749743   Tamil Nadu                     1178.410   \n",
       "3  22.279660  73.149369      Gujarat                     5694.480   \n",
       "4  18.546344  73.819090  Maharashtra                    10804.560   \n",
       "\n",
       "   Average Signal Strength Download  Average Data Speed Upload  \\\n",
       "0                            -94.86                    2591.08   \n",
       "1                            -91.96                    4671.48   \n",
       "2                            -85.03                     968.58   \n",
       "3                            -89.39                    2515.34   \n",
       "4                            -94.05                    4968.27   \n",
       "\n",
       "   Average Signal Strength Upload   Population  Literacy Rate  Rainfall  \\\n",
       "0                         -94.840   61130704.0          75.36    1248.0   \n",
       "1                         -91.920   60439692.0          78.03     842.5   \n",
       "2                         -85.470   72147030.0          80.33     998.0   \n",
       "3                         -89.515   60439692.0          78.03     842.5   \n",
       "4                         -94.110  112374333.0          82.34    1455.5   \n",
       "\n",
       "   Area of the state  \n",
       "0           191791.0  \n",
       "1           196024.0  \n",
       "2           130060.0  \n",
       "3           196024.0  \n",
       "4           307713.0  "
      ]
     },
     "execution_count": 47,
     "metadata": {},
     "output_type": "execute_result"
    }
   ],
   "source": [
    "data.drop('Unnamed: 0', axis=1, inplace = True)\n",
    "data.head()"
   ]
  },
  {
   "cell_type": "code",
   "execution_count": 48,
   "metadata": {},
   "outputs": [
    {
     "data": {
      "text/plain": [
       "(30785, 16)"
      ]
     },
     "execution_count": 48,
     "metadata": {},
     "output_type": "execute_result"
    }
   ],
   "source": [
    "data.shape"
   ]
  },
  {
   "cell_type": "code",
   "execution_count": 49,
   "metadata": {},
   "outputs": [
    {
     "data": {
      "text/html": [
       "<div>\n",
       "<style scoped>\n",
       "    .dataframe tbody tr th:only-of-type {\n",
       "        vertical-align: middle;\n",
       "    }\n",
       "\n",
       "    .dataframe tbody tr th {\n",
       "        vertical-align: top;\n",
       "    }\n",
       "\n",
       "    .dataframe thead th {\n",
       "        text-align: right;\n",
       "    }\n",
       "</style>\n",
       "<table border=\"1\" class=\"dataframe\">\n",
       "  <thead>\n",
       "    <tr style=\"text-align: right;\">\n",
       "      <th></th>\n",
       "      <th>Rating</th>\n",
       "      <th>Latitude</th>\n",
       "      <th>Longitude</th>\n",
       "      <th>Average Data Speed Download</th>\n",
       "      <th>Average Signal Strength Download</th>\n",
       "      <th>Average Data Speed Upload</th>\n",
       "      <th>Average Signal Strength Upload</th>\n",
       "      <th>Population</th>\n",
       "      <th>Literacy Rate</th>\n",
       "      <th>Rainfall</th>\n",
       "      <th>Area of the state</th>\n",
       "    </tr>\n",
       "  </thead>\n",
       "  <tbody>\n",
       "    <tr>\n",
       "      <th>count</th>\n",
       "      <td>30785.000000</td>\n",
       "      <td>30785.000000</td>\n",
       "      <td>30785.000000</td>\n",
       "      <td>30785.000000</td>\n",
       "      <td>30785.000000</td>\n",
       "      <td>30785.000000</td>\n",
       "      <td>30785.000000</td>\n",
       "      <td>3.078500e+04</td>\n",
       "      <td>30785.000000</td>\n",
       "      <td>30785.000000</td>\n",
       "      <td>30785.000000</td>\n",
       "    </tr>\n",
       "    <tr>\n",
       "      <th>mean</th>\n",
       "      <td>3.527075</td>\n",
       "      <td>20.986716</td>\n",
       "      <td>77.624482</td>\n",
       "      <td>13383.178796</td>\n",
       "      <td>-91.940324</td>\n",
       "      <td>3937.800252</td>\n",
       "      <td>-87.654863</td>\n",
       "      <td>9.340490e+07</td>\n",
       "      <td>74.513815</td>\n",
       "      <td>1222.318883</td>\n",
       "      <td>221781.967549</td>\n",
       "    </tr>\n",
       "    <tr>\n",
       "      <th>std</th>\n",
       "      <td>1.480751</td>\n",
       "      <td>4.904788</td>\n",
       "      <td>4.897669</td>\n",
       "      <td>9652.418551</td>\n",
       "      <td>189.709705</td>\n",
       "      <td>2022.009990</td>\n",
       "      <td>7.696626</td>\n",
       "      <td>4.112688e+07</td>\n",
       "      <td>12.449141</td>\n",
       "      <td>463.221742</td>\n",
       "      <td>93044.821822</td>\n",
       "    </tr>\n",
       "    <tr>\n",
       "      <th>min</th>\n",
       "      <td>1.000000</td>\n",
       "      <td>8.255166</td>\n",
       "      <td>69.017391</td>\n",
       "      <td>0.000000</td>\n",
       "      <td>-8407.000000</td>\n",
       "      <td>220.940000</td>\n",
       "      <td>-103.200000</td>\n",
       "      <td>2.535146e+07</td>\n",
       "      <td>10.980000</td>\n",
       "      <td>143.000000</td>\n",
       "      <td>38863.000000</td>\n",
       "    </tr>\n",
       "    <tr>\n",
       "      <th>25%</th>\n",
       "      <td>2.000000</td>\n",
       "      <td>18.547627</td>\n",
       "      <td>73.739626</td>\n",
       "      <td>5191.980000</td>\n",
       "      <td>-92.580000</td>\n",
       "      <td>2680.020000</td>\n",
       "      <td>-93.000000</td>\n",
       "      <td>6.113070e+07</td>\n",
       "      <td>70.600000</td>\n",
       "      <td>998.000000</td>\n",
       "      <td>130060.000000</td>\n",
       "    </tr>\n",
       "    <tr>\n",
       "      <th>50%</th>\n",
       "      <td>4.000000</td>\n",
       "      <td>20.303444</td>\n",
       "      <td>76.945477</td>\n",
       "      <td>10804.560000</td>\n",
       "      <td>-86.800000</td>\n",
       "      <td>4130.460000</td>\n",
       "      <td>-86.920000</td>\n",
       "      <td>9.127612e+07</td>\n",
       "      <td>76.680000</td>\n",
       "      <td>1248.000000</td>\n",
       "      <td>243286.000000</td>\n",
       "    </tr>\n",
       "    <tr>\n",
       "      <th>75%</th>\n",
       "      <td>5.000000</td>\n",
       "      <td>25.263877</td>\n",
       "      <td>80.197102</td>\n",
       "      <td>20707.870000</td>\n",
       "      <td>-84.740000</td>\n",
       "      <td>5107.230000</td>\n",
       "      <td>-84.949000</td>\n",
       "      <td>1.123743e+08</td>\n",
       "      <td>82.340000</td>\n",
       "      <td>1455.500000</td>\n",
       "      <td>307713.000000</td>\n",
       "    </tr>\n",
       "    <tr>\n",
       "      <th>max</th>\n",
       "      <td>5.000000</td>\n",
       "      <td>32.427797</td>\n",
       "      <td>95.619158</td>\n",
       "      <td>32444.069600</td>\n",
       "      <td>-63.000000</td>\n",
       "      <td>12220.910000</td>\n",
       "      <td>76.930000</td>\n",
       "      <td>1.998123e+08</td>\n",
       "      <td>94.000000</td>\n",
       "      <td>3055.000000</td>\n",
       "      <td>342239.000000</td>\n",
       "    </tr>\n",
       "  </tbody>\n",
       "</table>\n",
       "</div>"
      ],
      "text/plain": [
       "             Rating      Latitude     Longitude  Average Data Speed Download  \\\n",
       "count  30785.000000  30785.000000  30785.000000                 30785.000000   \n",
       "mean       3.527075     20.986716     77.624482                 13383.178796   \n",
       "std        1.480751      4.904788      4.897669                  9652.418551   \n",
       "min        1.000000      8.255166     69.017391                     0.000000   \n",
       "25%        2.000000     18.547627     73.739626                  5191.980000   \n",
       "50%        4.000000     20.303444     76.945477                 10804.560000   \n",
       "75%        5.000000     25.263877     80.197102                 20707.870000   \n",
       "max        5.000000     32.427797     95.619158                 32444.069600   \n",
       "\n",
       "       Average Signal Strength Download  Average Data Speed Upload  \\\n",
       "count                      30785.000000               30785.000000   \n",
       "mean                         -91.940324                3937.800252   \n",
       "std                          189.709705                2022.009990   \n",
       "min                        -8407.000000                 220.940000   \n",
       "25%                          -92.580000                2680.020000   \n",
       "50%                          -86.800000                4130.460000   \n",
       "75%                          -84.740000                5107.230000   \n",
       "max                          -63.000000               12220.910000   \n",
       "\n",
       "       Average Signal Strength Upload    Population  Literacy Rate  \\\n",
       "count                    30785.000000  3.078500e+04   30785.000000   \n",
       "mean                       -87.654863  9.340490e+07      74.513815   \n",
       "std                          7.696626  4.112688e+07      12.449141   \n",
       "min                       -103.200000  2.535146e+07      10.980000   \n",
       "25%                        -93.000000  6.113070e+07      70.600000   \n",
       "50%                        -86.920000  9.127612e+07      76.680000   \n",
       "75%                        -84.949000  1.123743e+08      82.340000   \n",
       "max                         76.930000  1.998123e+08      94.000000   \n",
       "\n",
       "           Rainfall  Area of the state  \n",
       "count  30785.000000       30785.000000  \n",
       "mean    1222.318883      221781.967549  \n",
       "std      463.221742       93044.821822  \n",
       "min      143.000000       38863.000000  \n",
       "25%      998.000000      130060.000000  \n",
       "50%     1248.000000      243286.000000  \n",
       "75%     1455.500000      307713.000000  \n",
       "max     3055.000000      342239.000000  "
      ]
     },
     "execution_count": 49,
     "metadata": {},
     "output_type": "execute_result"
    }
   ],
   "source": [
    "data.describe()"
   ]
  },
  {
   "cell_type": "code",
   "execution_count": 50,
   "metadata": {},
   "outputs": [
    {
     "name": "stdout",
     "output_type": "stream",
     "text": [
      "<class 'pandas.core.frame.DataFrame'>\n",
      "RangeIndex: 30785 entries, 0 to 30784\n",
      "Data columns (total 16 columns):\n",
      " #   Column                            Non-Null Count  Dtype  \n",
      "---  ------                            --------------  -----  \n",
      " 0   Operator                          30785 non-null  object \n",
      " 1   In Out Travelling                 30785 non-null  object \n",
      " 2   Network Type                      30785 non-null  object \n",
      " 3   Rating                            30785 non-null  int64  \n",
      " 4   Call Drop Category                30785 non-null  object \n",
      " 5   Latitude                          30785 non-null  float64\n",
      " 6   Longitude                         30785 non-null  float64\n",
      " 7   State Name                        30785 non-null  object \n",
      " 8   Average Data Speed Download       30785 non-null  float64\n",
      " 9   Average Signal Strength Download  30785 non-null  float64\n",
      " 10  Average Data Speed Upload         30785 non-null  float64\n",
      " 11  Average Signal Strength Upload    30785 non-null  float64\n",
      " 12  Population                        30785 non-null  float64\n",
      " 13  Literacy Rate                     30785 non-null  float64\n",
      " 14  Rainfall                          30785 non-null  float64\n",
      " 15  Area of the state                 30785 non-null  float64\n",
      "dtypes: float64(10), int64(1), object(5)\n",
      "memory usage: 3.2+ MB\n"
     ]
    }
   ],
   "source": [
    "data.info()"
   ]
  },
  {
   "cell_type": "markdown",
   "metadata": {},
   "source": [
    "### Feature Engineering "
   ]
  },
  {
   "cell_type": "markdown",
   "metadata": {},
   "source": [
    "### Handling Outliers "
   ]
  },
  {
   "cell_type": "code",
   "execution_count": 51,
   "metadata": {},
   "outputs": [
    {
     "data": {
      "text/plain": [
       "(30784, 16)"
      ]
     },
     "execution_count": 51,
     "metadata": {},
     "output_type": "execute_result"
    }
   ],
   "source": [
    "# This is a 3G network type but the avg data upload speed is maximum and it is only a single entry > 98 precentile threshold.\n",
    "\n",
    "max_thres = data['Average Data Speed Upload'].quantile(0.98)\n",
    "index = data[data['Average Data Speed Upload'] > max_thres ].index\n",
    "data.drop(index , axis = 0, inplace = True)\n",
    "data.shape"
   ]
  },
  {
   "cell_type": "code",
   "execution_count": 52,
   "metadata": {},
   "outputs": [
    {
     "data": {
      "text/plain": [
       "(30754, 16)"
      ]
     },
     "execution_count": 52,
     "metadata": {},
     "output_type": "execute_result"
    }
   ],
   "source": [
    "max_thres = data['Average Signal Strength Upload'].quantile(0.999)\n",
    "index1 = data[data['Average Signal Strength Upload'] > max_thres ].index\n",
    "data.drop(index1, axis = 0, inplace = True)\n",
    "data.shape"
   ]
  },
  {
   "cell_type": "code",
   "execution_count": 53,
   "metadata": {},
   "outputs": [
    {
     "data": {
      "text/plain": [
       "(30597, 16)"
      ]
     },
     "execution_count": 53,
     "metadata": {},
     "output_type": "execute_result"
    }
   ],
   "source": [
    "index2 = data[data['Rainfall'] > data['Rainfall'].quantile(0.95)].index\n",
    "data.drop(index2, axis = 0, inplace = True)\n",
    "data.shape"
   ]
  },
  {
   "cell_type": "markdown",
   "metadata": {},
   "source": [
    "### One hot Encoding "
   ]
  },
  {
   "cell_type": "code",
   "execution_count": null,
   "metadata": {},
   "outputs": [],
   "source": [
    "data.drop('State Name', axis=1, inplace= True)\n",
    "data1 = data"
   ]
  },
  {
   "cell_type": "code",
   "execution_count": 54,
   "metadata": {},
   "outputs": [
    {
     "data": {
      "text/html": [
       "<div>\n",
       "<style scoped>\n",
       "    .dataframe tbody tr th:only-of-type {\n",
       "        vertical-align: middle;\n",
       "    }\n",
       "\n",
       "    .dataframe tbody tr th {\n",
       "        vertical-align: top;\n",
       "    }\n",
       "\n",
       "    .dataframe thead th {\n",
       "        text-align: right;\n",
       "    }\n",
       "</style>\n",
       "<table border=\"1\" class=\"dataframe\">\n",
       "  <thead>\n",
       "    <tr style=\"text-align: right;\">\n",
       "      <th></th>\n",
       "      <th>Operator</th>\n",
       "      <th>In Out Travelling</th>\n",
       "      <th>Network Type</th>\n",
       "      <th>Rating</th>\n",
       "      <th>Call Drop Category</th>\n",
       "      <th>Latitude</th>\n",
       "      <th>Longitude</th>\n",
       "      <th>Average Data Speed Download</th>\n",
       "      <th>Average Signal Strength Download</th>\n",
       "      <th>Average Data Speed Upload</th>\n",
       "      <th>Average Signal Strength Upload</th>\n",
       "      <th>Population</th>\n",
       "      <th>Literacy Rate</th>\n",
       "      <th>Rainfall</th>\n",
       "      <th>Area of the state</th>\n",
       "    </tr>\n",
       "  </thead>\n",
       "  <tbody>\n",
       "    <tr>\n",
       "      <th>0</th>\n",
       "      <td>0</td>\n",
       "      <td>0</td>\n",
       "      <td>1</td>\n",
       "      <td>3</td>\n",
       "      <td>2</td>\n",
       "      <td>12.998502</td>\n",
       "      <td>77.672437</td>\n",
       "      <td>8807.910</td>\n",
       "      <td>94.86</td>\n",
       "      <td>2591.08</td>\n",
       "      <td>94.840</td>\n",
       "      <td>61130704.0</td>\n",
       "      <td>75.36</td>\n",
       "      <td>1248.0</td>\n",
       "      <td>191791.0</td>\n",
       "    </tr>\n",
       "    <tr>\n",
       "      <th>1</th>\n",
       "      <td>4</td>\n",
       "      <td>0</td>\n",
       "      <td>1</td>\n",
       "      <td>1</td>\n",
       "      <td>0</td>\n",
       "      <td>23.554190</td>\n",
       "      <td>72.620110</td>\n",
       "      <td>6862.552</td>\n",
       "      <td>91.96</td>\n",
       "      <td>4671.48</td>\n",
       "      <td>91.920</td>\n",
       "      <td>60439692.0</td>\n",
       "      <td>78.03</td>\n",
       "      <td>842.5</td>\n",
       "      <td>196024.0</td>\n",
       "    </tr>\n",
       "    <tr>\n",
       "      <th>2</th>\n",
       "      <td>0</td>\n",
       "      <td>0</td>\n",
       "      <td>0</td>\n",
       "      <td>1</td>\n",
       "      <td>0</td>\n",
       "      <td>11.327329</td>\n",
       "      <td>76.749743</td>\n",
       "      <td>1178.410</td>\n",
       "      <td>85.03</td>\n",
       "      <td>968.58</td>\n",
       "      <td>85.470</td>\n",
       "      <td>72147030.0</td>\n",
       "      <td>80.33</td>\n",
       "      <td>998.0</td>\n",
       "      <td>130060.0</td>\n",
       "    </tr>\n",
       "    <tr>\n",
       "      <th>3</th>\n",
       "      <td>0</td>\n",
       "      <td>0</td>\n",
       "      <td>1</td>\n",
       "      <td>3</td>\n",
       "      <td>2</td>\n",
       "      <td>22.279660</td>\n",
       "      <td>73.149369</td>\n",
       "      <td>5694.480</td>\n",
       "      <td>89.39</td>\n",
       "      <td>2515.34</td>\n",
       "      <td>89.515</td>\n",
       "      <td>60439692.0</td>\n",
       "      <td>78.03</td>\n",
       "      <td>842.5</td>\n",
       "      <td>196024.0</td>\n",
       "    </tr>\n",
       "    <tr>\n",
       "      <th>4</th>\n",
       "      <td>0</td>\n",
       "      <td>2</td>\n",
       "      <td>1</td>\n",
       "      <td>3</td>\n",
       "      <td>2</td>\n",
       "      <td>18.546344</td>\n",
       "      <td>73.819090</td>\n",
       "      <td>10804.560</td>\n",
       "      <td>94.05</td>\n",
       "      <td>4968.27</td>\n",
       "      <td>94.110</td>\n",
       "      <td>112374333.0</td>\n",
       "      <td>82.34</td>\n",
       "      <td>1455.5</td>\n",
       "      <td>307713.0</td>\n",
       "    </tr>\n",
       "  </tbody>\n",
       "</table>\n",
       "</div>"
      ],
      "text/plain": [
       "   Operator  In Out Travelling  Network Type  Rating  Call Drop Category  \\\n",
       "0         0                  0             1       3                   2   \n",
       "1         4                  0             1       1                   0   \n",
       "2         0                  0             0       1                   0   \n",
       "3         0                  0             1       3                   2   \n",
       "4         0                  2             1       3                   2   \n",
       "\n",
       "    Latitude  Longitude  Average Data Speed Download  \\\n",
       "0  12.998502  77.672437                     8807.910   \n",
       "1  23.554190  72.620110                     6862.552   \n",
       "2  11.327329  76.749743                     1178.410   \n",
       "3  22.279660  73.149369                     5694.480   \n",
       "4  18.546344  73.819090                    10804.560   \n",
       "\n",
       "   Average Signal Strength Download  Average Data Speed Upload  \\\n",
       "0                             94.86                    2591.08   \n",
       "1                             91.96                    4671.48   \n",
       "2                             85.03                     968.58   \n",
       "3                             89.39                    2515.34   \n",
       "4                             94.05                    4968.27   \n",
       "\n",
       "   Average Signal Strength Upload   Population  Literacy Rate  Rainfall  \\\n",
       "0                          94.840   61130704.0          75.36    1248.0   \n",
       "1                          91.920   60439692.0          78.03     842.5   \n",
       "2                          85.470   72147030.0          80.33     998.0   \n",
       "3                          89.515   60439692.0          78.03     842.5   \n",
       "4                          94.110  112374333.0          82.34    1455.5   \n",
       "\n",
       "   Area of the state  \n",
       "0           191791.0  \n",
       "1           196024.0  \n",
       "2           130060.0  \n",
       "3           196024.0  \n",
       "4           307713.0  "
      ]
     },
     "execution_count": 54,
     "metadata": {},
     "output_type": "execute_result"
    }
   ],
   "source": [
    "data1 = pd.get_dummies(data1)\n",
    "data1.head()"
   ]
  },
  {
   "cell_type": "code",
   "execution_count": 64,
   "metadata": {},
   "outputs": [],
   "source": [
    "data1['Average Signal Strength Download'] = data1['Average Signal Strength Download']*(-1)\n",
    "data1['Average Signal Strength Upload'] = data1['Average Signal Strength Upload']*(-1)"
   ]
  },
  {
   "cell_type": "code",
   "execution_count": 65,
   "metadata": {},
   "outputs": [
    {
     "data": {
      "text/html": [
       "<div>\n",
       "<style scoped>\n",
       "    .dataframe tbody tr th:only-of-type {\n",
       "        vertical-align: middle;\n",
       "    }\n",
       "\n",
       "    .dataframe tbody tr th {\n",
       "        vertical-align: top;\n",
       "    }\n",
       "\n",
       "    .dataframe thead th {\n",
       "        text-align: right;\n",
       "    }\n",
       "</style>\n",
       "<table border=\"1\" class=\"dataframe\">\n",
       "  <thead>\n",
       "    <tr style=\"text-align: right;\">\n",
       "      <th></th>\n",
       "      <th>Operator</th>\n",
       "      <th>In Out Travelling</th>\n",
       "      <th>Network Type</th>\n",
       "      <th>Rating</th>\n",
       "      <th>Call Drop Category</th>\n",
       "      <th>Latitude</th>\n",
       "      <th>Longitude</th>\n",
       "      <th>Average Data Speed Download</th>\n",
       "      <th>Average Signal Strength Download</th>\n",
       "      <th>Average Data Speed Upload</th>\n",
       "      <th>Average Signal Strength Upload</th>\n",
       "      <th>Population</th>\n",
       "      <th>Literacy Rate</th>\n",
       "      <th>Rainfall</th>\n",
       "      <th>Area of the state</th>\n",
       "    </tr>\n",
       "  </thead>\n",
       "  <tbody>\n",
       "    <tr>\n",
       "      <th>0</th>\n",
       "      <td>0</td>\n",
       "      <td>0</td>\n",
       "      <td>1</td>\n",
       "      <td>3</td>\n",
       "      <td>2</td>\n",
       "      <td>12.998502</td>\n",
       "      <td>77.672437</td>\n",
       "      <td>8807.910</td>\n",
       "      <td>94.86</td>\n",
       "      <td>2591.08</td>\n",
       "      <td>94.840</td>\n",
       "      <td>61130704.0</td>\n",
       "      <td>75.36</td>\n",
       "      <td>1248.0</td>\n",
       "      <td>191791.0</td>\n",
       "    </tr>\n",
       "    <tr>\n",
       "      <th>1</th>\n",
       "      <td>4</td>\n",
       "      <td>0</td>\n",
       "      <td>1</td>\n",
       "      <td>1</td>\n",
       "      <td>0</td>\n",
       "      <td>23.554190</td>\n",
       "      <td>72.620110</td>\n",
       "      <td>6862.552</td>\n",
       "      <td>91.96</td>\n",
       "      <td>4671.48</td>\n",
       "      <td>91.920</td>\n",
       "      <td>60439692.0</td>\n",
       "      <td>78.03</td>\n",
       "      <td>842.5</td>\n",
       "      <td>196024.0</td>\n",
       "    </tr>\n",
       "    <tr>\n",
       "      <th>2</th>\n",
       "      <td>0</td>\n",
       "      <td>0</td>\n",
       "      <td>0</td>\n",
       "      <td>1</td>\n",
       "      <td>0</td>\n",
       "      <td>11.327329</td>\n",
       "      <td>76.749743</td>\n",
       "      <td>1178.410</td>\n",
       "      <td>85.03</td>\n",
       "      <td>968.58</td>\n",
       "      <td>85.470</td>\n",
       "      <td>72147030.0</td>\n",
       "      <td>80.33</td>\n",
       "      <td>998.0</td>\n",
       "      <td>130060.0</td>\n",
       "    </tr>\n",
       "    <tr>\n",
       "      <th>3</th>\n",
       "      <td>0</td>\n",
       "      <td>0</td>\n",
       "      <td>1</td>\n",
       "      <td>3</td>\n",
       "      <td>2</td>\n",
       "      <td>22.279660</td>\n",
       "      <td>73.149369</td>\n",
       "      <td>5694.480</td>\n",
       "      <td>89.39</td>\n",
       "      <td>2515.34</td>\n",
       "      <td>89.515</td>\n",
       "      <td>60439692.0</td>\n",
       "      <td>78.03</td>\n",
       "      <td>842.5</td>\n",
       "      <td>196024.0</td>\n",
       "    </tr>\n",
       "    <tr>\n",
       "      <th>4</th>\n",
       "      <td>0</td>\n",
       "      <td>2</td>\n",
       "      <td>1</td>\n",
       "      <td>3</td>\n",
       "      <td>2</td>\n",
       "      <td>18.546344</td>\n",
       "      <td>73.819090</td>\n",
       "      <td>10804.560</td>\n",
       "      <td>94.05</td>\n",
       "      <td>4968.27</td>\n",
       "      <td>94.110</td>\n",
       "      <td>112374333.0</td>\n",
       "      <td>82.34</td>\n",
       "      <td>1455.5</td>\n",
       "      <td>307713.0</td>\n",
       "    </tr>\n",
       "  </tbody>\n",
       "</table>\n",
       "</div>"
      ],
      "text/plain": [
       "   Operator  In Out Travelling  Network Type  Rating  Call Drop Category  \\\n",
       "0         0                  0             1       3                   2   \n",
       "1         4                  0             1       1                   0   \n",
       "2         0                  0             0       1                   0   \n",
       "3         0                  0             1       3                   2   \n",
       "4         0                  2             1       3                   2   \n",
       "\n",
       "    Latitude  Longitude  Average Data Speed Download  \\\n",
       "0  12.998502  77.672437                     8807.910   \n",
       "1  23.554190  72.620110                     6862.552   \n",
       "2  11.327329  76.749743                     1178.410   \n",
       "3  22.279660  73.149369                     5694.480   \n",
       "4  18.546344  73.819090                    10804.560   \n",
       "\n",
       "   Average Signal Strength Download  Average Data Speed Upload  \\\n",
       "0                             94.86                    2591.08   \n",
       "1                             91.96                    4671.48   \n",
       "2                             85.03                     968.58   \n",
       "3                             89.39                    2515.34   \n",
       "4                             94.05                    4968.27   \n",
       "\n",
       "   Average Signal Strength Upload   Population  Literacy Rate  Rainfall  \\\n",
       "0                          94.840   61130704.0          75.36    1248.0   \n",
       "1                          91.920   60439692.0          78.03     842.5   \n",
       "2                          85.470   72147030.0          80.33     998.0   \n",
       "3                          89.515   60439692.0          78.03     842.5   \n",
       "4                          94.110  112374333.0          82.34    1455.5   \n",
       "\n",
       "   Area of the state  \n",
       "0           191791.0  \n",
       "1           196024.0  \n",
       "2           130060.0  \n",
       "3           196024.0  \n",
       "4           307713.0  "
      ]
     },
     "execution_count": 65,
     "metadata": {},
     "output_type": "execute_result"
    }
   ],
   "source": [
    "data1.head()"
   ]
  },
  {
   "cell_type": "code",
   "execution_count": 66,
   "metadata": {},
   "outputs": [
    {
     "data": {
      "text/plain": [
       "Operator                            0.0\n",
       "In Out Travelling                   0.0\n",
       "Network Type                        0.0\n",
       "Rating                              0.0\n",
       "Call Drop Category                  0.0\n",
       "Latitude                            0.0\n",
       "Longitude                           0.0\n",
       "Average Data Speed Download         0.0\n",
       "Average Signal Strength Download    0.0\n",
       "Average Data Speed Upload           0.0\n",
       "Average Signal Strength Upload      0.0\n",
       "Population                          0.0\n",
       "Literacy Rate                       0.0\n",
       "Rainfall                            0.0\n",
       "Area of the state                   0.0\n",
       "dtype: float64"
      ]
     },
     "execution_count": 66,
     "metadata": {},
     "output_type": "execute_result"
    }
   ],
   "source": [
    "data1[data1<0].sum()"
   ]
  },
  {
   "cell_type": "markdown",
   "metadata": {},
   "source": [
    "### Feature Selection "
   ]
  },
  {
   "cell_type": "code",
   "execution_count": 67,
   "metadata": {},
   "outputs": [],
   "source": [
    "X = data1.drop('Average Signal Strength Download', axis=1)\n",
    "y = data1['Average Signal Strength Download']"
   ]
  },
  {
   "cell_type": "code",
   "execution_count": 74,
   "metadata": {},
   "outputs": [],
   "source": [
    "# Scale the data\n",
    "from sklearn.preprocessing import MinMaxScaler\n",
    "sc = MinMaxScaler()\n",
    "X = sc.fit_transform(X)"
   ]
  },
  {
   "cell_type": "code",
   "execution_count": 75,
   "metadata": {},
   "outputs": [
    {
     "data": {
      "text/plain": [
       "ExtraTreesRegressor()"
      ]
     },
     "execution_count": 75,
     "metadata": {},
     "output_type": "execute_result"
    }
   ],
   "source": [
    "from sklearn.ensemble import ExtraTreesRegressor\n",
    "model = ExtraTreesRegressor()\n",
    "model.fit(X,y)"
   ]
  },
  {
   "cell_type": "code",
   "execution_count": 69,
   "metadata": {},
   "outputs": [
    {
     "name": "stdout",
     "output_type": "stream",
     "text": [
      "[2.14374531e-01 3.01714741e-03 3.40340388e-02 8.44589763e-03\n",
      " 3.62682705e-10 6.17656783e-03 5.52450736e-06 2.91018211e-01\n",
      " 1.65311959e-01 1.27175595e-01 1.00864433e-02 2.36924865e-02\n",
      " 8.71713217e-02 2.94902758e-02]\n"
     ]
    }
   ],
   "source": [
    "print(model.feature_importances_)"
   ]
  },
  {
   "cell_type": "code",
   "execution_count": 77,
   "metadata": {},
   "outputs": [
    {
     "data": {
      "text/plain": [
       "Index(['Operator', 'In Out Travelling', 'Network Type', 'Rating',\n",
       "       'Call Drop Category', 'Latitude', 'Longitude',\n",
       "       'Average Data Speed Download', 'Average Signal Strength Download',\n",
       "       'Average Data Speed Upload', 'Average Signal Strength Upload',\n",
       "       'Population', 'Literacy Rate', 'Rainfall', 'Area of the state'],\n",
       "      dtype='object')"
      ]
     },
     "execution_count": 77,
     "metadata": {},
     "output_type": "execute_result"
    }
   ],
   "source": [
    "data1.columns"
   ]
  },
  {
   "cell_type": "code",
   "execution_count": 78,
   "metadata": {},
   "outputs": [
    {
     "data": {
      "image/png": "[encoded data removed]",
      "text/plain": [
       "<Figure size 432x288 with 1 Axes>"
      ]
     },
     "metadata": {
      "needs_background": "light"
     },
     "output_type": "display_data"
    }
   ],
   "source": [
    "rank_features = pd.Series(model.feature_importances_, index=[['Operator', 'In Out Travelling', 'Network Type', 'Rating',\n",
    "       'Call Drop Category', 'Latitude', 'Longitude',\n",
    "       'Average Data Speed Download',\n",
    "       'Average Data Speed Upload', 'Average Signal Strength Upload',\n",
    "       'Population', 'Literacy Rate', 'Rainfall', 'Area of the state']])\n",
    "rank_features.nlargest(10).plot(kind='barh')\n",
    "plt.show()"
   ]
  },
  {
   "cell_type": "markdown",
   "metadata": {},
   "source": [
    "## Model Creation for Average Signal Strength Download feature."
   ]
  },
  {
   "cell_type": "code",
   "execution_count": 82,
   "metadata": {},
   "outputs": [],
   "source": [
    "X = data1[['Operator','Network Type', 'Rainfall','Latitude', 'Longitude', 'Average Data Speed Download', 'Average Data Speed Upload', 'Average Signal Strength Upload'  ]]\n",
    "y = data1['Average Signal Strength Download']"
   ]
  },
  {
   "cell_type": "code",
   "execution_count": 83,
   "metadata": {},
   "outputs": [],
   "source": [
    "# Train Test Split\n",
    "from sklearn.model_selection import train_test_split\n",
    "X_train, X_test, y_train, y_test = train_test_split(X,y, test_size=0.3, random_state = 0)"
   ]
  },
  {
   "cell_type": "code",
   "execution_count": 85,
   "metadata": {},
   "outputs": [],
   "source": [
    "## Scaling of data\n",
    "from sklearn.preprocessing import MinMaxScaler\n",
    "mmc = MinMaxScaler()\n",
    "X_train = mmc.fit_transform(X_train)\n",
    "X_test = mmc.fit_transform(X_test)"
   ]
  },
  {
   "cell_type": "code",
   "execution_count": 87,
   "metadata": {},
   "outputs": [],
   "source": [
    "# Create a function with many machine learning models\n",
    "def models(X_train, y_train):\n",
    "    \n",
    "    # Use linear Regression\n",
    "    from sklearn.linear_model import LinearRegression\n",
    "    lin = LinearRegression()\n",
    "    lin.fit(X_train, y_train)\n",
    "    \n",
    "    # Use linear Lasso Regression\n",
    "    from sklearn.linear_model import Lasso\n",
    "    lasso = Lasso()\n",
    "    lasso.fit(X_train, y_train)    \n",
    "    \n",
    "    # Use SVR (linear kernel)\n",
    "    from sklearn.svm import SVR\n",
    "    svr_lin = SVR(kernel = 'linear')\n",
    "    svr_lin.fit(X_train, y_train)\n",
    "    \n",
    "    # Use SVR (RBF kernel)\n",
    "    from sklearn.svm import SVR\n",
    "    svr_rbf = SVR(kernel = 'rbf')\n",
    "    svr_rbf.fit(X_train, y_train)\n",
    "        \n",
    "    # Use Decision Tree\n",
    "    from sklearn.tree import DecisionTreeRegressor\n",
    "    tree = DecisionTreeRegressor()\n",
    "    tree.fit(X_train, y_train)\n",
    "    \n",
    "    # Use the Random Forest Regressor\n",
    "    from sklearn.ensemble import RandomForestRegressor\n",
    "    forest = RandomForestRegressor(n_estimators = 100, criterion='mse')\n",
    "    forest.fit(X_train, y_train)\n",
    "    \n",
    "    # Print the training accuracy for each model\n",
    "    print(\"[0]Linear Regression Training Accuracy: \", lin.score(X_train, y_train))\n",
    "    print(\"[1]Lasso Regression Training Accuracy: \", lasso.score(X_train, y_train))\n",
    "    print(\"[2]SVR linear Training Accuracy: \", svr_lin.score(X_train, y_train))\n",
    "    print(\"[3]SVR RBF Training Accuracy: \", svr_rbf.score(X_train, y_train))\n",
    "    print(\"[4]Decision Tree Training Accuracy: \", tree.score(X_train, y_train))\n",
    "    print(\"[5]Random Forest Training Accuracy: \", forest.score(X_train, y_train))\n",
    "\n",
    "    return lin, lasso, svr_lin, svr_rbf, tree, forest"
   ]
  },
  {
   "cell_type": "code",
   "execution_count": 88,
   "metadata": {},
   "outputs": [
    {
     "name": "stdout",
     "output_type": "stream",
     "text": [
      "[0]Linear Regression Training Accuracy:  0.004685411155775365\n",
      "[1]Lasso Regression Training Accuracy:  0.002751699389760609\n",
      "[2]SVR linear Training Accuracy:  -0.0002558927753304463\n",
      "[3]SVR RBF Training Accuracy:  0.0002783971821694875\n",
      "[4]Decision Tree Training Accuracy:  1.0\n",
      "[5]Random Forest Training Accuracy:  0.9971502346682622\n"
     ]
    }
   ],
   "source": [
    "# Get and train all of the models\n",
    "model = models(X_train, y_train)"
   ]
  },
  {
   "cell_type": "code",
   "execution_count": 89,
   "metadata": {},
   "outputs": [
    {
     "name": "stdout",
     "output_type": "stream",
     "text": [
      " Model[0] MSE:   212.08522463141327\n",
      " Model[0] R2 Value:   0.005819348470509911\n",
      "\n",
      "\n",
      " Model[1] MSE:   212.38686246222943\n",
      " Model[1] R2 Value:   0.0029893941504097743\n",
      "\n",
      "\n",
      " Model[2] MSE:   212.7794607970479\n",
      " Model[2] R2 Value:   -0.0006999722681815257\n",
      "\n",
      "\n",
      " Model[3] MSE:   212.72274973602873\n",
      " Model[3] R2 Value:   -0.00016662009004542178\n",
      "\n",
      "\n",
      " Model[4] MSE:   0.02379250366743547\n",
      " Model[4] R2 Value:   0.9999999874880566\n",
      "\n",
      "\n",
      " Model[5] MSE:   48.14850649991139\n",
      " Model[5] R2 Value:   0.9487598820671701\n",
      "\n",
      "\n"
     ]
    }
   ],
   "source": [
    "# print the prediction\n",
    "from sklearn.metrics import mean_squared_error\n",
    "from sklearn.metrics import r2_score\n",
    "\n",
    "for i in range(6):\n",
    "    y_pred = model[i].predict(X_test)\n",
    "    print(\" Model\" + str([i])+\" MSE:  \"  , mean_squared_error(y_test, y_pred, squared=False))\n",
    "    print(\" Model\" + str([i])+\" R2 Value:  \", r2_score(y_test, y_pred) )\n",
    "    print(\"\\n\")"
   ]
  },
  {
   "cell_type": "markdown",
   "metadata": {},
   "source": [
    "Note: \n",
    "Decision Tree Regressor Model is best to predict avg signal strength download feature. "
   ]
  },
  {
   "cell_type": "code",
   "execution_count": null,
   "metadata": {},
   "outputs": [],
   "source": []
  },
  {
   "cell_type": "markdown",
   "metadata": {},
   "source": [
    "## feature selection for Avg data speed upload"
   ]
  },
  {
   "cell_type": "code",
   "execution_count": 91,
   "metadata": {},
   "outputs": [],
   "source": [
    "X = data1.drop('Average Data Speed Upload', axis=1)\n",
    "y = data1['Average Data Speed Upload']"
   ]
  },
  {
   "cell_type": "code",
   "execution_count": 92,
   "metadata": {},
   "outputs": [],
   "source": [
    "# Scale the data\n",
    "from sklearn.preprocessing import MinMaxScaler\n",
    "sc = MinMaxScaler()\n",
    "X = sc.fit_transform(X)"
   ]
  },
  {
   "cell_type": "code",
   "execution_count": 93,
   "metadata": {},
   "outputs": [
    {
     "data": {
      "text/plain": [
       "ExtraTreesRegressor()"
      ]
     },
     "execution_count": 93,
     "metadata": {},
     "output_type": "execute_result"
    }
   ],
   "source": [
    "from sklearn.ensemble import ExtraTreesRegressor\n",
    "model = ExtraTreesRegressor()\n",
    "model.fit(X,y)"
   ]
  },
  {
   "cell_type": "code",
   "execution_count": 94,
   "metadata": {},
   "outputs": [
    {
     "name": "stdout",
     "output_type": "stream",
     "text": [
      "[4.43782432e-02 1.84800517e-05 5.27265856e-01 8.15847601e-06\n",
      " 1.44808961e-05 3.52905523e-02 1.04822981e-02 1.31173943e-01\n",
      " 7.46620555e-02 8.54218000e-02 2.13970537e-02 2.61907860e-02\n",
      " 1.86064846e-02 2.50898087e-02]\n"
     ]
    }
   ],
   "source": [
    "print(model.feature_importances_)"
   ]
  },
  {
   "cell_type": "code",
   "execution_count": 95,
   "metadata": {},
   "outputs": [
    {
     "data": {
      "image/png": "[encoded data removed]",
      "text/plain": [
       "<Figure size 432x288 with 1 Axes>"
      ]
     },
     "metadata": {
      "needs_background": "light"
     },
     "output_type": "display_data"
    }
   ],
   "source": [
    "rank_features = pd.Series(model.feature_importances_, index=[['Operator', 'In Out Travelling', 'Network Type', 'Rating',\n",
    "       'Call Drop Category', 'Latitude', 'Longitude',\n",
    "       'Average Data Speed Download', 'Average Signal Strength Download',\n",
    "        'Average Signal Strength Upload',\n",
    "       'Population', 'Literacy Rate', 'Rainfall', 'Area of the state']])\n",
    "rank_features.nlargest(10).plot(kind='barh')\n",
    "plt.show()"
   ]
  },
  {
   "cell_type": "markdown",
   "metadata": {},
   "source": [
    "### Model creation for avg data speed upload "
   ]
  },
  {
   "cell_type": "code",
   "execution_count": 97,
   "metadata": {},
   "outputs": [],
   "source": [
    "X = data1[['Network Type','Average Data Speed Download', 'Average Signal Strength Download',\n",
    "        'Average Signal Strength Upload','Operator','Latitude', 'Longitude']]\n",
    "y = data1['Average Data Speed Upload']"
   ]
  },
  {
   "cell_type": "code",
   "execution_count": 98,
   "metadata": {},
   "outputs": [],
   "source": [
    "# Train Test Split\n",
    "from sklearn.model_selection import train_test_split\n",
    "X_train, X_test, y_train, y_test = train_test_split(X,y, test_size=0.3, random_state = 0)"
   ]
  },
  {
   "cell_type": "code",
   "execution_count": 99,
   "metadata": {},
   "outputs": [],
   "source": [
    "# Scaling of data\n",
    "from sklearn.preprocessing import MinMaxScaler\n",
    "mmc = MinMaxScaler()\n",
    "X_train = mmc.fit_transform(X_train)\n",
    "X_test = mmc.fit_transform(X_test)"
   ]
  },
  {
   "cell_type": "code",
   "execution_count": 100,
   "metadata": {},
   "outputs": [],
   "source": [
    "# Create a function with many machine learning models\n",
    "def models(X_train, y_train):\n",
    "    \n",
    "    # Use linear Regression\n",
    "    from sklearn.linear_model import LinearRegression\n",
    "    lin = LinearRegression()\n",
    "    lin.fit(X_train, y_train)\n",
    "    \n",
    "    # Use linear Lasso Regression\n",
    "    from sklearn.linear_model import Lasso\n",
    "    lasso = Lasso()\n",
    "    lasso.fit(X_train, y_train)    \n",
    "    \n",
    "    # Use SVR (linear kernel)\n",
    "    from sklearn.svm import SVR\n",
    "    svr_lin = SVR(kernel = 'linear')\n",
    "    svr_lin.fit(X_train, y_train)\n",
    "    \n",
    "    # Use SVR (RBF kernel)\n",
    "    from sklearn.svm import SVR\n",
    "    svr_rbf = SVR(kernel = 'rbf')\n",
    "    svr_rbf.fit(X_train, y_train)\n",
    "        \n",
    "    # Use Decision Tree\n",
    "    from sklearn.tree import DecisionTreeRegressor\n",
    "    tree = DecisionTreeRegressor()\n",
    "    tree.fit(X_train, y_train)\n",
    "    \n",
    "    # Use the Random Forest Regressor\n",
    "    from sklearn.ensemble import RandomForestRegressor\n",
    "    forest = RandomForestRegressor(n_estimators = 100, criterion='mse')\n",
    "    forest.fit(X_train, y_train)\n",
    "    \n",
    "    # Print the training accuracy for each model\n",
    "    print(\"[0]Linear Regression Training Accuracy: \", lin.score(X_train, y_train))\n",
    "    print(\"[1]Lasso Regression Training Accuracy: \", lasso.score(X_train, y_train))\n",
    "    print(\"[2]SVR linear Training Accuracy: \", svr_lin.score(X_train, y_train))\n",
    "    print(\"[3]SVR RBF Training Accuracy: \", svr_rbf.score(X_train, y_train))\n",
    "    print(\"[4]Decision Tree Training Accuracy: \", tree.score(X_train, y_train))\n",
    "    print(\"[5]Random Forest Training Accuracy: \", forest.score(X_train, y_train))\n",
    "\n",
    "    return lin, lasso, svr_lin, svr_rbf, tree, forest"
   ]
  },
  {
   "cell_type": "code",
   "execution_count": 101,
   "metadata": {},
   "outputs": [
    {
     "name": "stdout",
     "output_type": "stream",
     "text": [
      "[0]Linear Regression Training Accuracy:  0.6408519460130129\n",
      "[1]Lasso Regression Training Accuracy:  0.6407455167841178\n",
      "[2]SVR linear Training Accuracy:  0.5443116820337515\n",
      "[3]SVR RBF Training Accuracy:  0.5109160689945516\n",
      "[4]Decision Tree Training Accuracy:  1.0\n",
      "[5]Random Forest Training Accuracy:  0.9999523875410231\n"
     ]
    }
   ],
   "source": [
    "# Get and train all of the models\n",
    "model = models(X_train, y_train)"
   ]
  },
  {
   "cell_type": "code",
   "execution_count": 102,
   "metadata": {},
   "outputs": [
    {
     "name": "stdout",
     "output_type": "stream",
     "text": [
      " Model[0] MSE:   1211.005120678249\n",
      " Model[0] R2 Value:   0.6434213755326906\n",
      "\n",
      "\n",
      " Model[1] MSE:   1211.144669798513\n",
      " Model[1] R2 Value:   0.643339190743315\n",
      "\n",
      "\n",
      " Model[2] MSE:   1367.766221248194\n",
      " Model[2] R2 Value:   0.5451302099160994\n",
      "\n",
      "\n",
      " Model[3] MSE:   1424.1577049918062\n",
      " Model[3] R2 Value:   0.5068494589881689\n",
      "\n",
      "\n",
      " Model[4] MSE:   147.99078105938847\n",
      " Model[4] R2 Value:   0.9946748398813817\n",
      "\n",
      "\n",
      " Model[5] MSE:   137.43475235794529\n",
      " Model[5] R2 Value:   0.9954074227018611\n",
      "\n",
      "\n"
     ]
    }
   ],
   "source": [
    "# print the prediction\n",
    "from sklearn.metrics import mean_squared_error\n",
    "from sklearn.metrics import r2_score\n",
    "\n",
    "for i in range(6):\n",
    "    y_pred = model[i].predict(X_test)\n",
    "    print(\" Model\" + str([i])+\" MSE:  \"  , mean_squared_error(y_test, y_pred, squared=False))\n",
    "    print(\" Model\" + str([i])+\" R2 Value:  \", r2_score(y_test, y_pred) )\n",
    "    print(\"\\n\")"
   ]
  },
  {
   "cell_type": "markdown",
   "metadata": {},
   "source": [
    "NOTE:\n",
    "Random forest regressor model is best to predict Average Data Speed Upload."
   ]
  },
  {
   "cell_type": "code",
   "execution_count": null,
   "metadata": {},
   "outputs": [],
   "source": []
  },
  {
   "cell_type": "markdown",
   "metadata": {},
   "source": [
    "## Feature Selection for Average Signal Strength Upload  "
   ]
  },
  {
   "cell_type": "code",
   "execution_count": 103,
   "metadata": {},
   "outputs": [],
   "source": [
    "X = data1.drop('Average Signal Strength Upload', axis=1)\n",
    "y = data1['Average Signal Strength Upload']"
   ]
  },
  {
   "cell_type": "code",
   "execution_count": 104,
   "metadata": {},
   "outputs": [
    {
     "data": {
      "text/plain": [
       "ExtraTreesRegressor()"
      ]
     },
     "execution_count": 104,
     "metadata": {},
     "output_type": "execute_result"
    }
   ],
   "source": [
    "from sklearn.ensemble import ExtraTreesRegressor\n",
    "model = ExtraTreesRegressor()\n",
    "model.fit(X,y)"
   ]
  },
  {
   "cell_type": "code",
   "execution_count": 105,
   "metadata": {},
   "outputs": [
    {
     "name": "stdout",
     "output_type": "stream",
     "text": [
      "[3.30212406e-02 3.49060680e-05 2.34272577e-01 3.19654429e-05\n",
      " 7.88850976e-06 2.31115439e-03 7.41790818e-03 3.28767352e-01\n",
      " 3.02817274e-01 3.44919013e-02 2.47772760e-02 6.85800195e-03\n",
      " 1.68859102e-02 8.30464338e-03]\n"
     ]
    }
   ],
   "source": [
    "print(model.feature_importances_)"
   ]
  },
  {
   "cell_type": "code",
   "execution_count": 106,
   "metadata": {},
   "outputs": [
    {
     "data": {
      "image/png": "[encoded data removed]",
      "text/plain": [
       "<Figure size 432x288 with 1 Axes>"
      ]
     },
     "metadata": {
      "needs_background": "light"
     },
     "output_type": "display_data"
    }
   ],
   "source": [
    "rank_features = pd.Series(model.feature_importances_, index=X.columns)\n",
    "rank_features.nlargest(10).plot(kind='barh')\n",
    "plt.show()"
   ]
  },
  {
   "cell_type": "markdown",
   "metadata": {},
   "source": [
    "### Model Creation for Avg Signal Strength Upload feature. "
   ]
  },
  {
   "cell_type": "code",
   "execution_count": 107,
   "metadata": {},
   "outputs": [],
   "source": [
    "X = data1.drop('Average Signal Strength Upload', axis=1)\n",
    "y = data1['Average Signal Strength Upload']"
   ]
  },
  {
   "cell_type": "code",
   "execution_count": 108,
   "metadata": {},
   "outputs": [],
   "source": [
    "# train test split\n",
    "from sklearn.model_selection import train_test_split\n",
    "X_train, X_test, y_train,y_test = train_test_split(X,y, test_size=0.3, random_state = 1)"
   ]
  },
  {
   "cell_type": "code",
   "execution_count": 109,
   "metadata": {},
   "outputs": [],
   "source": [
    "# Scaled the data\n",
    "from sklearn.preprocessing import MinMaxScaler\n",
    "mc = MinMaxScaler()\n",
    "X_train = mc.fit_transform(X_train)\n",
    "X_test = mc.fit_transform(X_test)"
   ]
  },
  {
   "cell_type": "code",
   "execution_count": 110,
   "metadata": {},
   "outputs": [],
   "source": [
    "# Create a function with many machine learning models\n",
    "def models(X_train, y_train):\n",
    "    \n",
    "    # Use linear Regression\n",
    "    from sklearn.linear_model import LinearRegression\n",
    "    lin = LinearRegression()\n",
    "    lin.fit(X_train, y_train)\n",
    "    \n",
    "    # Use linear Lasso Regression\n",
    "    from sklearn.linear_model import Lasso\n",
    "    lasso = Lasso()\n",
    "    lasso.fit(X_train, y_train)    \n",
    "    \n",
    "    # Use SVR (linear kernel)\n",
    "    from sklearn.svm import SVR\n",
    "    svr_lin = SVR(kernel = 'linear')\n",
    "    svr_lin.fit(X_train, y_train)\n",
    "    \n",
    "    # Use SVR (RBF kernel)\n",
    "    from sklearn.svm import SVR\n",
    "    svr_rbf = SVR(kernel = 'rbf')\n",
    "    svr_rbf.fit(X_train, y_train)\n",
    "        \n",
    "    # Use Decision Tree\n",
    "    from sklearn.tree import DecisionTreeRegressor\n",
    "    tree = DecisionTreeRegressor()\n",
    "    tree.fit(X_train, y_train)\n",
    "    \n",
    "    # Use the Random Forest Regressor\n",
    "    from sklearn.ensemble import RandomForestRegressor\n",
    "    forest = RandomForestRegressor(n_estimators = 100, criterion='mse')\n",
    "    forest.fit(X_train, y_train)\n",
    "    \n",
    "    # Print the training accuracy for each model\n",
    "    print(\"[0]Linear Regression Training Accuracy: \", lin.score(X_train, y_train))\n",
    "    print(\"[1]Lasso Regression Training Accuracy: \", lasso.score(X_train, y_train))\n",
    "    print(\"[2]SVR linear Training Accuracy: \", svr_lin.score(X_train, y_train))\n",
    "    print(\"[3]SVR RBF Training Accuracy: \", svr_rbf.score(X_train, y_train))\n",
    "    print(\"[4]Decision Tree Training Accuracy: \", tree.score(X_train, y_train))\n",
    "    print(\"[5]Random Forest Training Accuracy: \", forest.score(X_train, y_train))\n",
    "\n",
    "    return lin, lasso, svr_lin, svr_rbf, tree, forest"
   ]
  },
  {
   "cell_type": "code",
   "execution_count": 111,
   "metadata": {},
   "outputs": [
    {
     "name": "stdout",
     "output_type": "stream",
     "text": [
      "[0]Linear Regression Training Accuracy:  0.7926063970080889\n",
      "[1]Lasso Regression Training Accuracy:  0.0\n",
      "[2]SVR linear Training Accuracy:  0.7488602021367039\n",
      "[3]SVR RBF Training Accuracy:  0.9666838666088173\n",
      "[4]Decision Tree Training Accuracy:  1.0\n",
      "[5]Random Forest Training Accuracy:  0.9999511398118979\n"
     ]
    }
   ],
   "source": [
    "# Get and train all of the models\n",
    "model = models(X_train, y_train)"
   ]
  },
  {
   "cell_type": "code",
   "execution_count": 112,
   "metadata": {},
   "outputs": [
    {
     "name": "stdout",
     "output_type": "stream",
     "text": [
      " Model[0] MSE:   2.591548104198445\n",
      " Model[0] R2 Value:   0.7972609394952712\n",
      "\n",
      "\n",
      " Model[1] MSE:   5.755608654299561\n",
      " Model[1] R2 Value:   -3.2105010332461603e-06\n",
      "\n",
      "\n",
      " Model[2] MSE:   2.871787862214766\n",
      " Model[2] R2 Value:   0.7510434301306345\n",
      "\n",
      "\n",
      " Model[3] MSE:   1.0399876631529767\n",
      " Model[3] R2 Value:   0.9673505961789441\n",
      "\n",
      "\n",
      " Model[4] MSE:   0.3969978528996998\n",
      " Model[4] R2 Value:   0.9952423203487925\n",
      "\n",
      "\n",
      " Model[5] MSE:   0.11329445431240141\n",
      " Model[5] R2 Value:   0.9996125316937112\n",
      "\n",
      "\n"
     ]
    }
   ],
   "source": [
    "# print the prediction\n",
    "from sklearn.metrics import mean_squared_error\n",
    "from sklearn.metrics import r2_score\n",
    "\n",
    "for i in range(6):\n",
    "    y_pred = model[i].predict(X_test)\n",
    "    print(\" Model\" + str([i])+\" MSE:  \"  , mean_squared_error(y_test, y_pred, squared=False))\n",
    "    print(\" Model\" + str([i])+\" R2 Value:  \", r2_score(y_test, y_pred) )\n",
    "    print(\"\\n\")"
   ]
  },
  {
   "cell_type": "markdown",
   "metadata": {},
   "source": [
    "### Note:\n",
    "Random Forest Regressor is best to predict Average Signal Strength Upload feature."
   ]
  },
  {
   "cell_type": "code",
   "execution_count": null,
   "metadata": {},
   "outputs": [],
   "source": []
  }
 ],
 "metadata": {
  "kernelspec": {
   "display_name": "Python 3",
   "language": "python",
   "name": "python3"
  },
  "language_info": {
   "codemirror_mode": {
    "name": "ipython",
    "version": 3
   },
   "file_extension": ".py",
   "mimetype": "text/x-python",
   "name": "python",
   "nbconvert_exporter": "python",
   "pygments_lexer": "ipython3",
   "version": "3.8.3"
  }
 },
 "nbformat": 4,
 "nbformat_minor": 4
}
