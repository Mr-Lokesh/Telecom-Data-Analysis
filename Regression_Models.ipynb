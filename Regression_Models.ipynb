{
 "cells": [
  {
   "cell_type": "markdown",
   "metadata": {},
   "source": [
    "# Regression Models Analysis"
   ]
  },
  {
   "cell_type": "code",
   "execution_count": 1,
   "metadata": {},
   "outputs": [],
   "source": [
    "import numpy as np\n",
    "import pandas as pd\n",
    "import matplotlib.pyplot as plt\n",
    "import seaborn as sns"
   ]
  },
  {
   "cell_type": "code",
   "execution_count": 2,
   "metadata": {},
   "outputs": [
    {
     "data": {
      "text/html": [
       "<div>\n",
       "<style scoped>\n",
       "    .dataframe tbody tr th:only-of-type {\n",
       "        vertical-align: middle;\n",
       "    }\n",
       "\n",
       "    .dataframe tbody tr th {\n",
       "        vertical-align: top;\n",
       "    }\n",
       "\n",
       "    .dataframe thead th {\n",
       "        text-align: right;\n",
       "    }\n",
       "</style>\n",
       "<table border=\"1\" class=\"dataframe\">\n",
       "  <thead>\n",
       "    <tr style=\"text-align: right;\">\n",
       "      <th></th>\n",
       "      <th>Unnamed: 0</th>\n",
       "      <th>Operator</th>\n",
       "      <th>In Out Travelling</th>\n",
       "      <th>Network Type</th>\n",
       "      <th>Rating</th>\n",
       "      <th>Call Drop Category</th>\n",
       "      <th>Latitude</th>\n",
       "      <th>Longitude</th>\n",
       "      <th>State Name</th>\n",
       "      <th>Average Data Speed Download</th>\n",
       "      <th>Average Signal Strength Download</th>\n",
       "      <th>Average Data Speed Upload</th>\n",
       "      <th>Average Signal Strength Upload</th>\n",
       "      <th>Population</th>\n",
       "      <th>Literacy Rate</th>\n",
       "      <th>Rainfall</th>\n",
       "      <th>Area of the state</th>\n",
       "    </tr>\n",
       "  </thead>\n",
       "  <tbody>\n",
       "    <tr>\n",
       "      <th>0</th>\n",
       "      <td>0</td>\n",
       "      <td>Airtel</td>\n",
       "      <td>Indoor</td>\n",
       "      <td>4G</td>\n",
       "      <td>3</td>\n",
       "      <td>Satisfactory</td>\n",
       "      <td>12.998502</td>\n",
       "      <td>77.672437</td>\n",
       "      <td>Karnataka</td>\n",
       "      <td>8807.910</td>\n",
       "      <td>-94.86</td>\n",
       "      <td>2591.08</td>\n",
       "      <td>-94.840</td>\n",
       "      <td>61130704.0</td>\n",
       "      <td>75.36</td>\n",
       "      <td>1248.0</td>\n",
       "      <td>191791.0</td>\n",
       "    </tr>\n",
       "    <tr>\n",
       "      <th>1</th>\n",
       "      <td>1</td>\n",
       "      <td>Vodafone</td>\n",
       "      <td>Indoor</td>\n",
       "      <td>4G</td>\n",
       "      <td>1</td>\n",
       "      <td>Call Dropped</td>\n",
       "      <td>23.554190</td>\n",
       "      <td>72.620110</td>\n",
       "      <td>Gujarat</td>\n",
       "      <td>6862.552</td>\n",
       "      <td>-91.96</td>\n",
       "      <td>4671.48</td>\n",
       "      <td>-91.920</td>\n",
       "      <td>60439692.0</td>\n",
       "      <td>78.03</td>\n",
       "      <td>842.5</td>\n",
       "      <td>196024.0</td>\n",
       "    </tr>\n",
       "    <tr>\n",
       "      <th>2</th>\n",
       "      <td>2</td>\n",
       "      <td>Airtel</td>\n",
       "      <td>Indoor</td>\n",
       "      <td>3G</td>\n",
       "      <td>1</td>\n",
       "      <td>Call Dropped</td>\n",
       "      <td>11.327329</td>\n",
       "      <td>76.749743</td>\n",
       "      <td>Tamil Nadu</td>\n",
       "      <td>1178.410</td>\n",
       "      <td>-85.03</td>\n",
       "      <td>968.58</td>\n",
       "      <td>-85.470</td>\n",
       "      <td>72147030.0</td>\n",
       "      <td>80.33</td>\n",
       "      <td>998.0</td>\n",
       "      <td>130060.0</td>\n",
       "    </tr>\n",
       "    <tr>\n",
       "      <th>3</th>\n",
       "      <td>3</td>\n",
       "      <td>Airtel</td>\n",
       "      <td>Indoor</td>\n",
       "      <td>4G</td>\n",
       "      <td>3</td>\n",
       "      <td>Satisfactory</td>\n",
       "      <td>22.279660</td>\n",
       "      <td>73.149369</td>\n",
       "      <td>Gujarat</td>\n",
       "      <td>5694.480</td>\n",
       "      <td>-89.39</td>\n",
       "      <td>2515.34</td>\n",
       "      <td>-89.515</td>\n",
       "      <td>60439692.0</td>\n",
       "      <td>78.03</td>\n",
       "      <td>842.5</td>\n",
       "      <td>196024.0</td>\n",
       "    </tr>\n",
       "    <tr>\n",
       "      <th>4</th>\n",
       "      <td>4</td>\n",
       "      <td>Airtel</td>\n",
       "      <td>Travelling</td>\n",
       "      <td>4G</td>\n",
       "      <td>3</td>\n",
       "      <td>Satisfactory</td>\n",
       "      <td>18.546344</td>\n",
       "      <td>73.819090</td>\n",
       "      <td>Maharashtra</td>\n",
       "      <td>10804.560</td>\n",
       "      <td>-94.05</td>\n",
       "      <td>4968.27</td>\n",
       "      <td>-94.110</td>\n",
       "      <td>112374333.0</td>\n",
       "      <td>82.34</td>\n",
       "      <td>1455.5</td>\n",
       "      <td>307713.0</td>\n",
       "    </tr>\n",
       "  </tbody>\n",
       "</table>\n",
       "</div>"
      ],
      "text/plain": [
       "   Unnamed: 0  Operator In Out Travelling Network Type  Rating  \\\n",
       "0           0    Airtel            Indoor           4G       3   \n",
       "1           1  Vodafone            Indoor           4G       1   \n",
       "2           2    Airtel            Indoor           3G       1   \n",
       "3           3    Airtel            Indoor           4G       3   \n",
       "4           4    Airtel        Travelling           4G       3   \n",
       "\n",
       "  Call Drop Category   Latitude  Longitude   State Name  \\\n",
       "0       Satisfactory  12.998502  77.672437    Karnataka   \n",
       "1       Call Dropped  23.554190  72.620110      Gujarat   \n",
       "2       Call Dropped  11.327329  76.749743   Tamil Nadu   \n",
       "3       Satisfactory  22.279660  73.149369      Gujarat   \n",
       "4       Satisfactory  18.546344  73.819090  Maharashtra   \n",
       "\n",
       "   Average Data Speed Download  Average Signal Strength Download  \\\n",
       "0                     8807.910                            -94.86   \n",
       "1                     6862.552                            -91.96   \n",
       "2                     1178.410                            -85.03   \n",
       "3                     5694.480                            -89.39   \n",
       "4                    10804.560                            -94.05   \n",
       "\n",
       "   Average Data Speed Upload  Average Signal Strength Upload   Population  \\\n",
       "0                    2591.08                         -94.840   61130704.0   \n",
       "1                    4671.48                         -91.920   60439692.0   \n",
       "2                     968.58                         -85.470   72147030.0   \n",
       "3                    2515.34                         -89.515   60439692.0   \n",
       "4                    4968.27                         -94.110  112374333.0   \n",
       "\n",
       "   Literacy Rate  Rainfall  Area of the state  \n",
       "0          75.36    1248.0           191791.0  \n",
       "1          78.03     842.5           196024.0  \n",
       "2          80.33     998.0           130060.0  \n",
       "3          78.03     842.5           196024.0  \n",
       "4          82.34    1455.5           307713.0  "
      ]
     },
     "execution_count": 2,
     "metadata": {},
     "output_type": "execute_result"
    }
   ],
   "source": [
    "data = pd.read_csv('Project6_data.csv')\n",
    "data.head()"
   ]
  },
  {
   "cell_type": "code",
   "execution_count": 3,
   "metadata": {},
   "outputs": [
    {
     "data": {
      "text/plain": [
       "Index(['Unnamed: 0', 'Operator', 'In Out Travelling', 'Network Type', 'Rating',\n",
       "       'Call Drop Category', 'Latitude', 'Longitude', 'State Name',\n",
       "       'Average Data Speed Download', 'Average Signal Strength Download',\n",
       "       'Average Data Speed Upload', 'Average Signal Strength Upload',\n",
       "       'Population', 'Literacy Rate', 'Rainfall', 'Area of the state'],\n",
       "      dtype='object')"
      ]
     },
     "execution_count": 3,
     "metadata": {},
     "output_type": "execute_result"
    }
   ],
   "source": [
    "data.columns"
   ]
  },
  {
   "cell_type": "code",
   "execution_count": 4,
   "metadata": {},
   "outputs": [
    {
     "data": {
      "text/html": [
       "<div>\n",
       "<style scoped>\n",
       "    .dataframe tbody tr th:only-of-type {\n",
       "        vertical-align: middle;\n",
       "    }\n",
       "\n",
       "    .dataframe tbody tr th {\n",
       "        vertical-align: top;\n",
       "    }\n",
       "\n",
       "    .dataframe thead th {\n",
       "        text-align: right;\n",
       "    }\n",
       "</style>\n",
       "<table border=\"1\" class=\"dataframe\">\n",
       "  <thead>\n",
       "    <tr style=\"text-align: right;\">\n",
       "      <th></th>\n",
       "      <th>Unnamed: 0</th>\n",
       "      <th>Rating</th>\n",
       "      <th>Latitude</th>\n",
       "      <th>Longitude</th>\n",
       "      <th>Average Data Speed Download</th>\n",
       "      <th>Average Signal Strength Download</th>\n",
       "      <th>Average Data Speed Upload</th>\n",
       "      <th>Average Signal Strength Upload</th>\n",
       "      <th>Population</th>\n",
       "      <th>Literacy Rate</th>\n",
       "      <th>Rainfall</th>\n",
       "      <th>Area of the state</th>\n",
       "    </tr>\n",
       "  </thead>\n",
       "  <tbody>\n",
       "    <tr>\n",
       "      <th>count</th>\n",
       "      <td>30785.000000</td>\n",
       "      <td>30785.000000</td>\n",
       "      <td>30785.000000</td>\n",
       "      <td>30785.000000</td>\n",
       "      <td>30785.000000</td>\n",
       "      <td>30785.000000</td>\n",
       "      <td>30785.000000</td>\n",
       "      <td>30785.000000</td>\n",
       "      <td>3.078500e+04</td>\n",
       "      <td>30785.000000</td>\n",
       "      <td>30785.000000</td>\n",
       "      <td>30785.000000</td>\n",
       "    </tr>\n",
       "    <tr>\n",
       "      <th>mean</th>\n",
       "      <td>15392.000000</td>\n",
       "      <td>3.527075</td>\n",
       "      <td>20.986716</td>\n",
       "      <td>77.624482</td>\n",
       "      <td>13383.178796</td>\n",
       "      <td>-91.940324</td>\n",
       "      <td>3937.800252</td>\n",
       "      <td>-87.654863</td>\n",
       "      <td>9.340490e+07</td>\n",
       "      <td>74.513815</td>\n",
       "      <td>1222.318883</td>\n",
       "      <td>221781.967549</td>\n",
       "    </tr>\n",
       "    <tr>\n",
       "      <th>std</th>\n",
       "      <td>8887.008355</td>\n",
       "      <td>1.480751</td>\n",
       "      <td>4.904788</td>\n",
       "      <td>4.897669</td>\n",
       "      <td>9652.418551</td>\n",
       "      <td>189.709705</td>\n",
       "      <td>2022.009990</td>\n",
       "      <td>7.696626</td>\n",
       "      <td>4.112688e+07</td>\n",
       "      <td>12.449141</td>\n",
       "      <td>463.221742</td>\n",
       "      <td>93044.821822</td>\n",
       "    </tr>\n",
       "    <tr>\n",
       "      <th>min</th>\n",
       "      <td>0.000000</td>\n",
       "      <td>1.000000</td>\n",
       "      <td>8.255166</td>\n",
       "      <td>69.017391</td>\n",
       "      <td>0.000000</td>\n",
       "      <td>-8407.000000</td>\n",
       "      <td>220.940000</td>\n",
       "      <td>-103.200000</td>\n",
       "      <td>2.535146e+07</td>\n",
       "      <td>10.980000</td>\n",
       "      <td>143.000000</td>\n",
       "      <td>38863.000000</td>\n",
       "    </tr>\n",
       "    <tr>\n",
       "      <th>25%</th>\n",
       "      <td>7696.000000</td>\n",
       "      <td>2.000000</td>\n",
       "      <td>18.547627</td>\n",
       "      <td>73.739626</td>\n",
       "      <td>5191.980000</td>\n",
       "      <td>-92.580000</td>\n",
       "      <td>2680.020000</td>\n",
       "      <td>-93.000000</td>\n",
       "      <td>6.113070e+07</td>\n",
       "      <td>70.600000</td>\n",
       "      <td>998.000000</td>\n",
       "      <td>130060.000000</td>\n",
       "    </tr>\n",
       "    <tr>\n",
       "      <th>50%</th>\n",
       "      <td>15392.000000</td>\n",
       "      <td>4.000000</td>\n",
       "      <td>20.303444</td>\n",
       "      <td>76.945477</td>\n",
       "      <td>10804.560000</td>\n",
       "      <td>-86.800000</td>\n",
       "      <td>4130.460000</td>\n",
       "      <td>-86.920000</td>\n",
       "      <td>9.127612e+07</td>\n",
       "      <td>76.680000</td>\n",
       "      <td>1248.000000</td>\n",
       "      <td>243286.000000</td>\n",
       "    </tr>\n",
       "    <tr>\n",
       "      <th>75%</th>\n",
       "      <td>23088.000000</td>\n",
       "      <td>5.000000</td>\n",
       "      <td>25.263877</td>\n",
       "      <td>80.197102</td>\n",
       "      <td>20707.870000</td>\n",
       "      <td>-84.740000</td>\n",
       "      <td>5107.230000</td>\n",
       "      <td>-84.949000</td>\n",
       "      <td>1.123743e+08</td>\n",
       "      <td>82.340000</td>\n",
       "      <td>1455.500000</td>\n",
       "      <td>307713.000000</td>\n",
       "    </tr>\n",
       "    <tr>\n",
       "      <th>max</th>\n",
       "      <td>30784.000000</td>\n",
       "      <td>5.000000</td>\n",
       "      <td>32.427797</td>\n",
       "      <td>95.619158</td>\n",
       "      <td>32444.069600</td>\n",
       "      <td>-63.000000</td>\n",
       "      <td>12220.910000</td>\n",
       "      <td>76.930000</td>\n",
       "      <td>1.998123e+08</td>\n",
       "      <td>94.000000</td>\n",
       "      <td>3055.000000</td>\n",
       "      <td>342239.000000</td>\n",
       "    </tr>\n",
       "  </tbody>\n",
       "</table>\n",
       "</div>"
      ],
      "text/plain": [
       "         Unnamed: 0        Rating      Latitude     Longitude  \\\n",
       "count  30785.000000  30785.000000  30785.000000  30785.000000   \n",
       "mean   15392.000000      3.527075     20.986716     77.624482   \n",
       "std     8887.008355      1.480751      4.904788      4.897669   \n",
       "min        0.000000      1.000000      8.255166     69.017391   \n",
       "25%     7696.000000      2.000000     18.547627     73.739626   \n",
       "50%    15392.000000      4.000000     20.303444     76.945477   \n",
       "75%    23088.000000      5.000000     25.263877     80.197102   \n",
       "max    30784.000000      5.000000     32.427797     95.619158   \n",
       "\n",
       "       Average Data Speed Download  Average Signal Strength Download  \\\n",
       "count                 30785.000000                      30785.000000   \n",
       "mean                  13383.178796                        -91.940324   \n",
       "std                    9652.418551                        189.709705   \n",
       "min                       0.000000                      -8407.000000   \n",
       "25%                    5191.980000                        -92.580000   \n",
       "50%                   10804.560000                        -86.800000   \n",
       "75%                   20707.870000                        -84.740000   \n",
       "max                   32444.069600                        -63.000000   \n",
       "\n",
       "       Average Data Speed Upload  Average Signal Strength Upload  \\\n",
       "count               30785.000000                    30785.000000   \n",
       "mean                 3937.800252                      -87.654863   \n",
       "std                  2022.009990                        7.696626   \n",
       "min                   220.940000                     -103.200000   \n",
       "25%                  2680.020000                      -93.000000   \n",
       "50%                  4130.460000                      -86.920000   \n",
       "75%                  5107.230000                      -84.949000   \n",
       "max                 12220.910000                       76.930000   \n",
       "\n",
       "         Population  Literacy Rate      Rainfall  Area of the state  \n",
       "count  3.078500e+04   30785.000000  30785.000000       30785.000000  \n",
       "mean   9.340490e+07      74.513815   1222.318883      221781.967549  \n",
       "std    4.112688e+07      12.449141    463.221742       93044.821822  \n",
       "min    2.535146e+07      10.980000    143.000000       38863.000000  \n",
       "25%    6.113070e+07      70.600000    998.000000      130060.000000  \n",
       "50%    9.127612e+07      76.680000   1248.000000      243286.000000  \n",
       "75%    1.123743e+08      82.340000   1455.500000      307713.000000  \n",
       "max    1.998123e+08      94.000000   3055.000000      342239.000000  "
      ]
     },
     "execution_count": 4,
     "metadata": {},
     "output_type": "execute_result"
    }
   ],
   "source": [
    "data.describe()"
   ]
  },
  {
   "cell_type": "code",
   "execution_count": 5,
   "metadata": {},
   "outputs": [
    {
     "data": {
      "text/plain": [
       "(30785, 17)"
      ]
     },
     "execution_count": 5,
     "metadata": {},
     "output_type": "execute_result"
    }
   ],
   "source": [
    "data.shape"
   ]
  },
  {
   "cell_type": "code",
   "execution_count": 3,
   "metadata": {},
   "outputs": [
    {
     "data": {
      "text/html": [
       "<div>\n",
       "<style scoped>\n",
       "    .dataframe tbody tr th:only-of-type {\n",
       "        vertical-align: middle;\n",
       "    }\n",
       "\n",
       "    .dataframe tbody tr th {\n",
       "        vertical-align: top;\n",
       "    }\n",
       "\n",
       "    .dataframe thead th {\n",
       "        text-align: right;\n",
       "    }\n",
       "</style>\n",
       "<table border=\"1\" class=\"dataframe\">\n",
       "  <thead>\n",
       "    <tr style=\"text-align: right;\">\n",
       "      <th></th>\n",
       "      <th>Operator</th>\n",
       "      <th>In Out Travelling</th>\n",
       "      <th>Network Type</th>\n",
       "      <th>Rating</th>\n",
       "      <th>Call Drop Category</th>\n",
       "      <th>Latitude</th>\n",
       "      <th>Longitude</th>\n",
       "      <th>State Name</th>\n",
       "      <th>Average Data Speed Download</th>\n",
       "      <th>Average Signal Strength Download</th>\n",
       "      <th>Average Data Speed Upload</th>\n",
       "      <th>Average Signal Strength Upload</th>\n",
       "      <th>Population</th>\n",
       "      <th>Literacy Rate</th>\n",
       "      <th>Rainfall</th>\n",
       "      <th>Area of the state</th>\n",
       "    </tr>\n",
       "  </thead>\n",
       "  <tbody>\n",
       "    <tr>\n",
       "      <th>0</th>\n",
       "      <td>Airtel</td>\n",
       "      <td>Indoor</td>\n",
       "      <td>4G</td>\n",
       "      <td>3</td>\n",
       "      <td>Satisfactory</td>\n",
       "      <td>12.998502</td>\n",
       "      <td>77.672437</td>\n",
       "      <td>Karnataka</td>\n",
       "      <td>8807.910</td>\n",
       "      <td>-94.86</td>\n",
       "      <td>2591.08</td>\n",
       "      <td>-94.840</td>\n",
       "      <td>61130704.0</td>\n",
       "      <td>75.36</td>\n",
       "      <td>1248.0</td>\n",
       "      <td>191791.0</td>\n",
       "    </tr>\n",
       "    <tr>\n",
       "      <th>1</th>\n",
       "      <td>Vodafone</td>\n",
       "      <td>Indoor</td>\n",
       "      <td>4G</td>\n",
       "      <td>1</td>\n",
       "      <td>Call Dropped</td>\n",
       "      <td>23.554190</td>\n",
       "      <td>72.620110</td>\n",
       "      <td>Gujarat</td>\n",
       "      <td>6862.552</td>\n",
       "      <td>-91.96</td>\n",
       "      <td>4671.48</td>\n",
       "      <td>-91.920</td>\n",
       "      <td>60439692.0</td>\n",
       "      <td>78.03</td>\n",
       "      <td>842.5</td>\n",
       "      <td>196024.0</td>\n",
       "    </tr>\n",
       "    <tr>\n",
       "      <th>2</th>\n",
       "      <td>Airtel</td>\n",
       "      <td>Indoor</td>\n",
       "      <td>3G</td>\n",
       "      <td>1</td>\n",
       "      <td>Call Dropped</td>\n",
       "      <td>11.327329</td>\n",
       "      <td>76.749743</td>\n",
       "      <td>Tamil Nadu</td>\n",
       "      <td>1178.410</td>\n",
       "      <td>-85.03</td>\n",
       "      <td>968.58</td>\n",
       "      <td>-85.470</td>\n",
       "      <td>72147030.0</td>\n",
       "      <td>80.33</td>\n",
       "      <td>998.0</td>\n",
       "      <td>130060.0</td>\n",
       "    </tr>\n",
       "    <tr>\n",
       "      <th>3</th>\n",
       "      <td>Airtel</td>\n",
       "      <td>Indoor</td>\n",
       "      <td>4G</td>\n",
       "      <td>3</td>\n",
       "      <td>Satisfactory</td>\n",
       "      <td>22.279660</td>\n",
       "      <td>73.149369</td>\n",
       "      <td>Gujarat</td>\n",
       "      <td>5694.480</td>\n",
       "      <td>-89.39</td>\n",
       "      <td>2515.34</td>\n",
       "      <td>-89.515</td>\n",
       "      <td>60439692.0</td>\n",
       "      <td>78.03</td>\n",
       "      <td>842.5</td>\n",
       "      <td>196024.0</td>\n",
       "    </tr>\n",
       "    <tr>\n",
       "      <th>4</th>\n",
       "      <td>Airtel</td>\n",
       "      <td>Travelling</td>\n",
       "      <td>4G</td>\n",
       "      <td>3</td>\n",
       "      <td>Satisfactory</td>\n",
       "      <td>18.546344</td>\n",
       "      <td>73.819090</td>\n",
       "      <td>Maharashtra</td>\n",
       "      <td>10804.560</td>\n",
       "      <td>-94.05</td>\n",
       "      <td>4968.27</td>\n",
       "      <td>-94.110</td>\n",
       "      <td>112374333.0</td>\n",
       "      <td>82.34</td>\n",
       "      <td>1455.5</td>\n",
       "      <td>307713.0</td>\n",
       "    </tr>\n",
       "  </tbody>\n",
       "</table>\n",
       "</div>"
      ],
      "text/plain": [
       "   Operator In Out Travelling Network Type  Rating Call Drop Category  \\\n",
       "0    Airtel            Indoor           4G       3       Satisfactory   \n",
       "1  Vodafone            Indoor           4G       1       Call Dropped   \n",
       "2    Airtel            Indoor           3G       1       Call Dropped   \n",
       "3    Airtel            Indoor           4G       3       Satisfactory   \n",
       "4    Airtel        Travelling           4G       3       Satisfactory   \n",
       "\n",
       "    Latitude  Longitude   State Name  Average Data Speed Download  \\\n",
       "0  12.998502  77.672437    Karnataka                     8807.910   \n",
       "1  23.554190  72.620110      Gujarat                     6862.552   \n",
       "2  11.327329  76.749743   Tamil Nadu                     1178.410   \n",
       "3  22.279660  73.149369      Gujarat                     5694.480   \n",
       "4  18.546344  73.819090  Maharashtra                    10804.560   \n",
       "\n",
       "   Average Signal Strength Download  Average Data Speed Upload  \\\n",
       "0                            -94.86                    2591.08   \n",
       "1                            -91.96                    4671.48   \n",
       "2                            -85.03                     968.58   \n",
       "3                            -89.39                    2515.34   \n",
       "4                            -94.05                    4968.27   \n",
       "\n",
       "   Average Signal Strength Upload   Population  Literacy Rate  Rainfall  \\\n",
       "0                         -94.840   61130704.0          75.36    1248.0   \n",
       "1                         -91.920   60439692.0          78.03     842.5   \n",
       "2                         -85.470   72147030.0          80.33     998.0   \n",
       "3                         -89.515   60439692.0          78.03     842.5   \n",
       "4                         -94.110  112374333.0          82.34    1455.5   \n",
       "\n",
       "   Area of the state  \n",
       "0           191791.0  \n",
       "1           196024.0  \n",
       "2           130060.0  \n",
       "3           196024.0  \n",
       "4           307713.0  "
      ]
     },
     "execution_count": 3,
     "metadata": {},
     "output_type": "execute_result"
    }
   ],
   "source": [
    "data.drop('Unnamed: 0', axis=1, inplace = True)\n",
    "data.head()"
   ]
  },
  {
   "cell_type": "markdown",
   "metadata": {},
   "source": [
    "### Missing Values Imputation "
   ]
  },
  {
   "cell_type": "code",
   "execution_count": 123,
   "metadata": {},
   "outputs": [
    {
     "data": {
      "text/plain": [
       "Operator                            0\n",
       "In Out Travelling                   0\n",
       "Network Type                        0\n",
       "Rating                              0\n",
       "Call Drop Category                  0\n",
       "Latitude                            0\n",
       "Longitude                           0\n",
       "State Name                          0\n",
       "Average Data Speed Download         0\n",
       "Average Signal Strength Download    0\n",
       "Average Data Speed Upload           0\n",
       "Average Signal Strength Upload      0\n",
       "Population                          0\n",
       "Literacy Rate                       0\n",
       "Rainfall                            0\n",
       "Area of the state                   0\n",
       "dtype: int64"
      ]
     },
     "execution_count": 123,
     "metadata": {},
     "output_type": "execute_result"
    }
   ],
   "source": [
    "data.isnull().sum()"
   ]
  },
  {
   "cell_type": "markdown",
   "metadata": {},
   "source": [
    "Note: There are no missing values present in the data, but if there are some missing values, we try to fill them by statistical methods (median, mean) for continuous variables and by mode for categorical variables. We can also take reference of some another related feature and can fill the missing values."
   ]
  },
  {
   "cell_type": "markdown",
   "metadata": {},
   "source": [
    "### Handling Outliers "
   ]
  },
  {
   "cell_type": "code",
   "execution_count": 8,
   "metadata": {},
   "outputs": [
    {
     "name": "stdout",
     "output_type": "stream",
     "text": [
      "<class 'pandas.core.frame.DataFrame'>\n",
      "RangeIndex: 30785 entries, 0 to 30784\n",
      "Data columns (total 16 columns):\n",
      " #   Column                            Non-Null Count  Dtype  \n",
      "---  ------                            --------------  -----  \n",
      " 0   Operator                          30785 non-null  object \n",
      " 1   In Out Travelling                 30785 non-null  object \n",
      " 2   Network Type                      30785 non-null  object \n",
      " 3   Rating                            30785 non-null  int64  \n",
      " 4   Call Drop Category                30785 non-null  object \n",
      " 5   Latitude                          30785 non-null  float64\n",
      " 6   Longitude                         30785 non-null  float64\n",
      " 7   State Name                        30785 non-null  object \n",
      " 8   Average Data Speed Download       30785 non-null  float64\n",
      " 9   Average Signal Strength Download  30785 non-null  float64\n",
      " 10  Average Data Speed Upload         30785 non-null  float64\n",
      " 11  Average Signal Strength Upload    30785 non-null  float64\n",
      " 12  Population                        30785 non-null  float64\n",
      " 13  Literacy Rate                     30785 non-null  float64\n",
      " 14  Rainfall                          30785 non-null  float64\n",
      " 15  Area of the state                 30785 non-null  float64\n",
      "dtypes: float64(10), int64(1), object(5)\n",
      "memory usage: 3.2+ MB\n"
     ]
    }
   ],
   "source": [
    "data.info()"
   ]
  },
  {
   "cell_type": "code",
   "execution_count": 4,
   "metadata": {},
   "outputs": [
    {
     "name": "stdout",
     "output_type": "stream",
     "text": [
      "32.42779667\n",
      "28.618921719999996\n"
     ]
    }
   ],
   "source": [
    "print(data['Latitude'].max())\n",
    "print(data['Latitude'].quantile(0.95))"
   ]
  },
  {
   "cell_type": "code",
   "execution_count": 5,
   "metadata": {},
   "outputs": [
    {
     "data": {
      "text/plain": [
       "(1540, 16)"
      ]
     },
     "execution_count": 5,
     "metadata": {},
     "output_type": "execute_result"
    }
   ],
   "source": [
    "max_threshold = data['Latitude'].quantile(0.95)\n",
    "data[data['Latitude'] > max_threshold].shape"
   ]
  },
  {
   "cell_type": "code",
   "execution_count": 6,
   "metadata": {},
   "outputs": [
    {
     "name": "stdout",
     "output_type": "stream",
     "text": [
      "8.25516609\n",
      "12.898128592\n"
     ]
    }
   ],
   "source": [
    "min_threshold = data['Latitude'].quantile(0.05)\n",
    "print(data['Latitude'].min())\n",
    "print(min_threshold)"
   ]
  },
  {
   "cell_type": "code",
   "execution_count": 7,
   "metadata": {},
   "outputs": [
    {
     "data": {
      "image/png": "[encoded data removed]",
      "text/plain": [
       "<Figure size 432x288 with 1 Axes>"
      ]
     },
     "metadata": {
      "needs_background": "light"
     },
     "output_type": "display_data"
    }
   ],
   "source": [
    "plt.hist(data['Longitude'])\n",
    "plt.show()"
   ]
  },
  {
   "cell_type": "code",
   "execution_count": 8,
   "metadata": {},
   "outputs": [
    {
     "name": "stderr",
     "output_type": "stream",
     "text": [
      "c:\\python38\\lib\\site-packages\\seaborn\\_decorators.py:36: FutureWarning: Pass the following variable as a keyword arg: x. From version 0.12, the only valid positional argument will be `data`, and passing other arguments without an explicit keyword will result in an error or misinterpretation.\n",
      "  warnings.warn(\n"
     ]
    },
    {
     "data": {
      "text/plain": [
       "<AxesSubplot:xlabel='Latitude'>"
      ]
     },
     "execution_count": 8,
     "metadata": {},
     "output_type": "execute_result"
    },
    {
     "data": {
      "image/png": "[encoded data removed]",
      "text/plain": [
       "<Figure size 432x288 with 1 Axes>"
      ]
     },
     "metadata": {
      "needs_background": "light"
     },
     "output_type": "display_data"
    }
   ],
   "source": [
    "sns.boxplot(data['Latitude'])"
   ]
  },
  {
   "cell_type": "code",
   "execution_count": 9,
   "metadata": {},
   "outputs": [
    {
     "data": {
      "text/plain": [
       "(1540, 16)"
      ]
     },
     "execution_count": 9,
     "metadata": {},
     "output_type": "execute_result"
    }
   ],
   "source": [
    "data[data['Latitude'] < min_threshold].shape"
   ]
  },
  {
   "cell_type": "code",
   "execution_count": 10,
   "metadata": {},
   "outputs": [
    {
     "name": "stderr",
     "output_type": "stream",
     "text": [
      "c:\\python38\\lib\\site-packages\\seaborn\\_decorators.py:36: FutureWarning: Pass the following variable as a keyword arg: x. From version 0.12, the only valid positional argument will be `data`, and passing other arguments without an explicit keyword will result in an error or misinterpretation.\n",
      "  warnings.warn(\n"
     ]
    },
    {
     "data": {
      "text/plain": [
       "<AxesSubplot:xlabel='Longitude'>"
      ]
     },
     "execution_count": 10,
     "metadata": {},
     "output_type": "execute_result"
    },
    {
     "data": {
      "image/png": "[encoded data removed]",
      "text/plain": [
       "<Figure size 432x288 with 1 Axes>"
      ]
     },
     "metadata": {
      "needs_background": "light"
     },
     "output_type": "display_data"
    }
   ],
   "source": [
    "sns.boxplot(data['Longitude'])"
   ]
  },
  {
   "cell_type": "code",
   "execution_count": 11,
   "metadata": {},
   "outputs": [
    {
     "name": "stdout",
     "output_type": "stream",
     "text": [
      "95.61915753\n",
      "85.819443056\n"
     ]
    }
   ],
   "source": [
    "print(data['Longitude'].max())\n",
    "print(data['Longitude'].quantile(0.90))"
   ]
  },
  {
   "cell_type": "code",
   "execution_count": 12,
   "metadata": {},
   "outputs": [
    {
     "data": {
      "text/plain": [
       "(1540, 16)"
      ]
     },
     "execution_count": 12,
     "metadata": {},
     "output_type": "execute_result"
    }
   ],
   "source": [
    "max_threshold = data['Longitude'].quantile(0.95)\n",
    "data[data['Longitude'] > max_threshold].shape"
   ]
  },
  {
   "cell_type": "code",
   "execution_count": 13,
   "metadata": {},
   "outputs": [
    {
     "data": {
      "text/plain": [
       "32444.0696"
      ]
     },
     "execution_count": 13,
     "metadata": {},
     "output_type": "execute_result"
    }
   ],
   "source": [
    "data['Average Data Speed Download'].max()"
   ]
  },
  {
   "cell_type": "code",
   "execution_count": 14,
   "metadata": {},
   "outputs": [
    {
     "data": {
      "text/plain": [
       "31730.53"
      ]
     },
     "execution_count": 14,
     "metadata": {},
     "output_type": "execute_result"
    }
   ],
   "source": [
    "data['Average Data Speed Download'].quantile(0.95)"
   ]
  },
  {
   "cell_type": "code",
   "execution_count": 15,
   "metadata": {},
   "outputs": [
    {
     "data": {
      "text/plain": [
       "0.0"
      ]
     },
     "execution_count": 15,
     "metadata": {},
     "output_type": "execute_result"
    }
   ],
   "source": [
    "data['Average Data Speed Download'].min()"
   ]
  },
  {
   "cell_type": "code",
   "execution_count": 16,
   "metadata": {},
   "outputs": [
    {
     "data": {
      "text/plain": [
       "1742.47"
      ]
     },
     "execution_count": 16,
     "metadata": {},
     "output_type": "execute_result"
    }
   ],
   "source": [
    "data['Average Data Speed Download'].quantile(0.05)"
   ]
  },
  {
   "cell_type": "code",
   "execution_count": 17,
   "metadata": {},
   "outputs": [
    {
     "name": "stderr",
     "output_type": "stream",
     "text": [
      "c:\\python38\\lib\\site-packages\\seaborn\\_decorators.py:36: FutureWarning: Pass the following variable as a keyword arg: x. From version 0.12, the only valid positional argument will be `data`, and passing other arguments without an explicit keyword will result in an error or misinterpretation.\n",
      "  warnings.warn(\n"
     ]
    },
    {
     "data": {
      "text/plain": [
       "<AxesSubplot:xlabel='Average Data Speed Download'>"
      ]
     },
     "execution_count": 17,
     "metadata": {},
     "output_type": "execute_result"
    },
    {
     "data": {
      "image/png": "[encoded data removed]",
      "text/plain": [
       "<Figure size 432x288 with 1 Axes>"
      ]
     },
     "metadata": {
      "needs_background": "light"
     },
     "output_type": "display_data"
    }
   ],
   "source": [
    "sns.boxplot(data['Average Data Speed Download'])"
   ]
  },
  {
   "cell_type": "code",
   "execution_count": 18,
   "metadata": {},
   "outputs": [
    {
     "data": {
      "image/png": "[encoded data removed]",
      "text/plain": [
       "<Figure size 432x288 with 1 Axes>"
      ]
     },
     "metadata": {
      "needs_background": "light"
     },
     "output_type": "display_data"
    }
   ],
   "source": [
    "plt.hist(data['Average Data Speed Download'])\n",
    "plt.show()"
   ]
  },
  {
   "cell_type": "code",
   "execution_count": 19,
   "metadata": {},
   "outputs": [
    {
     "name": "stderr",
     "output_type": "stream",
     "text": [
      "c:\\python38\\lib\\site-packages\\seaborn\\_decorators.py:36: FutureWarning: Pass the following variable as a keyword arg: x. From version 0.12, the only valid positional argument will be `data`, and passing other arguments without an explicit keyword will result in an error or misinterpretation.\n",
      "  warnings.warn(\n"
     ]
    },
    {
     "data": {
      "text/plain": [
       "<AxesSubplot:xlabel='Average Signal Strength Download'>"
      ]
     },
     "execution_count": 19,
     "metadata": {},
     "output_type": "execute_result"
    },
    {
     "data": {
      "image/png": "[encoded data removed]",
      "text/plain": [
       "<Figure size 432x288 with 1 Axes>"
      ]
     },
     "metadata": {
      "needs_background": "light"
     },
     "output_type": "display_data"
    }
   ],
   "source": [
    "sns.boxplot(data['Average Signal Strength Download'])"
   ]
  },
  {
   "cell_type": "code",
   "execution_count": 20,
   "metadata": {},
   "outputs": [
    {
     "data": {
      "text/plain": [
       "220.94"
      ]
     },
     "execution_count": 20,
     "metadata": {},
     "output_type": "execute_result"
    }
   ],
   "source": [
    "data['Average Data Speed Upload'].min()"
   ]
  },
  {
   "cell_type": "code",
   "execution_count": 21,
   "metadata": {},
   "outputs": [
    {
     "data": {
      "text/plain": [
       "862.2004"
      ]
     },
     "execution_count": 21,
     "metadata": {},
     "output_type": "execute_result"
    }
   ],
   "source": [
    "min_thres = data['Average Data Speed Upload'].quantile(0.05)\n",
    "min_thres"
   ]
  },
  {
   "cell_type": "code",
   "execution_count": 22,
   "metadata": {},
   "outputs": [
    {
     "data": {
      "text/plain": [
       "12220.91"
      ]
     },
     "execution_count": 22,
     "metadata": {},
     "output_type": "execute_result"
    }
   ],
   "source": [
    "data['Average Data Speed Upload'].max()"
   ]
  },
  {
   "cell_type": "code",
   "execution_count": 23,
   "metadata": {},
   "outputs": [
    {
     "data": {
      "text/plain": [
       "9720.68"
      ]
     },
     "execution_count": 23,
     "metadata": {},
     "output_type": "execute_result"
    }
   ],
   "source": [
    "max_thres = data['Average Data Speed Upload'].quantile(0.98)\n",
    "max_thres"
   ]
  },
  {
   "cell_type": "code",
   "execution_count": 24,
   "metadata": {},
   "outputs": [
    {
     "data": {
      "image/png": "[encoded data removed]",
      "text/plain": [
       "<Figure size 432x288 with 1 Axes>"
      ]
     },
     "metadata": {
      "needs_background": "light"
     },
     "output_type": "display_data"
    }
   ],
   "source": [
    "plt.hist(data['Average Data Speed Upload'])\n",
    "plt.show()"
   ]
  },
  {
   "cell_type": "code",
   "execution_count": 25,
   "metadata": {},
   "outputs": [
    {
     "data": {
      "text/plain": [
       "(30784, 16)"
      ]
     },
     "execution_count": 25,
     "metadata": {},
     "output_type": "execute_result"
    }
   ],
   "source": [
    "# This is a 3G network type but the avg data upload speed is maximum and it is only a single entry > 98 precentile threshold.\n",
    "index = data[data['Average Data Speed Upload'] > max_thres ].index\n",
    "data.drop(index , axis = 0, inplace = True)\n",
    "data.shape"
   ]
  },
  {
   "cell_type": "code",
   "execution_count": null,
   "metadata": {},
   "outputs": [],
   "source": []
  },
  {
   "cell_type": "code",
   "execution_count": 26,
   "metadata": {},
   "outputs": [
    {
     "name": "stderr",
     "output_type": "stream",
     "text": [
      "c:\\python38\\lib\\site-packages\\seaborn\\_decorators.py:36: FutureWarning: Pass the following variable as a keyword arg: x. From version 0.12, the only valid positional argument will be `data`, and passing other arguments without an explicit keyword will result in an error or misinterpretation.\n",
      "  warnings.warn(\n"
     ]
    },
    {
     "data": {
      "text/plain": [
       "<AxesSubplot:xlabel='Average Data Speed Upload'>"
      ]
     },
     "execution_count": 26,
     "metadata": {},
     "output_type": "execute_result"
    },
    {
     "data": {
      "image/png": "[encoded data removed]",
      "text/plain": [
       "<Figure size 432x288 with 1 Axes>"
      ]
     },
     "metadata": {
      "needs_background": "light"
     },
     "output_type": "display_data"
    }
   ],
   "source": [
    "sns.boxplot(data['Average Data Speed Upload'])"
   ]
  },
  {
   "cell_type": "code",
   "execution_count": 27,
   "metadata": {},
   "outputs": [
    {
     "name": "stderr",
     "output_type": "stream",
     "text": [
      "c:\\python38\\lib\\site-packages\\seaborn\\_decorators.py:36: FutureWarning: Pass the following variable as a keyword arg: x. From version 0.12, the only valid positional argument will be `data`, and passing other arguments without an explicit keyword will result in an error or misinterpretation.\n",
      "  warnings.warn(\n"
     ]
    },
    {
     "data": {
      "text/plain": [
       "<AxesSubplot:xlabel='Average Signal Strength Upload'>"
      ]
     },
     "execution_count": 27,
     "metadata": {},
     "output_type": "execute_result"
    },
    {
     "data": {
      "image/png": "[encoded data removed]",
      "text/plain": [
       "<Figure size 432x288 with 1 Axes>"
      ]
     },
     "metadata": {
      "needs_background": "light"
     },
     "output_type": "display_data"
    }
   ],
   "source": [
    "sns.boxplot(data['Average Signal Strength Upload'])"
   ]
  },
  {
   "cell_type": "code",
   "execution_count": 28,
   "metadata": {},
   "outputs": [
    {
     "data": {
      "text/plain": [
       "76.93"
      ]
     },
     "execution_count": 28,
     "metadata": {},
     "output_type": "execute_result"
    }
   ],
   "source": [
    "data['Average Signal Strength Upload'].max()"
   ]
  },
  {
   "cell_type": "code",
   "execution_count": 29,
   "metadata": {},
   "outputs": [
    {
     "data": {
      "text/plain": [
       "-63.0"
      ]
     },
     "execution_count": 29,
     "metadata": {},
     "output_type": "execute_result"
    }
   ],
   "source": [
    "max_thres = data['Average Signal Strength Upload'].quantile(0.999)\n",
    "max_thres"
   ]
  },
  {
   "cell_type": "code",
   "execution_count": 30,
   "metadata": {},
   "outputs": [
    {
     "data": {
      "text/html": [
       "<div>\n",
       "<style scoped>\n",
       "    .dataframe tbody tr th:only-of-type {\n",
       "        vertical-align: middle;\n",
       "    }\n",
       "\n",
       "    .dataframe tbody tr th {\n",
       "        vertical-align: top;\n",
       "    }\n",
       "\n",
       "    .dataframe thead th {\n",
       "        text-align: right;\n",
       "    }\n",
       "</style>\n",
       "<table border=\"1\" class=\"dataframe\">\n",
       "  <thead>\n",
       "    <tr style=\"text-align: right;\">\n",
       "      <th></th>\n",
       "      <th>Operator</th>\n",
       "      <th>In Out Travelling</th>\n",
       "      <th>Network Type</th>\n",
       "      <th>Rating</th>\n",
       "      <th>Call Drop Category</th>\n",
       "      <th>Latitude</th>\n",
       "      <th>Longitude</th>\n",
       "      <th>State Name</th>\n",
       "      <th>Average Data Speed Download</th>\n",
       "      <th>Average Signal Strength Download</th>\n",
       "      <th>Average Data Speed Upload</th>\n",
       "      <th>Average Signal Strength Upload</th>\n",
       "      <th>Population</th>\n",
       "      <th>Literacy Rate</th>\n",
       "      <th>Rainfall</th>\n",
       "      <th>Area of the state</th>\n",
       "    </tr>\n",
       "  </thead>\n",
       "  <tbody>\n",
       "    <tr>\n",
       "      <th>320</th>\n",
       "      <td>BSNL</td>\n",
       "      <td>Outdoor</td>\n",
       "      <td>3G</td>\n",
       "      <td>1</td>\n",
       "      <td>Poor Voice Quality</td>\n",
       "      <td>11.333950</td>\n",
       "      <td>77.703832</td>\n",
       "      <td>Tamil Nadu</td>\n",
       "      <td>2786.96</td>\n",
       "      <td>-76.71</td>\n",
       "      <td>1570.96</td>\n",
       "      <td>76.93</td>\n",
       "      <td>72147030.0</td>\n",
       "      <td>80.33</td>\n",
       "      <td>998.0</td>\n",
       "      <td>130060.0</td>\n",
       "    </tr>\n",
       "    <tr>\n",
       "      <th>943</th>\n",
       "      <td>BSNL</td>\n",
       "      <td>Indoor</td>\n",
       "      <td>3G</td>\n",
       "      <td>1</td>\n",
       "      <td>Poor Voice Quality</td>\n",
       "      <td>11.333950</td>\n",
       "      <td>77.703832</td>\n",
       "      <td>Tamil Nadu</td>\n",
       "      <td>2786.96</td>\n",
       "      <td>-76.71</td>\n",
       "      <td>1570.96</td>\n",
       "      <td>76.93</td>\n",
       "      <td>72147030.0</td>\n",
       "      <td>80.33</td>\n",
       "      <td>998.0</td>\n",
       "      <td>130060.0</td>\n",
       "    </tr>\n",
       "    <tr>\n",
       "      <th>944</th>\n",
       "      <td>BSNL</td>\n",
       "      <td>Indoor</td>\n",
       "      <td>3G</td>\n",
       "      <td>1</td>\n",
       "      <td>Poor Voice Quality</td>\n",
       "      <td>11.333950</td>\n",
       "      <td>77.703832</td>\n",
       "      <td>Tamil Nadu</td>\n",
       "      <td>2786.96</td>\n",
       "      <td>-76.71</td>\n",
       "      <td>1570.96</td>\n",
       "      <td>76.93</td>\n",
       "      <td>72147030.0</td>\n",
       "      <td>80.33</td>\n",
       "      <td>998.0</td>\n",
       "      <td>130060.0</td>\n",
       "    </tr>\n",
       "    <tr>\n",
       "      <th>2813</th>\n",
       "      <td>BSNL</td>\n",
       "      <td>Indoor</td>\n",
       "      <td>3G</td>\n",
       "      <td>1</td>\n",
       "      <td>Poor Voice Quality</td>\n",
       "      <td>11.331888</td>\n",
       "      <td>77.706396</td>\n",
       "      <td>Tamil Nadu</td>\n",
       "      <td>2786.96</td>\n",
       "      <td>-76.71</td>\n",
       "      <td>1570.96</td>\n",
       "      <td>76.93</td>\n",
       "      <td>72147030.0</td>\n",
       "      <td>80.33</td>\n",
       "      <td>998.0</td>\n",
       "      <td>130060.0</td>\n",
       "    </tr>\n",
       "    <tr>\n",
       "      <th>3161</th>\n",
       "      <td>BSNL</td>\n",
       "      <td>Indoor</td>\n",
       "      <td>3G</td>\n",
       "      <td>5</td>\n",
       "      <td>Satisfactory</td>\n",
       "      <td>12.970213</td>\n",
       "      <td>80.187106</td>\n",
       "      <td>Tamil Nadu</td>\n",
       "      <td>2786.96</td>\n",
       "      <td>-76.71</td>\n",
       "      <td>1570.96</td>\n",
       "      <td>76.93</td>\n",
       "      <td>72147030.0</td>\n",
       "      <td>80.33</td>\n",
       "      <td>998.0</td>\n",
       "      <td>130060.0</td>\n",
       "    </tr>\n",
       "    <tr>\n",
       "      <th>4675</th>\n",
       "      <td>BSNL</td>\n",
       "      <td>Outdoor</td>\n",
       "      <td>3G</td>\n",
       "      <td>1</td>\n",
       "      <td>Poor Voice Quality</td>\n",
       "      <td>11.335138</td>\n",
       "      <td>77.707814</td>\n",
       "      <td>Tamil Nadu</td>\n",
       "      <td>2786.96</td>\n",
       "      <td>-76.71</td>\n",
       "      <td>1570.96</td>\n",
       "      <td>76.93</td>\n",
       "      <td>72147030.0</td>\n",
       "      <td>80.33</td>\n",
       "      <td>998.0</td>\n",
       "      <td>130060.0</td>\n",
       "    </tr>\n",
       "    <tr>\n",
       "      <th>5639</th>\n",
       "      <td>BSNL</td>\n",
       "      <td>Outdoor</td>\n",
       "      <td>3G</td>\n",
       "      <td>1</td>\n",
       "      <td>Poor Voice Quality</td>\n",
       "      <td>11.332389</td>\n",
       "      <td>77.701745</td>\n",
       "      <td>Tamil Nadu</td>\n",
       "      <td>2786.96</td>\n",
       "      <td>-76.71</td>\n",
       "      <td>1570.96</td>\n",
       "      <td>76.93</td>\n",
       "      <td>72147030.0</td>\n",
       "      <td>80.33</td>\n",
       "      <td>998.0</td>\n",
       "      <td>130060.0</td>\n",
       "    </tr>\n",
       "    <tr>\n",
       "      <th>5640</th>\n",
       "      <td>BSNL</td>\n",
       "      <td>Outdoor</td>\n",
       "      <td>3G</td>\n",
       "      <td>1</td>\n",
       "      <td>Poor Voice Quality</td>\n",
       "      <td>11.332770</td>\n",
       "      <td>77.701888</td>\n",
       "      <td>Tamil Nadu</td>\n",
       "      <td>2786.96</td>\n",
       "      <td>-76.71</td>\n",
       "      <td>1570.96</td>\n",
       "      <td>76.93</td>\n",
       "      <td>72147030.0</td>\n",
       "      <td>80.33</td>\n",
       "      <td>998.0</td>\n",
       "      <td>130060.0</td>\n",
       "    </tr>\n",
       "    <tr>\n",
       "      <th>6724</th>\n",
       "      <td>BSNL</td>\n",
       "      <td>Outdoor</td>\n",
       "      <td>3G</td>\n",
       "      <td>1</td>\n",
       "      <td>Poor Voice Quality</td>\n",
       "      <td>11.331618</td>\n",
       "      <td>77.699956</td>\n",
       "      <td>Tamil Nadu</td>\n",
       "      <td>2786.96</td>\n",
       "      <td>-76.71</td>\n",
       "      <td>1570.96</td>\n",
       "      <td>76.93</td>\n",
       "      <td>72147030.0</td>\n",
       "      <td>80.33</td>\n",
       "      <td>998.0</td>\n",
       "      <td>130060.0</td>\n",
       "    </tr>\n",
       "    <tr>\n",
       "      <th>9404</th>\n",
       "      <td>BSNL</td>\n",
       "      <td>Indoor</td>\n",
       "      <td>3G</td>\n",
       "      <td>5</td>\n",
       "      <td>Satisfactory</td>\n",
       "      <td>13.041008</td>\n",
       "      <td>80.197457</td>\n",
       "      <td>Tamil Nadu</td>\n",
       "      <td>2786.96</td>\n",
       "      <td>-76.71</td>\n",
       "      <td>1570.96</td>\n",
       "      <td>76.93</td>\n",
       "      <td>72147030.0</td>\n",
       "      <td>80.33</td>\n",
       "      <td>998.0</td>\n",
       "      <td>130060.0</td>\n",
       "    </tr>\n",
       "    <tr>\n",
       "      <th>9405</th>\n",
       "      <td>BSNL</td>\n",
       "      <td>Indoor</td>\n",
       "      <td>3G</td>\n",
       "      <td>4</td>\n",
       "      <td>Satisfactory</td>\n",
       "      <td>13.041918</td>\n",
       "      <td>80.196670</td>\n",
       "      <td>Tamil Nadu</td>\n",
       "      <td>2786.96</td>\n",
       "      <td>-76.71</td>\n",
       "      <td>1570.96</td>\n",
       "      <td>76.93</td>\n",
       "      <td>72147030.0</td>\n",
       "      <td>80.33</td>\n",
       "      <td>998.0</td>\n",
       "      <td>130060.0</td>\n",
       "    </tr>\n",
       "    <tr>\n",
       "      <th>9406</th>\n",
       "      <td>BSNL</td>\n",
       "      <td>Outdoor</td>\n",
       "      <td>3G</td>\n",
       "      <td>5</td>\n",
       "      <td>Satisfactory</td>\n",
       "      <td>12.977707</td>\n",
       "      <td>80.184543</td>\n",
       "      <td>Tamil Nadu</td>\n",
       "      <td>2786.96</td>\n",
       "      <td>-76.71</td>\n",
       "      <td>1570.96</td>\n",
       "      <td>76.93</td>\n",
       "      <td>72147030.0</td>\n",
       "      <td>80.33</td>\n",
       "      <td>998.0</td>\n",
       "      <td>130060.0</td>\n",
       "    </tr>\n",
       "    <tr>\n",
       "      <th>9407</th>\n",
       "      <td>BSNL</td>\n",
       "      <td>Outdoor</td>\n",
       "      <td>3G</td>\n",
       "      <td>5</td>\n",
       "      <td>Satisfactory</td>\n",
       "      <td>12.977835</td>\n",
       "      <td>80.184255</td>\n",
       "      <td>Tamil Nadu</td>\n",
       "      <td>2786.96</td>\n",
       "      <td>-76.71</td>\n",
       "      <td>1570.96</td>\n",
       "      <td>76.93</td>\n",
       "      <td>72147030.0</td>\n",
       "      <td>80.33</td>\n",
       "      <td>998.0</td>\n",
       "      <td>130060.0</td>\n",
       "    </tr>\n",
       "    <tr>\n",
       "      <th>10568</th>\n",
       "      <td>BSNL</td>\n",
       "      <td>Indoor</td>\n",
       "      <td>3G</td>\n",
       "      <td>5</td>\n",
       "      <td>Satisfactory</td>\n",
       "      <td>13.040303</td>\n",
       "      <td>80.197242</td>\n",
       "      <td>Tamil Nadu</td>\n",
       "      <td>2786.96</td>\n",
       "      <td>-76.71</td>\n",
       "      <td>1570.96</td>\n",
       "      <td>76.93</td>\n",
       "      <td>72147030.0</td>\n",
       "      <td>80.33</td>\n",
       "      <td>998.0</td>\n",
       "      <td>130060.0</td>\n",
       "    </tr>\n",
       "    <tr>\n",
       "      <th>10744</th>\n",
       "      <td>BSNL</td>\n",
       "      <td>Indoor</td>\n",
       "      <td>3G</td>\n",
       "      <td>5</td>\n",
       "      <td>Satisfactory</td>\n",
       "      <td>13.040115</td>\n",
       "      <td>80.197102</td>\n",
       "      <td>Tamil Nadu</td>\n",
       "      <td>2786.96</td>\n",
       "      <td>-76.71</td>\n",
       "      <td>1570.96</td>\n",
       "      <td>76.93</td>\n",
       "      <td>72147030.0</td>\n",
       "      <td>80.33</td>\n",
       "      <td>998.0</td>\n",
       "      <td>130060.0</td>\n",
       "    </tr>\n",
       "    <tr>\n",
       "      <th>10871</th>\n",
       "      <td>BSNL</td>\n",
       "      <td>Indoor</td>\n",
       "      <td>3G</td>\n",
       "      <td>5</td>\n",
       "      <td>Satisfactory</td>\n",
       "      <td>13.040115</td>\n",
       "      <td>80.197102</td>\n",
       "      <td>Tamil Nadu</td>\n",
       "      <td>2786.96</td>\n",
       "      <td>-76.71</td>\n",
       "      <td>1570.96</td>\n",
       "      <td>76.93</td>\n",
       "      <td>72147030.0</td>\n",
       "      <td>80.33</td>\n",
       "      <td>998.0</td>\n",
       "      <td>130060.0</td>\n",
       "    </tr>\n",
       "    <tr>\n",
       "      <th>11172</th>\n",
       "      <td>BSNL</td>\n",
       "      <td>Outdoor</td>\n",
       "      <td>3G</td>\n",
       "      <td>3</td>\n",
       "      <td>Satisfactory</td>\n",
       "      <td>11.016306</td>\n",
       "      <td>76.968752</td>\n",
       "      <td>Tamil Nadu</td>\n",
       "      <td>2786.96</td>\n",
       "      <td>-76.71</td>\n",
       "      <td>1570.96</td>\n",
       "      <td>76.93</td>\n",
       "      <td>72147030.0</td>\n",
       "      <td>80.33</td>\n",
       "      <td>998.0</td>\n",
       "      <td>130060.0</td>\n",
       "    </tr>\n",
       "    <tr>\n",
       "      <th>11173</th>\n",
       "      <td>BSNL</td>\n",
       "      <td>Outdoor</td>\n",
       "      <td>3G</td>\n",
       "      <td>3</td>\n",
       "      <td>Satisfactory</td>\n",
       "      <td>10.701845</td>\n",
       "      <td>77.014536</td>\n",
       "      <td>Tamil Nadu</td>\n",
       "      <td>2786.96</td>\n",
       "      <td>-76.71</td>\n",
       "      <td>1570.96</td>\n",
       "      <td>76.93</td>\n",
       "      <td>72147030.0</td>\n",
       "      <td>80.33</td>\n",
       "      <td>998.0</td>\n",
       "      <td>130060.0</td>\n",
       "    </tr>\n",
       "    <tr>\n",
       "      <th>11174</th>\n",
       "      <td>BSNL</td>\n",
       "      <td>Outdoor</td>\n",
       "      <td>3G</td>\n",
       "      <td>3</td>\n",
       "      <td>Satisfactory</td>\n",
       "      <td>10.661726</td>\n",
       "      <td>77.007646</td>\n",
       "      <td>Tamil Nadu</td>\n",
       "      <td>2786.96</td>\n",
       "      <td>-76.71</td>\n",
       "      <td>1570.96</td>\n",
       "      <td>76.93</td>\n",
       "      <td>72147030.0</td>\n",
       "      <td>80.33</td>\n",
       "      <td>998.0</td>\n",
       "      <td>130060.0</td>\n",
       "    </tr>\n",
       "    <tr>\n",
       "      <th>11175</th>\n",
       "      <td>BSNL</td>\n",
       "      <td>Outdoor</td>\n",
       "      <td>3G</td>\n",
       "      <td>3</td>\n",
       "      <td>Satisfactory</td>\n",
       "      <td>10.668849</td>\n",
       "      <td>77.012859</td>\n",
       "      <td>Tamil Nadu</td>\n",
       "      <td>2786.96</td>\n",
       "      <td>-76.71</td>\n",
       "      <td>1570.96</td>\n",
       "      <td>76.93</td>\n",
       "      <td>72147030.0</td>\n",
       "      <td>80.33</td>\n",
       "      <td>998.0</td>\n",
       "      <td>130060.0</td>\n",
       "    </tr>\n",
       "    <tr>\n",
       "      <th>13855</th>\n",
       "      <td>BSNL</td>\n",
       "      <td>Indoor</td>\n",
       "      <td>3G</td>\n",
       "      <td>3</td>\n",
       "      <td>Poor Voice Quality</td>\n",
       "      <td>12.953219</td>\n",
       "      <td>80.141332</td>\n",
       "      <td>Tamil Nadu</td>\n",
       "      <td>2786.96</td>\n",
       "      <td>-76.71</td>\n",
       "      <td>1570.96</td>\n",
       "      <td>76.93</td>\n",
       "      <td>72147030.0</td>\n",
       "      <td>80.33</td>\n",
       "      <td>998.0</td>\n",
       "      <td>130060.0</td>\n",
       "    </tr>\n",
       "    <tr>\n",
       "      <th>15096</th>\n",
       "      <td>BSNL</td>\n",
       "      <td>Outdoor</td>\n",
       "      <td>3G</td>\n",
       "      <td>3</td>\n",
       "      <td>Satisfactory</td>\n",
       "      <td>10.316533</td>\n",
       "      <td>76.894848</td>\n",
       "      <td>Tamil Nadu</td>\n",
       "      <td>2786.96</td>\n",
       "      <td>-76.71</td>\n",
       "      <td>1570.96</td>\n",
       "      <td>76.93</td>\n",
       "      <td>72147030.0</td>\n",
       "      <td>80.33</td>\n",
       "      <td>998.0</td>\n",
       "      <td>130060.0</td>\n",
       "    </tr>\n",
       "    <tr>\n",
       "      <th>15097</th>\n",
       "      <td>BSNL</td>\n",
       "      <td>Outdoor</td>\n",
       "      <td>3G</td>\n",
       "      <td>3</td>\n",
       "      <td>Satisfactory</td>\n",
       "      <td>10.114673</td>\n",
       "      <td>78.788861</td>\n",
       "      <td>Tamil Nadu</td>\n",
       "      <td>2786.96</td>\n",
       "      <td>-76.71</td>\n",
       "      <td>1570.96</td>\n",
       "      <td>76.93</td>\n",
       "      <td>72147030.0</td>\n",
       "      <td>80.33</td>\n",
       "      <td>998.0</td>\n",
       "      <td>130060.0</td>\n",
       "    </tr>\n",
       "    <tr>\n",
       "      <th>15098</th>\n",
       "      <td>BSNL</td>\n",
       "      <td>Travelling</td>\n",
       "      <td>3G</td>\n",
       "      <td>3</td>\n",
       "      <td>Satisfactory</td>\n",
       "      <td>10.114673</td>\n",
       "      <td>78.788861</td>\n",
       "      <td>Tamil Nadu</td>\n",
       "      <td>2786.96</td>\n",
       "      <td>-76.71</td>\n",
       "      <td>1570.96</td>\n",
       "      <td>76.93</td>\n",
       "      <td>72147030.0</td>\n",
       "      <td>80.33</td>\n",
       "      <td>998.0</td>\n",
       "      <td>130060.0</td>\n",
       "    </tr>\n",
       "    <tr>\n",
       "      <th>18943</th>\n",
       "      <td>BSNL</td>\n",
       "      <td>Outdoor</td>\n",
       "      <td>3G</td>\n",
       "      <td>3</td>\n",
       "      <td>Poor Voice Quality</td>\n",
       "      <td>9.451876</td>\n",
       "      <td>77.553850</td>\n",
       "      <td>Tamil Nadu</td>\n",
       "      <td>2786.96</td>\n",
       "      <td>-76.71</td>\n",
       "      <td>1570.96</td>\n",
       "      <td>76.93</td>\n",
       "      <td>72147030.0</td>\n",
       "      <td>80.33</td>\n",
       "      <td>998.0</td>\n",
       "      <td>130060.0</td>\n",
       "    </tr>\n",
       "    <tr>\n",
       "      <th>26172</th>\n",
       "      <td>BSNL</td>\n",
       "      <td>Indoor</td>\n",
       "      <td>3G</td>\n",
       "      <td>1</td>\n",
       "      <td>Call Dropped</td>\n",
       "      <td>9.426706</td>\n",
       "      <td>77.518050</td>\n",
       "      <td>Tamil Nadu</td>\n",
       "      <td>2786.96</td>\n",
       "      <td>-76.71</td>\n",
       "      <td>1570.96</td>\n",
       "      <td>76.93</td>\n",
       "      <td>72147030.0</td>\n",
       "      <td>80.33</td>\n",
       "      <td>998.0</td>\n",
       "      <td>130060.0</td>\n",
       "    </tr>\n",
       "    <tr>\n",
       "      <th>26173</th>\n",
       "      <td>BSNL</td>\n",
       "      <td>Indoor</td>\n",
       "      <td>3G</td>\n",
       "      <td>1</td>\n",
       "      <td>Poor Voice Quality</td>\n",
       "      <td>9.412667</td>\n",
       "      <td>77.488049</td>\n",
       "      <td>Tamil Nadu</td>\n",
       "      <td>2786.96</td>\n",
       "      <td>-76.71</td>\n",
       "      <td>1570.96</td>\n",
       "      <td>76.93</td>\n",
       "      <td>72147030.0</td>\n",
       "      <td>80.33</td>\n",
       "      <td>998.0</td>\n",
       "      <td>130060.0</td>\n",
       "    </tr>\n",
       "    <tr>\n",
       "      <th>26174</th>\n",
       "      <td>BSNL</td>\n",
       "      <td>Indoor</td>\n",
       "      <td>3G</td>\n",
       "      <td>1</td>\n",
       "      <td>Call Dropped</td>\n",
       "      <td>9.426706</td>\n",
       "      <td>77.518050</td>\n",
       "      <td>Tamil Nadu</td>\n",
       "      <td>2786.96</td>\n",
       "      <td>-76.71</td>\n",
       "      <td>1570.96</td>\n",
       "      <td>76.93</td>\n",
       "      <td>72147030.0</td>\n",
       "      <td>80.33</td>\n",
       "      <td>998.0</td>\n",
       "      <td>130060.0</td>\n",
       "    </tr>\n",
       "    <tr>\n",
       "      <th>26175</th>\n",
       "      <td>BSNL</td>\n",
       "      <td>Indoor</td>\n",
       "      <td>3G</td>\n",
       "      <td>1</td>\n",
       "      <td>Poor Voice Quality</td>\n",
       "      <td>9.412667</td>\n",
       "      <td>77.488049</td>\n",
       "      <td>Tamil Nadu</td>\n",
       "      <td>2786.96</td>\n",
       "      <td>-76.71</td>\n",
       "      <td>1570.96</td>\n",
       "      <td>76.93</td>\n",
       "      <td>72147030.0</td>\n",
       "      <td>80.33</td>\n",
       "      <td>998.0</td>\n",
       "      <td>130060.0</td>\n",
       "    </tr>\n",
       "    <tr>\n",
       "      <th>30503</th>\n",
       "      <td>BSNL</td>\n",
       "      <td>Outdoor</td>\n",
       "      <td>3G</td>\n",
       "      <td>1</td>\n",
       "      <td>Poor Voice Quality</td>\n",
       "      <td>11.331822</td>\n",
       "      <td>77.703749</td>\n",
       "      <td>Tamil Nadu</td>\n",
       "      <td>2786.96</td>\n",
       "      <td>-76.71</td>\n",
       "      <td>1570.96</td>\n",
       "      <td>76.93</td>\n",
       "      <td>72147030.0</td>\n",
       "      <td>80.33</td>\n",
       "      <td>998.0</td>\n",
       "      <td>130060.0</td>\n",
       "    </tr>\n",
       "  </tbody>\n",
       "</table>\n",
       "</div>"
      ],
      "text/plain": [
       "      Operator In Out Travelling Network Type  Rating  Call Drop Category  \\\n",
       "320       BSNL           Outdoor           3G       1  Poor Voice Quality   \n",
       "943       BSNL            Indoor           3G       1  Poor Voice Quality   \n",
       "944       BSNL            Indoor           3G       1  Poor Voice Quality   \n",
       "2813      BSNL            Indoor           3G       1  Poor Voice Quality   \n",
       "3161      BSNL            Indoor           3G       5        Satisfactory   \n",
       "4675      BSNL           Outdoor           3G       1  Poor Voice Quality   \n",
       "5639      BSNL           Outdoor           3G       1  Poor Voice Quality   \n",
       "5640      BSNL           Outdoor           3G       1  Poor Voice Quality   \n",
       "6724      BSNL           Outdoor           3G       1  Poor Voice Quality   \n",
       "9404      BSNL            Indoor           3G       5        Satisfactory   \n",
       "9405      BSNL            Indoor           3G       4        Satisfactory   \n",
       "9406      BSNL           Outdoor           3G       5        Satisfactory   \n",
       "9407      BSNL           Outdoor           3G       5        Satisfactory   \n",
       "10568     BSNL            Indoor           3G       5        Satisfactory   \n",
       "10744     BSNL            Indoor           3G       5        Satisfactory   \n",
       "10871     BSNL            Indoor           3G       5        Satisfactory   \n",
       "11172     BSNL           Outdoor           3G       3        Satisfactory   \n",
       "11173     BSNL           Outdoor           3G       3        Satisfactory   \n",
       "11174     BSNL           Outdoor           3G       3        Satisfactory   \n",
       "11175     BSNL           Outdoor           3G       3        Satisfactory   \n",
       "13855     BSNL            Indoor           3G       3  Poor Voice Quality   \n",
       "15096     BSNL           Outdoor           3G       3        Satisfactory   \n",
       "15097     BSNL           Outdoor           3G       3        Satisfactory   \n",
       "15098     BSNL        Travelling           3G       3        Satisfactory   \n",
       "18943     BSNL           Outdoor           3G       3  Poor Voice Quality   \n",
       "26172     BSNL            Indoor           3G       1        Call Dropped   \n",
       "26173     BSNL            Indoor           3G       1  Poor Voice Quality   \n",
       "26174     BSNL            Indoor           3G       1        Call Dropped   \n",
       "26175     BSNL            Indoor           3G       1  Poor Voice Quality   \n",
       "30503     BSNL           Outdoor           3G       1  Poor Voice Quality   \n",
       "\n",
       "        Latitude  Longitude  State Name  Average Data Speed Download  \\\n",
       "320    11.333950  77.703832  Tamil Nadu                      2786.96   \n",
       "943    11.333950  77.703832  Tamil Nadu                      2786.96   \n",
       "944    11.333950  77.703832  Tamil Nadu                      2786.96   \n",
       "2813   11.331888  77.706396  Tamil Nadu                      2786.96   \n",
       "3161   12.970213  80.187106  Tamil Nadu                      2786.96   \n",
       "4675   11.335138  77.707814  Tamil Nadu                      2786.96   \n",
       "5639   11.332389  77.701745  Tamil Nadu                      2786.96   \n",
       "5640   11.332770  77.701888  Tamil Nadu                      2786.96   \n",
       "6724   11.331618  77.699956  Tamil Nadu                      2786.96   \n",
       "9404   13.041008  80.197457  Tamil Nadu                      2786.96   \n",
       "9405   13.041918  80.196670  Tamil Nadu                      2786.96   \n",
       "9406   12.977707  80.184543  Tamil Nadu                      2786.96   \n",
       "9407   12.977835  80.184255  Tamil Nadu                      2786.96   \n",
       "10568  13.040303  80.197242  Tamil Nadu                      2786.96   \n",
       "10744  13.040115  80.197102  Tamil Nadu                      2786.96   \n",
       "10871  13.040115  80.197102  Tamil Nadu                      2786.96   \n",
       "11172  11.016306  76.968752  Tamil Nadu                      2786.96   \n",
       "11173  10.701845  77.014536  Tamil Nadu                      2786.96   \n",
       "11174  10.661726  77.007646  Tamil Nadu                      2786.96   \n",
       "11175  10.668849  77.012859  Tamil Nadu                      2786.96   \n",
       "13855  12.953219  80.141332  Tamil Nadu                      2786.96   \n",
       "15096  10.316533  76.894848  Tamil Nadu                      2786.96   \n",
       "15097  10.114673  78.788861  Tamil Nadu                      2786.96   \n",
       "15098  10.114673  78.788861  Tamil Nadu                      2786.96   \n",
       "18943   9.451876  77.553850  Tamil Nadu                      2786.96   \n",
       "26172   9.426706  77.518050  Tamil Nadu                      2786.96   \n",
       "26173   9.412667  77.488049  Tamil Nadu                      2786.96   \n",
       "26174   9.426706  77.518050  Tamil Nadu                      2786.96   \n",
       "26175   9.412667  77.488049  Tamil Nadu                      2786.96   \n",
       "30503  11.331822  77.703749  Tamil Nadu                      2786.96   \n",
       "\n",
       "       Average Signal Strength Download  Average Data Speed Upload  \\\n",
       "320                              -76.71                    1570.96   \n",
       "943                              -76.71                    1570.96   \n",
       "944                              -76.71                    1570.96   \n",
       "2813                             -76.71                    1570.96   \n",
       "3161                             -76.71                    1570.96   \n",
       "4675                             -76.71                    1570.96   \n",
       "5639                             -76.71                    1570.96   \n",
       "5640                             -76.71                    1570.96   \n",
       "6724                             -76.71                    1570.96   \n",
       "9404                             -76.71                    1570.96   \n",
       "9405                             -76.71                    1570.96   \n",
       "9406                             -76.71                    1570.96   \n",
       "9407                             -76.71                    1570.96   \n",
       "10568                            -76.71                    1570.96   \n",
       "10744                            -76.71                    1570.96   \n",
       "10871                            -76.71                    1570.96   \n",
       "11172                            -76.71                    1570.96   \n",
       "11173                            -76.71                    1570.96   \n",
       "11174                            -76.71                    1570.96   \n",
       "11175                            -76.71                    1570.96   \n",
       "13855                            -76.71                    1570.96   \n",
       "15096                            -76.71                    1570.96   \n",
       "15097                            -76.71                    1570.96   \n",
       "15098                            -76.71                    1570.96   \n",
       "18943                            -76.71                    1570.96   \n",
       "26172                            -76.71                    1570.96   \n",
       "26173                            -76.71                    1570.96   \n",
       "26174                            -76.71                    1570.96   \n",
       "26175                            -76.71                    1570.96   \n",
       "30503                            -76.71                    1570.96   \n",
       "\n",
       "       Average Signal Strength Upload  Population  Literacy Rate  Rainfall  \\\n",
       "320                             76.93  72147030.0          80.33     998.0   \n",
       "943                             76.93  72147030.0          80.33     998.0   \n",
       "944                             76.93  72147030.0          80.33     998.0   \n",
       "2813                            76.93  72147030.0          80.33     998.0   \n",
       "3161                            76.93  72147030.0          80.33     998.0   \n",
       "4675                            76.93  72147030.0          80.33     998.0   \n",
       "5639                            76.93  72147030.0          80.33     998.0   \n",
       "5640                            76.93  72147030.0          80.33     998.0   \n",
       "6724                            76.93  72147030.0          80.33     998.0   \n",
       "9404                            76.93  72147030.0          80.33     998.0   \n",
       "9405                            76.93  72147030.0          80.33     998.0   \n",
       "9406                            76.93  72147030.0          80.33     998.0   \n",
       "9407                            76.93  72147030.0          80.33     998.0   \n",
       "10568                           76.93  72147030.0          80.33     998.0   \n",
       "10744                           76.93  72147030.0          80.33     998.0   \n",
       "10871                           76.93  72147030.0          80.33     998.0   \n",
       "11172                           76.93  72147030.0          80.33     998.0   \n",
       "11173                           76.93  72147030.0          80.33     998.0   \n",
       "11174                           76.93  72147030.0          80.33     998.0   \n",
       "11175                           76.93  72147030.0          80.33     998.0   \n",
       "13855                           76.93  72147030.0          80.33     998.0   \n",
       "15096                           76.93  72147030.0          80.33     998.0   \n",
       "15097                           76.93  72147030.0          80.33     998.0   \n",
       "15098                           76.93  72147030.0          80.33     998.0   \n",
       "18943                           76.93  72147030.0          80.33     998.0   \n",
       "26172                           76.93  72147030.0          80.33     998.0   \n",
       "26173                           76.93  72147030.0          80.33     998.0   \n",
       "26174                           76.93  72147030.0          80.33     998.0   \n",
       "26175                           76.93  72147030.0          80.33     998.0   \n",
       "30503                           76.93  72147030.0          80.33     998.0   \n",
       "\n",
       "       Area of the state  \n",
       "320             130060.0  \n",
       "943             130060.0  \n",
       "944             130060.0  \n",
       "2813            130060.0  \n",
       "3161            130060.0  \n",
       "4675            130060.0  \n",
       "5639            130060.0  \n",
       "5640            130060.0  \n",
       "6724            130060.0  \n",
       "9404            130060.0  \n",
       "9405            130060.0  \n",
       "9406            130060.0  \n",
       "9407            130060.0  \n",
       "10568           130060.0  \n",
       "10744           130060.0  \n",
       "10871           130060.0  \n",
       "11172           130060.0  \n",
       "11173           130060.0  \n",
       "11174           130060.0  \n",
       "11175           130060.0  \n",
       "13855           130060.0  \n",
       "15096           130060.0  \n",
       "15097           130060.0  \n",
       "15098           130060.0  \n",
       "18943           130060.0  \n",
       "26172           130060.0  \n",
       "26173           130060.0  \n",
       "26174           130060.0  \n",
       "26175           130060.0  \n",
       "30503           130060.0  "
      ]
     },
     "execution_count": 30,
     "metadata": {},
     "output_type": "execute_result"
    }
   ],
   "source": [
    "# The avg signal strength upload feature values are all in negative, except the value 76.93. It is either mis-written or wrong. \n",
    "data[data['Average Signal Strength Upload'] > max_thres ] "
   ]
  },
  {
   "cell_type": "code",
   "execution_count": 31,
   "metadata": {},
   "outputs": [
    {
     "data": {
      "text/plain": [
       "(30754, 16)"
      ]
     },
     "execution_count": 31,
     "metadata": {},
     "output_type": "execute_result"
    }
   ],
   "source": [
    "index1 = data[data['Average Signal Strength Upload'] > max_thres ].index\n",
    "data.drop(index1, axis = 0, inplace = True)\n",
    "data.shape"
   ]
  },
  {
   "cell_type": "code",
   "execution_count": 32,
   "metadata": {
    "scrolled": true
   },
   "outputs": [
    {
     "data": {
      "text/plain": [
       "RJio        15218\n",
       "Airtel       6982\n",
       "Vodafone     5895\n",
       "Idea         2050\n",
       "BSNL          609\n",
       "Name: Operator, dtype: int64"
      ]
     },
     "execution_count": 32,
     "metadata": {},
     "output_type": "execute_result"
    }
   ],
   "source": [
    "data['Operator'].value_counts()"
   ]
  },
  {
   "cell_type": "code",
   "execution_count": 33,
   "metadata": {},
   "outputs": [
    {
     "data": {
      "text/plain": [
       "Maharashtra       10422\n",
       "Gujarat            2671\n",
       "Uttar Pradesh      2531\n",
       "West Bengal        2384\n",
       "Tamil Nadu         2168\n",
       "Rajasthan          2164\n",
       "Karnataka          1967\n",
       "Odisha             1646\n",
       "Bihar              1404\n",
       "Haryana            1304\n",
       "Madhya Pradesh      872\n",
       "Andhra Pradesh      809\n",
       "Punjab              255\n",
       "Kerala               97\n",
       "Assam                60\n",
       "Name: State Name, dtype: int64"
      ]
     },
     "execution_count": 33,
     "metadata": {},
     "output_type": "execute_result"
    }
   ],
   "source": [
    "data['State Name'].value_counts()"
   ]
  },
  {
   "cell_type": "code",
   "execution_count": 34,
   "metadata": {},
   "outputs": [
    {
     "name": "stderr",
     "output_type": "stream",
     "text": [
      "c:\\python38\\lib\\site-packages\\seaborn\\_decorators.py:36: FutureWarning: Pass the following variable as a keyword arg: x. From version 0.12, the only valid positional argument will be `data`, and passing other arguments without an explicit keyword will result in an error or misinterpretation.\n",
      "  warnings.warn(\n"
     ]
    },
    {
     "data": {
      "text/plain": [
       "<AxesSubplot:xlabel='Literacy Rate'>"
      ]
     },
     "execution_count": 34,
     "metadata": {},
     "output_type": "execute_result"
    },
    {
     "data": {
      "image/png": "[encoded data removed]",
      "text/plain": [
       "<Figure size 432x288 with 1 Axes>"
      ]
     },
     "metadata": {
      "needs_background": "light"
     },
     "output_type": "display_data"
    }
   ],
   "source": [
    "sns.boxplot(data['Literacy Rate'])"
   ]
  },
  {
   "cell_type": "code",
   "execution_count": 35,
   "metadata": {},
   "outputs": [
    {
     "data": {
      "text/plain": [
       "10.98"
      ]
     },
     "execution_count": 35,
     "metadata": {},
     "output_type": "execute_result"
    }
   ],
   "source": [
    "data['Literacy Rate'].min()"
   ]
  },
  {
   "cell_type": "code",
   "execution_count": 36,
   "metadata": {},
   "outputs": [
    {
     "data": {
      "text/plain": [
       "61.8"
      ]
     },
     "execution_count": 36,
     "metadata": {},
     "output_type": "execute_result"
    }
   ],
   "source": [
    "min_thres = data['Literacy Rate'].quantile(0.03)\n",
    "min_thres"
   ]
  },
  {
   "cell_type": "code",
   "execution_count": 37,
   "metadata": {},
   "outputs": [
    {
     "data": {
      "text/html": [
       "<div>\n",
       "<style scoped>\n",
       "    .dataframe tbody tr th:only-of-type {\n",
       "        vertical-align: middle;\n",
       "    }\n",
       "\n",
       "    .dataframe tbody tr th {\n",
       "        vertical-align: top;\n",
       "    }\n",
       "\n",
       "    .dataframe thead th {\n",
       "        text-align: right;\n",
       "    }\n",
       "</style>\n",
       "<table border=\"1\" class=\"dataframe\">\n",
       "  <thead>\n",
       "    <tr style=\"text-align: right;\">\n",
       "      <th></th>\n",
       "      <th>Operator</th>\n",
       "      <th>In Out Travelling</th>\n",
       "      <th>Network Type</th>\n",
       "      <th>Rating</th>\n",
       "      <th>Call Drop Category</th>\n",
       "      <th>Latitude</th>\n",
       "      <th>Longitude</th>\n",
       "      <th>State Name</th>\n",
       "      <th>Average Data Speed Download</th>\n",
       "      <th>Average Signal Strength Download</th>\n",
       "      <th>Average Data Speed Upload</th>\n",
       "      <th>Average Signal Strength Upload</th>\n",
       "      <th>Population</th>\n",
       "      <th>Literacy Rate</th>\n",
       "      <th>Rainfall</th>\n",
       "      <th>Area of the state</th>\n",
       "    </tr>\n",
       "  </thead>\n",
       "  <tbody>\n",
       "    <tr>\n",
       "      <th>15</th>\n",
       "      <td>RJio</td>\n",
       "      <td>Outdoor</td>\n",
       "      <td>4G</td>\n",
       "      <td>3</td>\n",
       "      <td>Satisfactory</td>\n",
       "      <td>16.977043</td>\n",
       "      <td>82.238104</td>\n",
       "      <td>Andhra Pradesh</td>\n",
       "      <td>32444.069600</td>\n",
       "      <td>-81.241925</td>\n",
       "      <td>5755.952023</td>\n",
       "      <td>-81.279064</td>\n",
       "      <td>84580777.0</td>\n",
       "      <td>10.98</td>\n",
       "      <td>1245.0</td>\n",
       "      <td>160205.0</td>\n",
       "    </tr>\n",
       "    <tr>\n",
       "      <th>33</th>\n",
       "      <td>RJio</td>\n",
       "      <td>Indoor</td>\n",
       "      <td>4G</td>\n",
       "      <td>3</td>\n",
       "      <td>Satisfactory</td>\n",
       "      <td>16.510005</td>\n",
       "      <td>80.666504</td>\n",
       "      <td>Andhra Pradesh</td>\n",
       "      <td>32444.069600</td>\n",
       "      <td>-81.241925</td>\n",
       "      <td>5755.952023</td>\n",
       "      <td>-81.279064</td>\n",
       "      <td>84580777.0</td>\n",
       "      <td>10.98</td>\n",
       "      <td>1245.0</td>\n",
       "      <td>160205.0</td>\n",
       "    </tr>\n",
       "    <tr>\n",
       "      <th>34</th>\n",
       "      <td>RJio</td>\n",
       "      <td>Indoor</td>\n",
       "      <td>4G</td>\n",
       "      <td>3</td>\n",
       "      <td>Satisfactory</td>\n",
       "      <td>16.521923</td>\n",
       "      <td>80.629653</td>\n",
       "      <td>Andhra Pradesh</td>\n",
       "      <td>32444.069600</td>\n",
       "      <td>-81.241925</td>\n",
       "      <td>5755.952023</td>\n",
       "      <td>-81.279064</td>\n",
       "      <td>84580777.0</td>\n",
       "      <td>10.98</td>\n",
       "      <td>1245.0</td>\n",
       "      <td>160205.0</td>\n",
       "    </tr>\n",
       "    <tr>\n",
       "      <th>35</th>\n",
       "      <td>RJio</td>\n",
       "      <td>Indoor</td>\n",
       "      <td>4G</td>\n",
       "      <td>3</td>\n",
       "      <td>Satisfactory</td>\n",
       "      <td>16.521923</td>\n",
       "      <td>80.629653</td>\n",
       "      <td>Andhra Pradesh</td>\n",
       "      <td>32444.069600</td>\n",
       "      <td>-81.241925</td>\n",
       "      <td>5755.952023</td>\n",
       "      <td>-81.279064</td>\n",
       "      <td>84580777.0</td>\n",
       "      <td>10.98</td>\n",
       "      <td>1245.0</td>\n",
       "      <td>160205.0</td>\n",
       "    </tr>\n",
       "    <tr>\n",
       "      <th>36</th>\n",
       "      <td>RJio</td>\n",
       "      <td>Indoor</td>\n",
       "      <td>4G</td>\n",
       "      <td>3</td>\n",
       "      <td>Satisfactory</td>\n",
       "      <td>16.521854</td>\n",
       "      <td>80.630070</td>\n",
       "      <td>Andhra Pradesh</td>\n",
       "      <td>32444.069600</td>\n",
       "      <td>-81.241925</td>\n",
       "      <td>5755.952023</td>\n",
       "      <td>-81.279064</td>\n",
       "      <td>84580777.0</td>\n",
       "      <td>10.98</td>\n",
       "      <td>1245.0</td>\n",
       "      <td>160205.0</td>\n",
       "    </tr>\n",
       "    <tr>\n",
       "      <th>...</th>\n",
       "      <td>...</td>\n",
       "      <td>...</td>\n",
       "      <td>...</td>\n",
       "      <td>...</td>\n",
       "      <td>...</td>\n",
       "      <td>...</td>\n",
       "      <td>...</td>\n",
       "      <td>...</td>\n",
       "      <td>...</td>\n",
       "      <td>...</td>\n",
       "      <td>...</td>\n",
       "      <td>...</td>\n",
       "      <td>...</td>\n",
       "      <td>...</td>\n",
       "      <td>...</td>\n",
       "      <td>...</td>\n",
       "    </tr>\n",
       "    <tr>\n",
       "      <th>30660</th>\n",
       "      <td>RJio</td>\n",
       "      <td>Indoor</td>\n",
       "      <td>4G</td>\n",
       "      <td>2</td>\n",
       "      <td>Poor Voice Quality</td>\n",
       "      <td>13.541779</td>\n",
       "      <td>78.513418</td>\n",
       "      <td>Andhra Pradesh</td>\n",
       "      <td>32444.069600</td>\n",
       "      <td>-81.241925</td>\n",
       "      <td>5755.952023</td>\n",
       "      <td>-81.279064</td>\n",
       "      <td>84580777.0</td>\n",
       "      <td>10.98</td>\n",
       "      <td>1245.0</td>\n",
       "      <td>160205.0</td>\n",
       "    </tr>\n",
       "    <tr>\n",
       "      <th>30730</th>\n",
       "      <td>Airtel</td>\n",
       "      <td>Travelling</td>\n",
       "      <td>4G</td>\n",
       "      <td>2</td>\n",
       "      <td>Poor Voice Quality</td>\n",
       "      <td>16.413405</td>\n",
       "      <td>80.297109</td>\n",
       "      <td>Andhra Pradesh</td>\n",
       "      <td>14077.240000</td>\n",
       "      <td>-96.520000</td>\n",
       "      <td>6320.060000</td>\n",
       "      <td>-96.470000</td>\n",
       "      <td>84580777.0</td>\n",
       "      <td>10.98</td>\n",
       "      <td>1245.0</td>\n",
       "      <td>160205.0</td>\n",
       "    </tr>\n",
       "    <tr>\n",
       "      <th>30731</th>\n",
       "      <td>Airtel</td>\n",
       "      <td>Indoor</td>\n",
       "      <td>3G</td>\n",
       "      <td>2</td>\n",
       "      <td>Poor Voice Quality</td>\n",
       "      <td>16.413405</td>\n",
       "      <td>80.297109</td>\n",
       "      <td>Andhra Pradesh</td>\n",
       "      <td>1504.372816</td>\n",
       "      <td>-83.767490</td>\n",
       "      <td>785.364486</td>\n",
       "      <td>-83.677932</td>\n",
       "      <td>84580777.0</td>\n",
       "      <td>10.98</td>\n",
       "      <td>1245.0</td>\n",
       "      <td>160205.0</td>\n",
       "    </tr>\n",
       "    <tr>\n",
       "      <th>30732</th>\n",
       "      <td>Airtel</td>\n",
       "      <td>Travelling</td>\n",
       "      <td>4G</td>\n",
       "      <td>2</td>\n",
       "      <td>Poor Voice Quality</td>\n",
       "      <td>16.413405</td>\n",
       "      <td>80.297109</td>\n",
       "      <td>Andhra Pradesh</td>\n",
       "      <td>14077.240000</td>\n",
       "      <td>-96.520000</td>\n",
       "      <td>6320.060000</td>\n",
       "      <td>-96.470000</td>\n",
       "      <td>84580777.0</td>\n",
       "      <td>10.98</td>\n",
       "      <td>1245.0</td>\n",
       "      <td>160205.0</td>\n",
       "    </tr>\n",
       "    <tr>\n",
       "      <th>30733</th>\n",
       "      <td>Airtel</td>\n",
       "      <td>Travelling</td>\n",
       "      <td>4G</td>\n",
       "      <td>2</td>\n",
       "      <td>Poor Voice Quality</td>\n",
       "      <td>16.403094</td>\n",
       "      <td>80.295145</td>\n",
       "      <td>Andhra Pradesh</td>\n",
       "      <td>14077.240000</td>\n",
       "      <td>-96.520000</td>\n",
       "      <td>6320.060000</td>\n",
       "      <td>-96.470000</td>\n",
       "      <td>84580777.0</td>\n",
       "      <td>10.98</td>\n",
       "      <td>1245.0</td>\n",
       "      <td>160205.0</td>\n",
       "    </tr>\n",
       "  </tbody>\n",
       "</table>\n",
       "<p>869 rows × 16 columns</p>\n",
       "</div>"
      ],
      "text/plain": [
       "      Operator In Out Travelling Network Type  Rating  Call Drop Category  \\\n",
       "15        RJio           Outdoor           4G       3        Satisfactory   \n",
       "33        RJio            Indoor           4G       3        Satisfactory   \n",
       "34        RJio            Indoor           4G       3        Satisfactory   \n",
       "35        RJio            Indoor           4G       3        Satisfactory   \n",
       "36        RJio            Indoor           4G       3        Satisfactory   \n",
       "...        ...               ...          ...     ...                 ...   \n",
       "30660     RJio            Indoor           4G       2  Poor Voice Quality   \n",
       "30730   Airtel        Travelling           4G       2  Poor Voice Quality   \n",
       "30731   Airtel            Indoor           3G       2  Poor Voice Quality   \n",
       "30732   Airtel        Travelling           4G       2  Poor Voice Quality   \n",
       "30733   Airtel        Travelling           4G       2  Poor Voice Quality   \n",
       "\n",
       "        Latitude  Longitude      State Name  Average Data Speed Download  \\\n",
       "15     16.977043  82.238104  Andhra Pradesh                 32444.069600   \n",
       "33     16.510005  80.666504  Andhra Pradesh                 32444.069600   \n",
       "34     16.521923  80.629653  Andhra Pradesh                 32444.069600   \n",
       "35     16.521923  80.629653  Andhra Pradesh                 32444.069600   \n",
       "36     16.521854  80.630070  Andhra Pradesh                 32444.069600   \n",
       "...          ...        ...             ...                          ...   \n",
       "30660  13.541779  78.513418  Andhra Pradesh                 32444.069600   \n",
       "30730  16.413405  80.297109  Andhra Pradesh                 14077.240000   \n",
       "30731  16.413405  80.297109  Andhra Pradesh                  1504.372816   \n",
       "30732  16.413405  80.297109  Andhra Pradesh                 14077.240000   \n",
       "30733  16.403094  80.295145  Andhra Pradesh                 14077.240000   \n",
       "\n",
       "       Average Signal Strength Download  Average Data Speed Upload  \\\n",
       "15                           -81.241925                5755.952023   \n",
       "33                           -81.241925                5755.952023   \n",
       "34                           -81.241925                5755.952023   \n",
       "35                           -81.241925                5755.952023   \n",
       "36                           -81.241925                5755.952023   \n",
       "...                                 ...                        ...   \n",
       "30660                        -81.241925                5755.952023   \n",
       "30730                        -96.520000                6320.060000   \n",
       "30731                        -83.767490                 785.364486   \n",
       "30732                        -96.520000                6320.060000   \n",
       "30733                        -96.520000                6320.060000   \n",
       "\n",
       "       Average Signal Strength Upload  Population  Literacy Rate  Rainfall  \\\n",
       "15                         -81.279064  84580777.0          10.98    1245.0   \n",
       "33                         -81.279064  84580777.0          10.98    1245.0   \n",
       "34                         -81.279064  84580777.0          10.98    1245.0   \n",
       "35                         -81.279064  84580777.0          10.98    1245.0   \n",
       "36                         -81.279064  84580777.0          10.98    1245.0   \n",
       "...                               ...         ...            ...       ...   \n",
       "30660                      -81.279064  84580777.0          10.98    1245.0   \n",
       "30730                      -96.470000  84580777.0          10.98    1245.0   \n",
       "30731                      -83.677932  84580777.0          10.98    1245.0   \n",
       "30732                      -96.470000  84580777.0          10.98    1245.0   \n",
       "30733                      -96.470000  84580777.0          10.98    1245.0   \n",
       "\n",
       "       Area of the state  \n",
       "15              160205.0  \n",
       "33              160205.0  \n",
       "34              160205.0  \n",
       "35              160205.0  \n",
       "36              160205.0  \n",
       "...                  ...  \n",
       "30660           160205.0  \n",
       "30730           160205.0  \n",
       "30731           160205.0  \n",
       "30732           160205.0  \n",
       "30733           160205.0  \n",
       "\n",
       "[869 rows x 16 columns]"
      ]
     },
     "execution_count": 37,
     "metadata": {},
     "output_type": "execute_result"
    }
   ],
   "source": [
    "data[data['Literacy Rate'] < min_thres]"
   ]
  },
  {
   "cell_type": "code",
   "execution_count": 38,
   "metadata": {},
   "outputs": [
    {
     "name": "stderr",
     "output_type": "stream",
     "text": [
      "c:\\python38\\lib\\site-packages\\seaborn\\_decorators.py:36: FutureWarning: Pass the following variable as a keyword arg: x. From version 0.12, the only valid positional argument will be `data`, and passing other arguments without an explicit keyword will result in an error or misinterpretation.\n",
      "  warnings.warn(\n"
     ]
    },
    {
     "data": {
      "text/plain": [
       "<AxesSubplot:xlabel='Rainfall'>"
      ]
     },
     "execution_count": 38,
     "metadata": {},
     "output_type": "execute_result"
    },
    {
     "data": {
      "image/png": "[encoded data removed]",
      "text/plain": [
       "<Figure size 432x288 with 1 Axes>"
      ]
     },
     "metadata": {
      "needs_background": "light"
     },
     "output_type": "display_data"
    }
   ],
   "source": [
    "sns.boxplot(data['Rainfall'])"
   ]
  },
  {
   "cell_type": "code",
   "execution_count": 39,
   "metadata": {},
   "outputs": [
    {
     "data": {
      "image/png": "[encoded data removed]",
      "text/plain": [
       "<Figure size 432x288 with 1 Axes>"
      ]
     },
     "metadata": {
      "needs_background": "light"
     },
     "output_type": "display_data"
    }
   ],
   "source": [
    "plt.hist(data['Rainfall'])\n",
    "plt.show()"
   ]
  },
  {
   "cell_type": "code",
   "execution_count": 40,
   "metadata": {},
   "outputs": [
    {
     "data": {
      "text/plain": [
       "2089.0"
      ]
     },
     "execution_count": 40,
     "metadata": {},
     "output_type": "execute_result"
    }
   ],
   "source": [
    "data['Rainfall'].quantile(0.95)"
   ]
  },
  {
   "cell_type": "code",
   "execution_count": 41,
   "metadata": {},
   "outputs": [
    {
     "data": {
      "text/plain": [
       "3055.0"
      ]
     },
     "execution_count": 41,
     "metadata": {},
     "output_type": "execute_result"
    }
   ],
   "source": [
    "data['Rainfall'].max()"
   ]
  },
  {
   "cell_type": "code",
   "execution_count": 42,
   "metadata": {},
   "outputs": [
    {
     "data": {
      "text/html": [
       "<div>\n",
       "<style scoped>\n",
       "    .dataframe tbody tr th:only-of-type {\n",
       "        vertical-align: middle;\n",
       "    }\n",
       "\n",
       "    .dataframe tbody tr th {\n",
       "        vertical-align: top;\n",
       "    }\n",
       "\n",
       "    .dataframe thead th {\n",
       "        text-align: right;\n",
       "    }\n",
       "</style>\n",
       "<table border=\"1\" class=\"dataframe\">\n",
       "  <thead>\n",
       "    <tr style=\"text-align: right;\">\n",
       "      <th></th>\n",
       "      <th>Operator</th>\n",
       "      <th>In Out Travelling</th>\n",
       "      <th>Network Type</th>\n",
       "      <th>Rating</th>\n",
       "      <th>Call Drop Category</th>\n",
       "      <th>Latitude</th>\n",
       "      <th>Longitude</th>\n",
       "      <th>State Name</th>\n",
       "      <th>Average Data Speed Download</th>\n",
       "      <th>Average Signal Strength Download</th>\n",
       "      <th>Average Data Speed Upload</th>\n",
       "      <th>Average Signal Strength Upload</th>\n",
       "      <th>Population</th>\n",
       "      <th>Literacy Rate</th>\n",
       "      <th>Rainfall</th>\n",
       "      <th>Area of the state</th>\n",
       "    </tr>\n",
       "  </thead>\n",
       "  <tbody>\n",
       "    <tr>\n",
       "      <th>256</th>\n",
       "      <td>BSNL</td>\n",
       "      <td>Indoor</td>\n",
       "      <td>3G</td>\n",
       "      <td>2</td>\n",
       "      <td>Poor Voice Quality</td>\n",
       "      <td>12.046909</td>\n",
       "      <td>75.524134</td>\n",
       "      <td>Kerala</td>\n",
       "      <td>2283.370000</td>\n",
       "      <td>-86.330000</td>\n",
       "      <td>1120.4200</td>\n",
       "      <td>-86.490000</td>\n",
       "      <td>33387677.0</td>\n",
       "      <td>94.00</td>\n",
       "      <td>3055.0</td>\n",
       "      <td>38863.0</td>\n",
       "    </tr>\n",
       "    <tr>\n",
       "      <th>257</th>\n",
       "      <td>BSNL</td>\n",
       "      <td>Indoor</td>\n",
       "      <td>3G</td>\n",
       "      <td>2</td>\n",
       "      <td>Poor Voice Quality</td>\n",
       "      <td>12.046909</td>\n",
       "      <td>75.524134</td>\n",
       "      <td>Kerala</td>\n",
       "      <td>2283.370000</td>\n",
       "      <td>-86.330000</td>\n",
       "      <td>1120.4200</td>\n",
       "      <td>-86.490000</td>\n",
       "      <td>33387677.0</td>\n",
       "      <td>94.00</td>\n",
       "      <td>3055.0</td>\n",
       "      <td>38863.0</td>\n",
       "    </tr>\n",
       "    <tr>\n",
       "      <th>1110</th>\n",
       "      <td>BSNL</td>\n",
       "      <td>Indoor</td>\n",
       "      <td>3G</td>\n",
       "      <td>2</td>\n",
       "      <td>Poor Voice Quality</td>\n",
       "      <td>12.047074</td>\n",
       "      <td>75.523883</td>\n",
       "      <td>Kerala</td>\n",
       "      <td>2283.370000</td>\n",
       "      <td>-86.330000</td>\n",
       "      <td>1120.4200</td>\n",
       "      <td>-86.490000</td>\n",
       "      <td>33387677.0</td>\n",
       "      <td>94.00</td>\n",
       "      <td>3055.0</td>\n",
       "      <td>38863.0</td>\n",
       "    </tr>\n",
       "    <tr>\n",
       "      <th>1111</th>\n",
       "      <td>BSNL</td>\n",
       "      <td>Outdoor</td>\n",
       "      <td>3G</td>\n",
       "      <td>2</td>\n",
       "      <td>Poor Voice Quality</td>\n",
       "      <td>12.047074</td>\n",
       "      <td>75.523883</td>\n",
       "      <td>Kerala</td>\n",
       "      <td>2283.370000</td>\n",
       "      <td>-86.330000</td>\n",
       "      <td>1120.4200</td>\n",
       "      <td>-86.490000</td>\n",
       "      <td>33387677.0</td>\n",
       "      <td>94.00</td>\n",
       "      <td>3055.0</td>\n",
       "      <td>38863.0</td>\n",
       "    </tr>\n",
       "    <tr>\n",
       "      <th>1660</th>\n",
       "      <td>BSNL</td>\n",
       "      <td>Outdoor</td>\n",
       "      <td>3G</td>\n",
       "      <td>5</td>\n",
       "      <td>Satisfactory</td>\n",
       "      <td>9.226201</td>\n",
       "      <td>76.713040</td>\n",
       "      <td>Kerala</td>\n",
       "      <td>2283.370000</td>\n",
       "      <td>-86.330000</td>\n",
       "      <td>1120.4200</td>\n",
       "      <td>-86.490000</td>\n",
       "      <td>33387677.0</td>\n",
       "      <td>94.00</td>\n",
       "      <td>3055.0</td>\n",
       "      <td>38863.0</td>\n",
       "    </tr>\n",
       "    <tr>\n",
       "      <th>...</th>\n",
       "      <td>...</td>\n",
       "      <td>...</td>\n",
       "      <td>...</td>\n",
       "      <td>...</td>\n",
       "      <td>...</td>\n",
       "      <td>...</td>\n",
       "      <td>...</td>\n",
       "      <td>...</td>\n",
       "      <td>...</td>\n",
       "      <td>...</td>\n",
       "      <td>...</td>\n",
       "      <td>...</td>\n",
       "      <td>...</td>\n",
       "      <td>...</td>\n",
       "      <td>...</td>\n",
       "      <td>...</td>\n",
       "    </tr>\n",
       "    <tr>\n",
       "      <th>29031</th>\n",
       "      <td>RJio</td>\n",
       "      <td>Indoor</td>\n",
       "      <td>4G</td>\n",
       "      <td>1</td>\n",
       "      <td>Call Dropped</td>\n",
       "      <td>26.118807</td>\n",
       "      <td>91.808719</td>\n",
       "      <td>Assam</td>\n",
       "      <td>5653.491841</td>\n",
       "      <td>-96.206349</td>\n",
       "      <td>2864.4733</td>\n",
       "      <td>-96.233158</td>\n",
       "      <td>31205576.0</td>\n",
       "      <td>17.07</td>\n",
       "      <td>2818.0</td>\n",
       "      <td>78438.0</td>\n",
       "    </tr>\n",
       "    <tr>\n",
       "      <th>29799</th>\n",
       "      <td>BSNL</td>\n",
       "      <td>Indoor</td>\n",
       "      <td>3G</td>\n",
       "      <td>2</td>\n",
       "      <td>Poor Voice Quality</td>\n",
       "      <td>12.050190</td>\n",
       "      <td>75.523829</td>\n",
       "      <td>Kerala</td>\n",
       "      <td>2283.370000</td>\n",
       "      <td>-86.330000</td>\n",
       "      <td>1120.4200</td>\n",
       "      <td>-86.490000</td>\n",
       "      <td>33387677.0</td>\n",
       "      <td>94.00</td>\n",
       "      <td>3055.0</td>\n",
       "      <td>38863.0</td>\n",
       "    </tr>\n",
       "    <tr>\n",
       "      <th>29843</th>\n",
       "      <td>RJio</td>\n",
       "      <td>Indoor</td>\n",
       "      <td>4G</td>\n",
       "      <td>3</td>\n",
       "      <td>Poor Voice Quality</td>\n",
       "      <td>24.807109</td>\n",
       "      <td>92.612779</td>\n",
       "      <td>Assam</td>\n",
       "      <td>5653.491841</td>\n",
       "      <td>-96.206349</td>\n",
       "      <td>2864.4733</td>\n",
       "      <td>-96.233158</td>\n",
       "      <td>31205576.0</td>\n",
       "      <td>17.07</td>\n",
       "      <td>2818.0</td>\n",
       "      <td>78438.0</td>\n",
       "    </tr>\n",
       "    <tr>\n",
       "      <th>29844</th>\n",
       "      <td>RJio</td>\n",
       "      <td>Indoor</td>\n",
       "      <td>4G</td>\n",
       "      <td>3</td>\n",
       "      <td>Poor Voice Quality</td>\n",
       "      <td>24.807109</td>\n",
       "      <td>92.612779</td>\n",
       "      <td>Assam</td>\n",
       "      <td>5653.491841</td>\n",
       "      <td>-96.206349</td>\n",
       "      <td>2864.4733</td>\n",
       "      <td>-96.233158</td>\n",
       "      <td>31205576.0</td>\n",
       "      <td>17.07</td>\n",
       "      <td>2818.0</td>\n",
       "      <td>78438.0</td>\n",
       "    </tr>\n",
       "    <tr>\n",
       "      <th>30609</th>\n",
       "      <td>RJio</td>\n",
       "      <td>Indoor</td>\n",
       "      <td>4G</td>\n",
       "      <td>1</td>\n",
       "      <td>Poor Voice Quality</td>\n",
       "      <td>27.121926</td>\n",
       "      <td>93.894013</td>\n",
       "      <td>Assam</td>\n",
       "      <td>5653.491841</td>\n",
       "      <td>-96.206349</td>\n",
       "      <td>2864.4733</td>\n",
       "      <td>-96.233158</td>\n",
       "      <td>31205576.0</td>\n",
       "      <td>17.07</td>\n",
       "      <td>2818.0</td>\n",
       "      <td>78438.0</td>\n",
       "    </tr>\n",
       "  </tbody>\n",
       "</table>\n",
       "<p>157 rows × 16 columns</p>\n",
       "</div>"
      ],
      "text/plain": [
       "      Operator In Out Travelling Network Type  Rating  Call Drop Category  \\\n",
       "256       BSNL            Indoor           3G       2  Poor Voice Quality   \n",
       "257       BSNL            Indoor           3G       2  Poor Voice Quality   \n",
       "1110      BSNL            Indoor           3G       2  Poor Voice Quality   \n",
       "1111      BSNL           Outdoor           3G       2  Poor Voice Quality   \n",
       "1660      BSNL           Outdoor           3G       5        Satisfactory   \n",
       "...        ...               ...          ...     ...                 ...   \n",
       "29031     RJio            Indoor           4G       1        Call Dropped   \n",
       "29799     BSNL            Indoor           3G       2  Poor Voice Quality   \n",
       "29843     RJio            Indoor           4G       3  Poor Voice Quality   \n",
       "29844     RJio            Indoor           4G       3  Poor Voice Quality   \n",
       "30609     RJio            Indoor           4G       1  Poor Voice Quality   \n",
       "\n",
       "        Latitude  Longitude State Name  Average Data Speed Download  \\\n",
       "256    12.046909  75.524134     Kerala                  2283.370000   \n",
       "257    12.046909  75.524134     Kerala                  2283.370000   \n",
       "1110   12.047074  75.523883     Kerala                  2283.370000   \n",
       "1111   12.047074  75.523883     Kerala                  2283.370000   \n",
       "1660    9.226201  76.713040     Kerala                  2283.370000   \n",
       "...          ...        ...        ...                          ...   \n",
       "29031  26.118807  91.808719      Assam                  5653.491841   \n",
       "29799  12.050190  75.523829     Kerala                  2283.370000   \n",
       "29843  24.807109  92.612779      Assam                  5653.491841   \n",
       "29844  24.807109  92.612779      Assam                  5653.491841   \n",
       "30609  27.121926  93.894013      Assam                  5653.491841   \n",
       "\n",
       "       Average Signal Strength Download  Average Data Speed Upload  \\\n",
       "256                          -86.330000                  1120.4200   \n",
       "257                          -86.330000                  1120.4200   \n",
       "1110                         -86.330000                  1120.4200   \n",
       "1111                         -86.330000                  1120.4200   \n",
       "1660                         -86.330000                  1120.4200   \n",
       "...                                 ...                        ...   \n",
       "29031                        -96.206349                  2864.4733   \n",
       "29799                        -86.330000                  1120.4200   \n",
       "29843                        -96.206349                  2864.4733   \n",
       "29844                        -96.206349                  2864.4733   \n",
       "30609                        -96.206349                  2864.4733   \n",
       "\n",
       "       Average Signal Strength Upload  Population  Literacy Rate  Rainfall  \\\n",
       "256                        -86.490000  33387677.0          94.00    3055.0   \n",
       "257                        -86.490000  33387677.0          94.00    3055.0   \n",
       "1110                       -86.490000  33387677.0          94.00    3055.0   \n",
       "1111                       -86.490000  33387677.0          94.00    3055.0   \n",
       "1660                       -86.490000  33387677.0          94.00    3055.0   \n",
       "...                               ...         ...            ...       ...   \n",
       "29031                      -96.233158  31205576.0          17.07    2818.0   \n",
       "29799                      -86.490000  33387677.0          94.00    3055.0   \n",
       "29843                      -96.233158  31205576.0          17.07    2818.0   \n",
       "29844                      -96.233158  31205576.0          17.07    2818.0   \n",
       "30609                      -96.233158  31205576.0          17.07    2818.0   \n",
       "\n",
       "       Area of the state  \n",
       "256              38863.0  \n",
       "257              38863.0  \n",
       "1110             38863.0  \n",
       "1111             38863.0  \n",
       "1660             38863.0  \n",
       "...                  ...  \n",
       "29031            78438.0  \n",
       "29799            38863.0  \n",
       "29843            78438.0  \n",
       "29844            78438.0  \n",
       "30609            78438.0  \n",
       "\n",
       "[157 rows x 16 columns]"
      ]
     },
     "execution_count": 42,
     "metadata": {},
     "output_type": "execute_result"
    }
   ],
   "source": [
    "data[data['Rainfall'] > data['Rainfall'].quantile(0.95)]"
   ]
  },
  {
   "cell_type": "code",
   "execution_count": 43,
   "metadata": {},
   "outputs": [
    {
     "data": {
      "text/plain": [
       "(30597, 16)"
      ]
     },
     "execution_count": 43,
     "metadata": {},
     "output_type": "execute_result"
    }
   ],
   "source": [
    "index2 = data[data['Rainfall'] > data['Rainfall'].quantile(0.95)].index\n",
    "data.drop(index2, axis = 0, inplace = True)\n",
    "data.shape"
   ]
  },
  {
   "cell_type": "code",
   "execution_count": 44,
   "metadata": {
    "scrolled": true
   },
   "outputs": [
    {
     "name": "stderr",
     "output_type": "stream",
     "text": [
      "c:\\python38\\lib\\site-packages\\seaborn\\_decorators.py:36: FutureWarning: Pass the following variable as a keyword arg: x. From version 0.12, the only valid positional argument will be `data`, and passing other arguments without an explicit keyword will result in an error or misinterpretation.\n",
      "  warnings.warn(\n"
     ]
    },
    {
     "data": {
      "text/plain": [
       "<AxesSubplot:xlabel='Rainfall'>"
      ]
     },
     "execution_count": 44,
     "metadata": {},
     "output_type": "execute_result"
    },
    {
     "data": {
      "image/png": "[encoded data removed]",
      "text/plain": [
       "<Figure size 432x288 with 1 Axes>"
      ]
     },
     "metadata": {
      "needs_background": "light"
     },
     "output_type": "display_data"
    }
   ],
   "source": [
    "sns.boxplot(data['Rainfall'])"
   ]
  },
  {
   "cell_type": "code",
   "execution_count": 45,
   "metadata": {
    "scrolled": true
   },
   "outputs": [
    {
     "name": "stderr",
     "output_type": "stream",
     "text": [
      "c:\\python38\\lib\\site-packages\\seaborn\\_decorators.py:36: FutureWarning: Pass the following variable as a keyword arg: x. From version 0.12, the only valid positional argument will be `data`, and passing other arguments without an explicit keyword will result in an error or misinterpretation.\n",
      "  warnings.warn(\n"
     ]
    },
    {
     "data": {
      "text/plain": [
       "<AxesSubplot:xlabel='Area of the state'>"
      ]
     },
     "execution_count": 45,
     "metadata": {},
     "output_type": "execute_result"
    },
    {
     "data": {
      "image/png": "[encoded data removed]",
      "text/plain": [
       "<Figure size 432x288 with 1 Axes>"
      ]
     },
     "metadata": {
      "needs_background": "light"
     },
     "output_type": "display_data"
    }
   ],
   "source": [
    "sns.boxplot(data['Area of the state'])"
   ]
  },
  {
   "cell_type": "markdown",
   "metadata": {},
   "source": [
    "### Label encoding for categorical features "
   ]
  },
  {
   "cell_type": "code",
   "execution_count": 46,
   "metadata": {},
   "outputs": [
    {
     "data": {
      "text/html": [
       "<div>\n",
       "<style scoped>\n",
       "    .dataframe tbody tr th:only-of-type {\n",
       "        vertical-align: middle;\n",
       "    }\n",
       "\n",
       "    .dataframe tbody tr th {\n",
       "        vertical-align: top;\n",
       "    }\n",
       "\n",
       "    .dataframe thead th {\n",
       "        text-align: right;\n",
       "    }\n",
       "</style>\n",
       "<table border=\"1\" class=\"dataframe\">\n",
       "  <thead>\n",
       "    <tr style=\"text-align: right;\">\n",
       "      <th></th>\n",
       "      <th>Operator</th>\n",
       "      <th>In Out Travelling</th>\n",
       "      <th>Network Type</th>\n",
       "      <th>Rating</th>\n",
       "      <th>Call Drop Category</th>\n",
       "      <th>Latitude</th>\n",
       "      <th>Longitude</th>\n",
       "      <th>State Name</th>\n",
       "      <th>Average Data Speed Download</th>\n",
       "      <th>Average Signal Strength Download</th>\n",
       "      <th>Average Data Speed Upload</th>\n",
       "      <th>Average Signal Strength Upload</th>\n",
       "      <th>Population</th>\n",
       "      <th>Literacy Rate</th>\n",
       "      <th>Rainfall</th>\n",
       "      <th>Area of the state</th>\n",
       "    </tr>\n",
       "  </thead>\n",
       "  <tbody>\n",
       "    <tr>\n",
       "      <th>0</th>\n",
       "      <td>Airtel</td>\n",
       "      <td>Indoor</td>\n",
       "      <td>4G</td>\n",
       "      <td>3</td>\n",
       "      <td>Satisfactory</td>\n",
       "      <td>12.998502</td>\n",
       "      <td>77.672437</td>\n",
       "      <td>Karnataka</td>\n",
       "      <td>8807.910</td>\n",
       "      <td>-94.86</td>\n",
       "      <td>2591.08</td>\n",
       "      <td>-94.840</td>\n",
       "      <td>61130704.0</td>\n",
       "      <td>75.36</td>\n",
       "      <td>1248.0</td>\n",
       "      <td>191791.0</td>\n",
       "    </tr>\n",
       "    <tr>\n",
       "      <th>1</th>\n",
       "      <td>Vodafone</td>\n",
       "      <td>Indoor</td>\n",
       "      <td>4G</td>\n",
       "      <td>1</td>\n",
       "      <td>Call Dropped</td>\n",
       "      <td>23.554190</td>\n",
       "      <td>72.620110</td>\n",
       "      <td>Gujarat</td>\n",
       "      <td>6862.552</td>\n",
       "      <td>-91.96</td>\n",
       "      <td>4671.48</td>\n",
       "      <td>-91.920</td>\n",
       "      <td>60439692.0</td>\n",
       "      <td>78.03</td>\n",
       "      <td>842.5</td>\n",
       "      <td>196024.0</td>\n",
       "    </tr>\n",
       "    <tr>\n",
       "      <th>2</th>\n",
       "      <td>Airtel</td>\n",
       "      <td>Indoor</td>\n",
       "      <td>3G</td>\n",
       "      <td>1</td>\n",
       "      <td>Call Dropped</td>\n",
       "      <td>11.327329</td>\n",
       "      <td>76.749743</td>\n",
       "      <td>Tamil Nadu</td>\n",
       "      <td>1178.410</td>\n",
       "      <td>-85.03</td>\n",
       "      <td>968.58</td>\n",
       "      <td>-85.470</td>\n",
       "      <td>72147030.0</td>\n",
       "      <td>80.33</td>\n",
       "      <td>998.0</td>\n",
       "      <td>130060.0</td>\n",
       "    </tr>\n",
       "    <tr>\n",
       "      <th>3</th>\n",
       "      <td>Airtel</td>\n",
       "      <td>Indoor</td>\n",
       "      <td>4G</td>\n",
       "      <td>3</td>\n",
       "      <td>Satisfactory</td>\n",
       "      <td>22.279660</td>\n",
       "      <td>73.149369</td>\n",
       "      <td>Gujarat</td>\n",
       "      <td>5694.480</td>\n",
       "      <td>-89.39</td>\n",
       "      <td>2515.34</td>\n",
       "      <td>-89.515</td>\n",
       "      <td>60439692.0</td>\n",
       "      <td>78.03</td>\n",
       "      <td>842.5</td>\n",
       "      <td>196024.0</td>\n",
       "    </tr>\n",
       "    <tr>\n",
       "      <th>4</th>\n",
       "      <td>Airtel</td>\n",
       "      <td>Travelling</td>\n",
       "      <td>4G</td>\n",
       "      <td>3</td>\n",
       "      <td>Satisfactory</td>\n",
       "      <td>18.546344</td>\n",
       "      <td>73.819090</td>\n",
       "      <td>Maharashtra</td>\n",
       "      <td>10804.560</td>\n",
       "      <td>-94.05</td>\n",
       "      <td>4968.27</td>\n",
       "      <td>-94.110</td>\n",
       "      <td>112374333.0</td>\n",
       "      <td>82.34</td>\n",
       "      <td>1455.5</td>\n",
       "      <td>307713.0</td>\n",
       "    </tr>\n",
       "  </tbody>\n",
       "</table>\n",
       "</div>"
      ],
      "text/plain": [
       "   Operator In Out Travelling Network Type  Rating Call Drop Category  \\\n",
       "0    Airtel            Indoor           4G       3       Satisfactory   \n",
       "1  Vodafone            Indoor           4G       1       Call Dropped   \n",
       "2    Airtel            Indoor           3G       1       Call Dropped   \n",
       "3    Airtel            Indoor           4G       3       Satisfactory   \n",
       "4    Airtel        Travelling           4G       3       Satisfactory   \n",
       "\n",
       "    Latitude  Longitude   State Name  Average Data Speed Download  \\\n",
       "0  12.998502  77.672437    Karnataka                     8807.910   \n",
       "1  23.554190  72.620110      Gujarat                     6862.552   \n",
       "2  11.327329  76.749743   Tamil Nadu                     1178.410   \n",
       "3  22.279660  73.149369      Gujarat                     5694.480   \n",
       "4  18.546344  73.819090  Maharashtra                    10804.560   \n",
       "\n",
       "   Average Signal Strength Download  Average Data Speed Upload  \\\n",
       "0                            -94.86                    2591.08   \n",
       "1                            -91.96                    4671.48   \n",
       "2                            -85.03                     968.58   \n",
       "3                            -89.39                    2515.34   \n",
       "4                            -94.05                    4968.27   \n",
       "\n",
       "   Average Signal Strength Upload   Population  Literacy Rate  Rainfall  \\\n",
       "0                         -94.840   61130704.0          75.36    1248.0   \n",
       "1                         -91.920   60439692.0          78.03     842.5   \n",
       "2                         -85.470   72147030.0          80.33     998.0   \n",
       "3                         -89.515   60439692.0          78.03     842.5   \n",
       "4                         -94.110  112374333.0          82.34    1455.5   \n",
       "\n",
       "   Area of the state  \n",
       "0           191791.0  \n",
       "1           196024.0  \n",
       "2           130060.0  \n",
       "3           196024.0  \n",
       "4           307713.0  "
      ]
     },
     "execution_count": 46,
     "metadata": {},
     "output_type": "execute_result"
    }
   ],
   "source": [
    "data.head()"
   ]
  },
  {
   "cell_type": "code",
   "execution_count": 47,
   "metadata": {},
   "outputs": [
    {
     "name": "stdout",
     "output_type": "stream",
     "text": [
      "['Airtel' 'Vodafone' 'RJio' 'BSNL' 'Idea']\n",
      "['Indoor' 'Travelling' 'Outdoor']\n",
      "['4G' '3G']\n",
      "['Satisfactory' 'Call Dropped' 'Poor Voice Quality']\n"
     ]
    }
   ],
   "source": [
    "print(data['Operator'].unique())\n",
    "print(data['In Out Travelling'].unique())\n",
    "print(data['Network Type'].unique())\n",
    "print(data['Call Drop Category'].unique())"
   ]
  },
  {
   "cell_type": "code",
   "execution_count": 48,
   "metadata": {},
   "outputs": [],
   "source": [
    "from sklearn.preprocessing import LabelEncoder\n",
    "labelencoder = LabelEncoder()\n",
    "\n",
    "# Encoding the columns\n",
    "data.iloc[:,0] = labelencoder.fit_transform(data.iloc[:,0].values)\n",
    "\n",
    "data.iloc[:,1] = labelencoder.fit_transform(data.iloc[:,1].values)\n",
    "\n",
    "data.iloc[:,2] = labelencoder.fit_transform(data.iloc[:,2].values)\n",
    "\n",
    "data.iloc[:,4] = labelencoder.fit_transform(data.iloc[:,4].values)"
   ]
  },
  {
   "cell_type": "code",
   "execution_count": 49,
   "metadata": {},
   "outputs": [
    {
     "name": "stdout",
     "output_type": "stream",
     "text": [
      "[0 4 3 1 2]\n",
      "[0 2 1]\n",
      "[1 0]\n",
      "[2 0 1]\n"
     ]
    }
   ],
   "source": [
    "print(data['Operator'].unique())\n",
    "print(data['In Out Travelling'].unique())\n",
    "print(data['Network Type'].unique())\n",
    "print(data['Call Drop Category'].unique())"
   ]
  },
  {
   "cell_type": "code",
   "execution_count": 118,
   "metadata": {},
   "outputs": [
    {
     "ename": "AttributeError",
     "evalue": "'MinMaxScaler' object has no attribute 'drop'",
     "output_type": "error",
     "traceback": [
      "\u001b[1;31m---------------------------------------------------------------------------\u001b[0m",
      "\u001b[1;31mAttributeError\u001b[0m                            Traceback (most recent call last)",
      "\u001b[1;32m<ipython-input-118-57251e88460d>\u001b[0m in \u001b[0;36m<module>\u001b[1;34m\u001b[0m\n\u001b[1;32m----> 1\u001b[1;33m \u001b[0mdata1\u001b[0m \u001b[1;33m=\u001b[0m \u001b[0mdata\u001b[0m\u001b[1;33m.\u001b[0m\u001b[0mdrop\u001b[0m\u001b[1;33m(\u001b[0m\u001b[1;34m'State Name'\u001b[0m\u001b[1;33m,\u001b[0m \u001b[0maxis\u001b[0m \u001b[1;33m=\u001b[0m \u001b[1;36m1\u001b[0m\u001b[1;33m)\u001b[0m\u001b[1;33m\u001b[0m\u001b[1;33m\u001b[0m\u001b[0m\n\u001b[0m\u001b[0;32m      2\u001b[0m \u001b[0mdata1\u001b[0m\u001b[1;33m.\u001b[0m\u001b[0mhead\u001b[0m\u001b[1;33m(\u001b[0m\u001b[1;33m)\u001b[0m\u001b[1;33m\u001b[0m\u001b[1;33m\u001b[0m\u001b[0m\n",
      "\u001b[1;31mAttributeError\u001b[0m: 'MinMaxScaler' object has no attribute 'drop'"
     ]
    }
   ],
   "source": [
    "data1 = data.drop('State Name', axis = 1)\n",
    "data1.head()"
   ]
  },
  {
   "cell_type": "markdown",
   "metadata": {},
   "source": [
    "### Correlation matrix "
   ]
  },
  {
   "cell_type": "code",
   "execution_count": 51,
   "metadata": {},
   "outputs": [
    {
     "data": {
      "text/plain": [
       "<AxesSubplot:>"
      ]
     },
     "execution_count": 51,
     "metadata": {},
     "output_type": "execute_result"
    },
    {
     "data": {
      "image/png": "[encoded data removed]",
      "text/plain": [
       "<Figure size 864x864 with 2 Axes>"
      ]
     },
     "metadata": {
      "needs_background": "light"
     },
     "output_type": "display_data"
    }
   ],
   "source": [
    "plt.figure(figsize = (12,12))\n",
    "sns.heatmap(data1.corr(), annot = True, cmap=\"coolwarm\")"
   ]
  },
  {
   "cell_type": "markdown",
   "metadata": {},
   "source": [
    "## Regression model to predict Avg data speed download "
   ]
  },
  {
   "cell_type": "code",
   "execution_count": 52,
   "metadata": {},
   "outputs": [],
   "source": [
    "X = data1.drop('Average Data Speed Download', axis = 1)\n",
    "y = data1['Average Data Speed Download']"
   ]
  },
  {
   "cell_type": "code",
   "execution_count": 53,
   "metadata": {},
   "outputs": [],
   "source": [
    "# Split the dataset for training (80%) and testing(20%)\n",
    "from sklearn.model_selection import train_test_split\n",
    "X_train,X_test, y_train,y_test = train_test_split(X,y, test_size = 0.2, random_state = 0)"
   ]
  },
  {
   "cell_type": "code",
   "execution_count": 54,
   "metadata": {},
   "outputs": [],
   "source": [
    "# Scale the data\n",
    "from sklearn.preprocessing import StandardScaler\n",
    "sc = StandardScaler()\n",
    "X_train = sc.fit_transform(X_train)\n",
    "X_test = sc.fit_transform(X_test)"
   ]
  },
  {
   "cell_type": "code",
   "execution_count": 55,
   "metadata": {},
   "outputs": [],
   "source": [
    "# Create a function with many machine learning models\n",
    "def models(X_train, y_train):\n",
    "    \n",
    "    # Use linear Regression\n",
    "    from sklearn.linear_model import LinearRegression\n",
    "    lin = LinearRegression()\n",
    "    lin.fit(X_train, y_train)\n",
    "    \n",
    "    # Use linear Lasso Regression\n",
    "    from sklearn.linear_model import Lasso\n",
    "    lasso = Lasso()\n",
    "    lasso.fit(X_train, y_train)    \n",
    "    \n",
    "    # Use SVR (linear kernel)\n",
    "    from sklearn.svm import SVR\n",
    "    svr_lin = SVR(kernel = 'linear')\n",
    "    svr_lin.fit(X_train, y_train)\n",
    "    \n",
    "    # Use SVR (RBF kernel)\n",
    "    from sklearn.svm import SVR\n",
    "    svr_rbf = SVR(kernel = 'rbf')\n",
    "    svr_rbf.fit(X_train, y_train)\n",
    "        \n",
    "    # Use Decision Tree\n",
    "    from sklearn.tree import DecisionTreeRegressor\n",
    "    tree = DecisionTreeRegressor()\n",
    "    tree.fit(X_train, y_train)\n",
    "    \n",
    "    # Use the Random Forest Regressor\n",
    "    from sklearn.ensemble import RandomForestRegressor\n",
    "    forest = RandomForestRegressor(n_estimators = 100, criterion='mse')\n",
    "    forest.fit(X_train, y_train)\n",
    "    \n",
    "    # Print the training accuracy for each model\n",
    "    print(\"[0]Linear Regression Training Accuracy: \", lin.score(X_train, y_train))\n",
    "    print(\"[1]Lasso Regression Training Accuracy: \", lasso.score(X_train, y_train))\n",
    "    print(\"[2]SVR linear Training Accuracy: \", svr_lin.score(X_train, y_train))\n",
    "    print(\"[3]SVR RBF Training Accuracy: \", svr_rbf.score(X_train, y_train))\n",
    "    print(\"[4]Decision Tree Training Accuracy: \", tree.score(X_train, y_train))\n",
    "    print(\"[5]Random Forest Training Accuracy: \", forest.score(X_train, y_train))\n",
    "\n",
    "    return lin, lasso, svr_lin, svr_rbf, tree, forest"
   ]
  },
  {
   "cell_type": "code",
   "execution_count": 56,
   "metadata": {},
   "outputs": [
    {
     "name": "stdout",
     "output_type": "stream",
     "text": [
      "[0]Linear Regression Training Accuracy:  0.8679101245283342\n",
      "[1]Lasso Regression Training Accuracy:  0.8679098490153219\n",
      "[2]SVR linear Training Accuracy:  0.8413111556210463\n",
      "[3]SVR RBF Training Accuracy:  0.1080226635121948\n",
      "[4]Decision Tree Training Accuracy:  1.0\n",
      "[5]Random Forest Training Accuracy:  0.9999976275336584\n"
     ]
    }
   ],
   "source": [
    "# Get and train all of the models\n",
    "model = models(X_train, y_train)"
   ]
  },
  {
   "cell_type": "code",
   "execution_count": 58,
   "metadata": {},
   "outputs": [
    {
     "name": "stdout",
     "output_type": "stream",
     "text": [
      " Model[0] MSE:   3505.5720101273187\n",
      " Model[0] R2 Value:   0.8701345823275982\n",
      "\n",
      "\n",
      " Model[1] MSE:   3505.651690416859\n",
      " Model[1] R2 Value:   0.870128678679548\n",
      "\n",
      "\n",
      " Model[2] MSE:   3859.819238997013\n",
      " Model[2] R2 Value:   0.8425619636650576\n",
      "\n",
      "\n",
      " Model[3] MSE:   9206.06702372279\n",
      " Model[3] R2 Value:   0.10437956088401534\n",
      "\n",
      "\n",
      " Model[4] MSE:   430.4194024325818\n",
      " Model[4] R2 Value:   0.9980422401767631\n",
      "\n",
      "\n",
      " Model[5] MSE:   454.3074325243809\n",
      " Model[5] R2 Value:   0.9978189008158839\n",
      "\n",
      "\n"
     ]
    }
   ],
   "source": [
    "# print the prediction\n",
    "from sklearn.metrics import mean_squared_error\n",
    "from sklearn.metrics import r2_score\n",
    "\n",
    "for i in range(6):\n",
    "    y_pred = model[i].predict(X_test)\n",
    "    print(\" Model\" + str([i])+\" MSE:  \"  , mean_squared_error(y_test, y_pred, squared=False))\n",
    "    print(\" Model\" + str([i])+\" R2 Value:  \", r2_score(y_test, y_pred) )\n",
    "    print(\"\\n\")"
   ]
  },
  {
   "cell_type": "markdown",
   "metadata": {},
   "source": [
    "### Feature Importances and feature selection"
   ]
  },
  {
   "cell_type": "code",
   "execution_count": 61,
   "metadata": {},
   "outputs": [
    {
     "data": {
      "text/html": [
       "<div>\n",
       "<style scoped>\n",
       "    .dataframe tbody tr th:only-of-type {\n",
       "        vertical-align: middle;\n",
       "    }\n",
       "\n",
       "    .dataframe tbody tr th {\n",
       "        vertical-align: top;\n",
       "    }\n",
       "\n",
       "    .dataframe thead th {\n",
       "        text-align: right;\n",
       "    }\n",
       "</style>\n",
       "<table border=\"1\" class=\"dataframe\">\n",
       "  <thead>\n",
       "    <tr style=\"text-align: right;\">\n",
       "      <th></th>\n",
       "      <th>importance</th>\n",
       "    </tr>\n",
       "    <tr>\n",
       "      <th>Feature</th>\n",
       "      <th></th>\n",
       "    </tr>\n",
       "  </thead>\n",
       "  <tbody>\n",
       "    <tr>\n",
       "      <th>Average Data Speed Upload</th>\n",
       "      <td>0.653</td>\n",
       "    </tr>\n",
       "    <tr>\n",
       "      <th>Average Signal Strength Upload</th>\n",
       "      <td>0.305</td>\n",
       "    </tr>\n",
       "    <tr>\n",
       "      <th>Network Type</th>\n",
       "      <td>0.017</td>\n",
       "    </tr>\n",
       "    <tr>\n",
       "      <th>Operator</th>\n",
       "      <td>0.010</td>\n",
       "    </tr>\n",
       "    <tr>\n",
       "      <th>Latitude</th>\n",
       "      <td>0.004</td>\n",
       "    </tr>\n",
       "    <tr>\n",
       "      <th>Area of the state</th>\n",
       "      <td>0.004</td>\n",
       "    </tr>\n",
       "    <tr>\n",
       "      <th>Population</th>\n",
       "      <td>0.002</td>\n",
       "    </tr>\n",
       "    <tr>\n",
       "      <th>Rainfall</th>\n",
       "      <td>0.002</td>\n",
       "    </tr>\n",
       "    <tr>\n",
       "      <th>Average Signal Strength Download</th>\n",
       "      <td>0.001</td>\n",
       "    </tr>\n",
       "    <tr>\n",
       "      <th>In Out Travelling</th>\n",
       "      <td>0.000</td>\n",
       "    </tr>\n",
       "    <tr>\n",
       "      <th>Rating</th>\n",
       "      <td>0.000</td>\n",
       "    </tr>\n",
       "    <tr>\n",
       "      <th>Call Drop Category</th>\n",
       "      <td>0.000</td>\n",
       "    </tr>\n",
       "    <tr>\n",
       "      <th>Longitude</th>\n",
       "      <td>0.000</td>\n",
       "    </tr>\n",
       "    <tr>\n",
       "      <th>Literacy Rate</th>\n",
       "      <td>0.000</td>\n",
       "    </tr>\n",
       "  </tbody>\n",
       "</table>\n",
       "</div>"
      ],
      "text/plain": [
       "                                  importance\n",
       "Feature                                     \n",
       "Average Data Speed Upload              0.653\n",
       "Average Signal Strength Upload         0.305\n",
       "Network Type                           0.017\n",
       "Operator                               0.010\n",
       "Latitude                               0.004\n",
       "Area of the state                      0.004\n",
       "Population                             0.002\n",
       "Rainfall                               0.002\n",
       "Average Signal Strength Download       0.001\n",
       "In Out Travelling                      0.000\n",
       "Rating                                 0.000\n",
       "Call Drop Category                     0.000\n",
       "Longitude                              0.000\n",
       "Literacy Rate                          0.000"
      ]
     },
     "execution_count": 61,
     "metadata": {},
     "output_type": "execute_result"
    }
   ],
   "source": [
    "# Get feature importance\n",
    "forest = model[5]\n",
    "importances = pd.DataFrame({'Feature': X.iloc[:,:].columns,'importance': np.round(forest.feature_importances_ , 3)})\n",
    "importances = importances.sort_values('importance', ascending = False).set_index('Feature')\n",
    "importances"
   ]
  },
  {
   "cell_type": "code",
   "execution_count": 62,
   "metadata": {},
   "outputs": [
    {
     "data": {
      "text/plain": [
       "<AxesSubplot:xlabel='Feature'>"
      ]
     },
     "execution_count": 62,
     "metadata": {},
     "output_type": "execute_result"
    },
    {
     "data": {
      "image/png": "[encoded data removed]",
      "text/plain": [
       "<Figure size 432x288 with 1 Axes>"
      ]
     },
     "metadata": {
      "needs_background": "light"
     },
     "output_type": "display_data"
    }
   ],
   "source": [
    "# Visualize the importance\n",
    "importances.plot.bar()"
   ]
  },
  {
   "cell_type": "code",
   "execution_count": 63,
   "metadata": {},
   "outputs": [
    {
     "data": {
      "text/html": [
       "<div>\n",
       "<style scoped>\n",
       "    .dataframe tbody tr th:only-of-type {\n",
       "        vertical-align: middle;\n",
       "    }\n",
       "\n",
       "    .dataframe tbody tr th {\n",
       "        vertical-align: top;\n",
       "    }\n",
       "\n",
       "    .dataframe thead th {\n",
       "        text-align: right;\n",
       "    }\n",
       "</style>\n",
       "<table border=\"1\" class=\"dataframe\">\n",
       "  <thead>\n",
       "    <tr style=\"text-align: right;\">\n",
       "      <th></th>\n",
       "      <th>Operator</th>\n",
       "      <th>Network Type</th>\n",
       "      <th>Latitude</th>\n",
       "      <th>Longitude</th>\n",
       "      <th>Average Data Speed Upload</th>\n",
       "      <th>Average Signal Strength Upload</th>\n",
       "    </tr>\n",
       "  </thead>\n",
       "  <tbody>\n",
       "    <tr>\n",
       "      <th>0</th>\n",
       "      <td>0</td>\n",
       "      <td>1</td>\n",
       "      <td>12.998502</td>\n",
       "      <td>77.672437</td>\n",
       "      <td>2591.08</td>\n",
       "      <td>-94.840</td>\n",
       "    </tr>\n",
       "    <tr>\n",
       "      <th>1</th>\n",
       "      <td>4</td>\n",
       "      <td>1</td>\n",
       "      <td>23.554190</td>\n",
       "      <td>72.620110</td>\n",
       "      <td>4671.48</td>\n",
       "      <td>-91.920</td>\n",
       "    </tr>\n",
       "    <tr>\n",
       "      <th>2</th>\n",
       "      <td>0</td>\n",
       "      <td>0</td>\n",
       "      <td>11.327329</td>\n",
       "      <td>76.749743</td>\n",
       "      <td>968.58</td>\n",
       "      <td>-85.470</td>\n",
       "    </tr>\n",
       "    <tr>\n",
       "      <th>3</th>\n",
       "      <td>0</td>\n",
       "      <td>1</td>\n",
       "      <td>22.279660</td>\n",
       "      <td>73.149369</td>\n",
       "      <td>2515.34</td>\n",
       "      <td>-89.515</td>\n",
       "    </tr>\n",
       "    <tr>\n",
       "      <th>4</th>\n",
       "      <td>0</td>\n",
       "      <td>1</td>\n",
       "      <td>18.546344</td>\n",
       "      <td>73.819090</td>\n",
       "      <td>4968.27</td>\n",
       "      <td>-94.110</td>\n",
       "    </tr>\n",
       "  </tbody>\n",
       "</table>\n",
       "</div>"
      ],
      "text/plain": [
       "   Operator  Network Type   Latitude  Longitude  Average Data Speed Upload  \\\n",
       "0         0             1  12.998502  77.672437                    2591.08   \n",
       "1         4             1  23.554190  72.620110                    4671.48   \n",
       "2         0             0  11.327329  76.749743                     968.58   \n",
       "3         0             1  22.279660  73.149369                    2515.34   \n",
       "4         0             1  18.546344  73.819090                    4968.27   \n",
       "\n",
       "   Average Signal Strength Upload  \n",
       "0                         -94.840  \n",
       "1                         -91.920  \n",
       "2                         -85.470  \n",
       "3                         -89.515  \n",
       "4                         -94.110  "
      ]
     },
     "execution_count": 63,
     "metadata": {},
     "output_type": "execute_result"
    }
   ],
   "source": [
    "data2 = data1.drop(['Rating',\n",
    "       'Call Drop Category','Population', 'Literacy Rate', 'Rainfall', 'Area of the state','Call Drop Category','Average Signal Strength Download','In Out Travelling','Average Data Speed Download'], axis = 1)\n",
    "data2.head()"
   ]
  },
  {
   "cell_type": "markdown",
   "metadata": {},
   "source": [
    "### Final Random forest regressor model based on feature selection "
   ]
  },
  {
   "cell_type": "code",
   "execution_count": 66,
   "metadata": {},
   "outputs": [],
   "source": [
    "X = data2\n",
    "y = data1['Average Data Speed Download']"
   ]
  },
  {
   "cell_type": "code",
   "execution_count": 67,
   "metadata": {},
   "outputs": [],
   "source": [
    "# Split the dataset for training (80%) and testing(20%)\n",
    "from sklearn.model_selection import train_test_split\n",
    "X_train,X_test, y_train,y_test = train_test_split(X,y, test_size = 0.2, random_state = 0)"
   ]
  },
  {
   "cell_type": "code",
   "execution_count": 98,
   "metadata": {},
   "outputs": [],
   "source": [
    "# Scale the data\n",
    "from sklearn.preprocessing import StandardScaler\n",
    "sc = StandardScaler()\n",
    "X_train = sc.fit_transform(X_train)\n",
    "X_test = sc.fit_transform(X_test)"
   ]
  },
  {
   "cell_type": "code",
   "execution_count": 69,
   "metadata": {},
   "outputs": [
    {
     "data": {
      "text/plain": [
       "0.9999978444004907"
      ]
     },
     "execution_count": 69,
     "metadata": {},
     "output_type": "execute_result"
    }
   ],
   "source": [
    "# Use the Random Forest Regressor\n",
    "from sklearn.ensemble import RandomForestRegressor\n",
    "forest = RandomForestRegressor(n_estimators = 100, criterion='mse')\n",
    "forest.fit(X_train, y_train)\n",
    "\n",
    "# Get and train all of the models\n",
    "forest.score(X_train, y_train)"
   ]
  },
  {
   "cell_type": "code",
   "execution_count": 70,
   "metadata": {},
   "outputs": [
    {
     "name": "stdout",
     "output_type": "stream",
     "text": [
      "Random Forest Regressor testing Accuracy (MSE):   302.7341238409936\n",
      "Random Forest Regressor testing Accuracy (R2 Score):   0.9990315025421401\n"
     ]
    }
   ],
   "source": [
    "## Testing Accuracy for the model\n",
    "\n",
    "from sklearn.metrics import mean_squared_error\n",
    "from sklearn.metrics import r2_score\n",
    "y_pred = forest.predict(X_test)\n",
    "print(\"Random Forest Regressor testing Accuracy (MSE):  \"  , mean_squared_error(y_test, y_pred, squared=False))\n",
    "print(\"Random Forest Regressor testing Accuracy (R2 Score):  \"  , r2_score(y_test, y_pred))"
   ]
  },
  {
   "cell_type": "code",
   "execution_count": 71,
   "metadata": {},
   "outputs": [
    {
     "data": {
      "text/html": [
       "<div>\n",
       "<style scoped>\n",
       "    .dataframe tbody tr th:only-of-type {\n",
       "        vertical-align: middle;\n",
       "    }\n",
       "\n",
       "    .dataframe tbody tr th {\n",
       "        vertical-align: top;\n",
       "    }\n",
       "\n",
       "    .dataframe thead th {\n",
       "        text-align: right;\n",
       "    }\n",
       "</style>\n",
       "<table border=\"1\" class=\"dataframe\">\n",
       "  <thead>\n",
       "    <tr style=\"text-align: right;\">\n",
       "      <th></th>\n",
       "      <th>importance</th>\n",
       "    </tr>\n",
       "    <tr>\n",
       "      <th>Feature</th>\n",
       "      <th></th>\n",
       "    </tr>\n",
       "  </thead>\n",
       "  <tbody>\n",
       "    <tr>\n",
       "      <th>Average Data Speed Upload</th>\n",
       "      <td>0.662</td>\n",
       "    </tr>\n",
       "    <tr>\n",
       "      <th>Average Signal Strength Upload</th>\n",
       "      <td>0.306</td>\n",
       "    </tr>\n",
       "    <tr>\n",
       "      <th>Network Type</th>\n",
       "      <td>0.015</td>\n",
       "    </tr>\n",
       "    <tr>\n",
       "      <th>Operator</th>\n",
       "      <td>0.010</td>\n",
       "    </tr>\n",
       "    <tr>\n",
       "      <th>Latitude</th>\n",
       "      <td>0.005</td>\n",
       "    </tr>\n",
       "    <tr>\n",
       "      <th>Longitude</th>\n",
       "      <td>0.002</td>\n",
       "    </tr>\n",
       "  </tbody>\n",
       "</table>\n",
       "</div>"
      ],
      "text/plain": [
       "                                importance\n",
       "Feature                                   \n",
       "Average Data Speed Upload            0.662\n",
       "Average Signal Strength Upload       0.306\n",
       "Network Type                         0.015\n",
       "Operator                             0.010\n",
       "Latitude                             0.005\n",
       "Longitude                            0.002"
      ]
     },
     "execution_count": 71,
     "metadata": {},
     "output_type": "execute_result"
    }
   ],
   "source": [
    "# Feature Importances\n",
    "importances = pd.DataFrame({'Feature': X.iloc[:,:].columns,'importance': np.round(forest.feature_importances_ , 3)})\n",
    "importances = importances.sort_values('importance', ascending = False).set_index('Feature')\n",
    "importances"
   ]
  },
  {
   "cell_type": "code",
   "execution_count": 72,
   "metadata": {},
   "outputs": [
    {
     "data": {
      "text/plain": [
       "<AxesSubplot:xlabel='Feature'>"
      ]
     },
     "execution_count": 72,
     "metadata": {},
     "output_type": "execute_result"
    },
    {
     "data": {
      "image/png": "[encoded data removed]",
      "text/plain": [
       "<Figure size 432x288 with 1 Axes>"
      ]
     },
     "metadata": {
      "needs_background": "light"
     },
     "output_type": "display_data"
    }
   ],
   "source": [
    "# Visualize the importance\n",
    "importances.plot.bar()"
   ]
  },
  {
   "cell_type": "code",
   "execution_count": 73,
   "metadata": {},
   "outputs": [
    {
     "name": "stdout",
     "output_type": "stream",
     "text": [
      "Enter operator:  0\n",
      "3G or 4G: 1\n",
      "Enter latitude: 12.68\n",
      "Enter longitude: 73.84\n",
      "Enter Avg data speed Upload: 4724\n",
      "Enter Signal Upload strength:  -78.6\n",
      "[16950.36]\n"
     ]
    }
   ],
   "source": [
    "operator = int(input(\"Enter operator:  \"))\n",
    "network = int(input(\"3G or 4G: \"))\n",
    "latitude= float(input(\"Enter latitude: \"))\n",
    "longitude = float(input(\"Enter longitude: \"))\n",
    "avg_upload = float(input(\"Enter Avg data speed Upload: \"))\n",
    "avg_signal = float(input(\"Enter Signal Upload strength:  \"))\n",
    "\n",
    "my_value = [[operator,network,latitude,longitude,avg_upload,avg_signal]]\n",
    "\n",
    "# print prediction using model[ Check model_number]\n",
    "pred = forest.predict(my_value)\n",
    "print(pred)\n"
   ]
  },
  {
   "cell_type": "code",
   "execution_count": null,
   "metadata": {},
   "outputs": [],
   "source": []
  }
 ],
 "metadata": {
  "kernelspec": {
   "display_name": "Python 3",
   "language": "python",
   "name": "python3"
  },
  "language_info": {
   "codemirror_mode": {
    "name": "ipython",
    "version": 3
   },
   "file_extension": ".py",
   "mimetype": "text/x-python",
   "name": "python",
   "nbconvert_exporter": "python",
   "pygments_lexer": "ipython3",
   "version": "3.8.3"
  }
 },
 "nbformat": 4,
 "nbformat_minor": 4
}
